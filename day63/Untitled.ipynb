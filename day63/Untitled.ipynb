{
 "cells": [
  {
   "cell_type": "code",
   "execution_count": 52,
   "id": "271cff13-0189-4dd6-a598-77f7426255c1",
   "metadata": {},
   "outputs": [],
   "source": [
    "from sklearn.datasets import load_diabetes\n",
    "from sklearn.metrics import r2_score\n",
    "import numpy as np"
   ]
  },
  {
   "cell_type": "code",
   "execution_count": 53,
   "id": "258a931f-7bfd-4b65-96c7-6c6944a60944",
   "metadata": {},
   "outputs": [],
   "source": [
    "X, y = load_diabetes(return_X_y = True)"
   ]
  },
  {
   "cell_type": "code",
   "execution_count": 54,
   "id": "2fd86767-3692-4abd-a987-29e9b7155a0a",
   "metadata": {},
   "outputs": [],
   "source": [
    "from sklearn.model_selection import train_test_split"
   ]
  },
  {
   "cell_type": "code",
   "execution_count": 55,
   "id": "0c2c5baa-65e3-47b3-850c-43d6f6048d19",
   "metadata": {},
   "outputs": [],
   "source": [
    "X_train, X_test, y_train, y_test = train_test_split(X, y, test_size = 0.2, random_state = 4)"
   ]
  },
  {
   "cell_type": "code",
   "execution_count": 56,
   "id": "7116c0d1-26b7-43b1-bebd-2d9afec2c553",
   "metadata": {},
   "outputs": [],
   "source": [
    "from sklearn.linear_model import Ridge"
   ]
  },
  {
   "cell_type": "code",
   "execution_count": 62,
   "id": "80e92b7f-6f8d-4154-bf98-4e8d91d83d33",
   "metadata": {},
   "outputs": [],
   "source": [
    "reg = Ridge(alpha = 0.1, solver= 'cholesky')"
   ]
  },
  {
   "cell_type": "code",
   "execution_count": 63,
   "id": "d1d80246-678d-48d3-9943-973245ad31e6",
   "metadata": {},
   "outputs": [],
   "source": [
    "reg.fit(X_train, y_train)\n",
    "y_pred = reg.predict(X_test)"
   ]
  },
  {
   "cell_type": "code",
   "execution_count": 64,
   "id": "30b3e1b0-bae4-4260-b755-49adf289ac2b",
   "metadata": {},
   "outputs": [
    {
     "data": {
      "text/plain": [
       "0.46931288533098037"
      ]
     },
     "execution_count": 64,
     "metadata": {},
     "output_type": "execute_result"
    }
   ],
   "source": [
    "r2_score(y_test, y_pred)"
   ]
  },
  {
   "cell_type": "code",
   "execution_count": 65,
   "id": "1132c7e2-4c99-4e1f-8bd4-ab9165f394ae",
   "metadata": {},
   "outputs": [
    {
     "data": {
      "text/plain": [
       "array([  44.02063391, -241.69329987,  452.98665299,  332.04420177,\n",
       "        -76.33686744,  -68.52143809, -164.98809083,  149.96908118,\n",
       "        431.61347417,   58.51862681])"
      ]
     },
     "execution_count": 65,
     "metadata": {},
     "output_type": "execute_result"
    }
   ],
   "source": [
    "reg.coef_"
   ]
  },
  {
   "cell_type": "code",
   "execution_count": 66,
   "id": "9bb6f7cf-5a2c-4cff-99b4-86dee510f380",
   "metadata": {},
   "outputs": [
    {
     "data": {
      "text/plain": [
       "150.89053425602808"
      ]
     },
     "execution_count": 66,
     "metadata": {},
     "output_type": "execute_result"
    }
   ],
   "source": [
    "reg.intercept_"
   ]
  },
  {
   "cell_type": "code",
   "execution_count": 109,
   "id": "c5957f12-f9d4-41d7-9e27-b9099b454083",
   "metadata": {},
   "outputs": [],
   "source": [
    "class MeraRidge:\n",
    "    def __init__(self, alpha = 0.1):\n",
    "        self.alpha = alpha\n",
    "        self.coef_ = None\n",
    "        self.intercept_ = None\n",
    "\n",
    "    def fit(self, X_train, y_train):\n",
    "        X_train = np.insert(X_train, 0, 1, axis = 1)\n",
    "        I = np.identity(X_train.shape[1])\n",
    "        first = np.linalg.inv(np.dot(X_train.T, X_train) + self.alpha * I)\n",
    "        second = np.dot(X_train.T, y_train)\n",
    "        result = np.dot(first, second)\n",
    "        \n",
    "        #I[0][0] = 0\n",
    "        #result = np.linalg.inv(np.dot(X_train.T, X_train) + self.alpha * I).dot(X_train.T).dot(y_train)\n",
    "        \n",
    "        self.intercept_ = result[0]\n",
    "        self.coef_ = result[1:]\n",
    "\n",
    "    def predict(self, X_test):\n",
    "        return np.dot(X_test, self.coef_) + self.intercept_\n"
   ]
  },
  {
   "cell_type": "code",
   "execution_count": 110,
   "id": "93927344-44b9-4836-8f72-52eee4bc8019",
   "metadata": {},
   "outputs": [],
   "source": [
    "reg1 = MeraRidge()"
   ]
  },
  {
   "cell_type": "code",
   "execution_count": 111,
   "id": "dae4c3e7-548d-43ab-8221-eeae7387a8e9",
   "metadata": {},
   "outputs": [],
   "source": [
    "reg1.fit(X_train, y_train)"
   ]
  },
  {
   "cell_type": "code",
   "execution_count": 112,
   "id": "6d546fef-fc09-4f65-b16e-a3250946e78f",
   "metadata": {},
   "outputs": [],
   "source": [
    "y_pred = reg1.predict(X_test)"
   ]
  },
  {
   "cell_type": "code",
   "execution_count": 113,
   "id": "59a04561-086c-4bab-a0cc-7a36a3ed57a6",
   "metadata": {},
   "outputs": [
    {
     "data": {
      "text/plain": [
       "0.4692136155993192"
      ]
     },
     "execution_count": 113,
     "metadata": {},
     "output_type": "execute_result"
    }
   ],
   "source": [
    "r2_score(y_test, y_pred)"
   ]
  },
  {
   "cell_type": "code",
   "execution_count": 114,
   "id": "eb7c73f6-297e-4521-931e-15fed05f10db",
   "metadata": {},
   "outputs": [
    {
     "data": {
      "text/plain": [
       "array([  44.04252774, -241.72019592,  452.99153345,  332.06044266,\n",
       "        -76.32617866,  -68.54884462, -165.01664054,  149.93980143,\n",
       "        431.59483654,   58.54419942])"
      ]
     },
     "execution_count": 114,
     "metadata": {},
     "output_type": "execute_result"
    }
   ],
   "source": [
    "reg1.coef_"
   ]
  },
  {
   "cell_type": "code",
   "execution_count": 115,
   "id": "47d810d6-a6e2-4f7d-9085-802874336d18",
   "metadata": {},
   "outputs": [
    {
     "data": {
      "text/plain": [
       "150.84762720023164"
      ]
     },
     "execution_count": 115,
     "metadata": {},
     "output_type": "execute_result"
    }
   ],
   "source": [
    "reg1.intercept_"
   ]
  },
  {
   "cell_type": "code",
   "execution_count": null,
   "id": "b779df6a-7604-475e-8847-70dd42387b8b",
   "metadata": {},
   "outputs": [],
   "source": []
  },
  {
   "cell_type": "code",
   "execution_count": null,
   "id": "c77aafc1-6ff6-41ec-90de-3cf000288432",
   "metadata": {},
   "outputs": [],
   "source": []
  }
 ],
 "metadata": {
  "kernelspec": {
   "display_name": "Python 3 (ipykernel)",
   "language": "python",
   "name": "python3"
  },
  "language_info": {
   "codemirror_mode": {
    "name": "ipython",
    "version": 3
   },
   "file_extension": ".py",
   "mimetype": "text/x-python",
   "name": "python",
   "nbconvert_exporter": "python",
   "pygments_lexer": "ipython3",
   "version": "3.12.7"
  }
 },
 "nbformat": 4,
 "nbformat_minor": 5
}
