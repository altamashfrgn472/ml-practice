{
 "cells": [
  {
   "cell_type": "code",
   "execution_count": 206,
   "id": "141ea00b-d955-40e9-9a13-36595a6198ca",
   "metadata": {},
   "outputs": [],
   "source": [
    "import numpy as np\n",
    "import pandas as pd\n",
    "import matplotlib as plt"
   ]
  },
  {
   "cell_type": "code",
   "execution_count": 214,
   "id": "541283c2-5608-4e62-9754-f034f9f17f9a",
   "metadata": {},
   "outputs": [],
   "source": [
    "import numpy as np\n",
    "\n",
    "class meralr3:\n",
    "    def __init__(self):\n",
    "        self.m = None\n",
    "        self.b = None\n",
    "\n",
    "    def fit(self, X_train, y_train):\n",
    "        num = 0\n",
    "        den = 0\n",
    "        X_train_mean = X_train.mean()\n",
    "        y_train_mean = y_train.mean()\n",
    "\n",
    "        for i in range(len(X_train)):\n",
    "            num += (X_train[i] - X_train_mean) * (y_train[i] - y_train_mean)\n",
    "            den += (X_train[i] - X_train_mean) ** 2\n",
    "\n",
    "        self.m = num / den\n",
    "        self.b = y_train_mean - (self.m * X_train_mean)\n",
    "\n",
    "    def predict(self, X_test):\n",
    "        return self.m * X_test + self.b\n",
    "\n",
    "    def MAE(self, X_test, y_test):\n",
    "        y_pred1 = self.predict(X_test)\n",
    "        value1 = np.sum(abs(y_test - y_pred1))\n",
    "        return value1 / len(y_test)\n",
    "\n",
    "    def MSE(self, X_test, y_test):\n",
    "        y_pred2 = self.predict(X_test)\n",
    "        value2 = np.sum((y_test - y_pred2) ** 2)\n",
    "        return value2 / len(y_test)\n",
    "\n",
    "    def RMSE(self, X_test, y_test):\n",
    "        y_pred3 = self.predict(X_test)\n",
    "        value3 = np.sum((y_test - y_pred3) ** 2)\n",
    "        return np.sqrt(value3 / len(y_test))\n",
    "\n",
    "    def R2(self, X_test, y_test):\n",
    "        y_pred4 = self.predict(X_test)\n",
    "        upper = np.sum((y_test - y_pred4) ** 2)\n",
    "        lower = np.sum((y_test - y_test.mean()) ** 2)\n",
    "        return 1 - (upper / lower)\n",
    "\n",
    "    def adjR2(self, X_test, y_test):\n",
    "        n = len(X_test)\n",
    "        k = X_test.shape[1] if X_test.ndim > 1 else 1\n",
    "        r2 = self.R2(X_test, y_test)\n",
    "        return 1 - ((1 - r2) * (n - 1) / (n - k - 1))\n",
    "        "
   ]
  },
  {
   "cell_type": "code",
   "execution_count": null,
   "id": "dc0db482-619d-425f-ac4f-b64a13700f76",
   "metadata": {},
   "outputs": [],
   "source": []
  },
  {
   "cell_type": "code",
   "execution_count": 208,
   "id": "f396ea94-33bb-4eb2-917e-f5fc003cf2d6",
   "metadata": {},
   "outputs": [],
   "source": [
    "df = pd.read_csv('Salary_Data.csv')"
   ]
  },
  {
   "cell_type": "code",
   "execution_count": 209,
   "id": "d5cef43b-6da1-4851-9b49-93bf1b173ab1",
   "metadata": {},
   "outputs": [
    {
     "data": {
      "text/html": [
       "<div>\n",
       "<style scoped>\n",
       "    .dataframe tbody tr th:only-of-type {\n",
       "        vertical-align: middle;\n",
       "    }\n",
       "\n",
       "    .dataframe tbody tr th {\n",
       "        vertical-align: top;\n",
       "    }\n",
       "\n",
       "    .dataframe thead th {\n",
       "        text-align: right;\n",
       "    }\n",
       "</style>\n",
       "<table border=\"1\" class=\"dataframe\">\n",
       "  <thead>\n",
       "    <tr style=\"text-align: right;\">\n",
       "      <th></th>\n",
       "      <th>YearsExperience</th>\n",
       "      <th>Salary</th>\n",
       "    </tr>\n",
       "  </thead>\n",
       "  <tbody>\n",
       "    <tr>\n",
       "      <th>0</th>\n",
       "      <td>1.1</td>\n",
       "      <td>39343.0</td>\n",
       "    </tr>\n",
       "    <tr>\n",
       "      <th>1</th>\n",
       "      <td>1.3</td>\n",
       "      <td>46205.0</td>\n",
       "    </tr>\n",
       "    <tr>\n",
       "      <th>2</th>\n",
       "      <td>1.5</td>\n",
       "      <td>37731.0</td>\n",
       "    </tr>\n",
       "    <tr>\n",
       "      <th>3</th>\n",
       "      <td>2.0</td>\n",
       "      <td>43525.0</td>\n",
       "    </tr>\n",
       "    <tr>\n",
       "      <th>4</th>\n",
       "      <td>2.2</td>\n",
       "      <td>39891.0</td>\n",
       "    </tr>\n",
       "  </tbody>\n",
       "</table>\n",
       "</div>"
      ],
      "text/plain": [
       "   YearsExperience   Salary\n",
       "0              1.1  39343.0\n",
       "1              1.3  46205.0\n",
       "2              1.5  37731.0\n",
       "3              2.0  43525.0\n",
       "4              2.2  39891.0"
      ]
     },
     "execution_count": 209,
     "metadata": {},
     "output_type": "execute_result"
    }
   ],
   "source": [
    "df.head()"
   ]
  },
  {
   "cell_type": "code",
   "execution_count": 217,
   "id": "ce35caa5-5fd6-4724-ad71-da950a035f1e",
   "metadata": {},
   "outputs": [],
   "source": [
    "X = df.iloc[:, 0].values\n",
    "y = df.iloc[:, 1].values"
   ]
  },
  {
   "cell_type": "code",
   "execution_count": 218,
   "id": "7ed555b2-8433-4b03-b72d-05724c6ab23f",
   "metadata": {},
   "outputs": [],
   "source": [
    "from sklearn.model_selection import train_test_split\n",
    "X_train, X_test, y_train, y_test = train_test_split(X, y, test_size = 0.2, random_state = 2)"
   ]
  },
  {
   "cell_type": "code",
   "execution_count": 222,
   "id": "9cf8f87b-d1e2-4554-919d-a1b014ee8b52",
   "metadata": {},
   "outputs": [
    {
     "data": {
      "text/plain": [
       "array([1.3, 1.1, 4.5, 3.7, 7.1, 6. ])"
      ]
     },
     "execution_count": 222,
     "metadata": {},
     "output_type": "execute_result"
    }
   ],
   "source": [
    "X_test"
   ]
  },
  {
   "cell_type": "code",
   "execution_count": 219,
   "id": "fe2e4cd9-9e28-4b0d-b4b0-6e4af074de8a",
   "metadata": {},
   "outputs": [],
   "source": [
    "lr1 = meralr3()"
   ]
  },
  {
   "cell_type": "code",
   "execution_count": 220,
   "id": "536bb225-ca69-4019-9a9f-959c95e5fbfc",
   "metadata": {},
   "outputs": [],
   "source": [
    "lr1.fit(X_train, y_train)"
   ]
  },
  {
   "cell_type": "code",
   "execution_count": 238,
   "id": "9223a75b-f5df-402b-83a8-ae835f64c274",
   "metadata": {},
   "outputs": [
    {
     "data": {
      "text/plain": [
       "67456.31013639623"
      ]
     },
     "execution_count": 238,
     "metadata": {},
     "output_type": "execute_result"
    }
   ],
   "source": [
    "y_pred1 = lr1.predict(X_test[2])\n",
    "lr1.predict(X_test[2])"
   ]
  },
  {
   "cell_type": "code",
   "execution_count": 225,
   "id": "1a02fd53-bb21-4e4f-b0e9-293f8750c375",
   "metadata": {},
   "outputs": [
    {
     "data": {
      "text/plain": [
       "4.5"
      ]
     },
     "execution_count": 225,
     "metadata": {},
     "output_type": "execute_result"
    }
   ],
   "source": [
    "X_test[2]"
   ]
  },
  {
   "cell_type": "code",
   "execution_count": 226,
   "id": "52c97775-5df1-445c-a154-903cf8c0fdb4",
   "metadata": {},
   "outputs": [
    {
     "data": {
      "text/plain": [
       "(6,)"
      ]
     },
     "execution_count": 226,
     "metadata": {},
     "output_type": "execute_result"
    }
   ],
   "source": [
    "X_test.shape"
   ]
  },
  {
   "cell_type": "code",
   "execution_count": 227,
   "id": "5fc0578a-07d5-474f-acff-86af308cfa81",
   "metadata": {},
   "outputs": [
    {
     "data": {
      "text/plain": [
       "(24,)"
      ]
     },
     "execution_count": 227,
     "metadata": {},
     "output_type": "execute_result"
    }
   ],
   "source": [
    "X_train.shape"
   ]
  },
  {
   "cell_type": "code",
   "execution_count": 229,
   "id": "00898e0c-386b-4918-baa4-4858fa5dd839",
   "metadata": {},
   "outputs": [
    {
     "data": {
      "text/plain": [
       "61111.0"
      ]
     },
     "execution_count": 229,
     "metadata": {},
     "output_type": "execute_result"
    }
   ],
   "source": [
    " "
   ]
  },
  {
   "cell_type": "code",
   "execution_count": 230,
   "id": "88b85a90-2001-43af-99c9-890a35a1b8d8",
   "metadata": {},
   "outputs": [
    {
     "data": {
      "text/plain": [
       "array([46205., 39343., 61111., 57189., 98273., 93940.])"
      ]
     },
     "execution_count": 230,
     "metadata": {},
     "output_type": "execute_result"
    }
   ],
   "source": [
    "y_test"
   ]
  },
  {
   "cell_type": "code",
   "execution_count": 239,
   "id": "7235362b-e3dc-419b-ab1b-aad8ab809c34",
   "metadata": {},
   "outputs": [
    {
     "data": {
      "text/plain": [
       "6802.779572073899"
      ]
     },
     "execution_count": 239,
     "metadata": {},
     "output_type": "execute_result"
    }
   ],
   "source": [
    "lr1.MAE(X_test, y_test)"
   ]
  },
  {
   "cell_type": "code",
   "execution_count": 240,
   "id": "2d018cfa-555f-457e-8565-6659c9635183",
   "metadata": {},
   "outputs": [
    {
     "data": {
      "text/plain": [
       "56137509.997825526"
      ]
     },
     "execution_count": 240,
     "metadata": {},
     "output_type": "execute_result"
    }
   ],
   "source": [
    "lr1.MSE(X_test, y_test)"
   ]
  },
  {
   "cell_type": "code",
   "execution_count": 241,
   "id": "1089664b-473f-4f81-abf1-3af9314833c0",
   "metadata": {},
   "outputs": [
    {
     "data": {
      "text/plain": [
       "7492.496913434501"
      ]
     },
     "execution_count": 241,
     "metadata": {},
     "output_type": "execute_result"
    }
   ],
   "source": [
    "lr1.RMSE(X_test, y_test)"
   ]
  },
  {
   "cell_type": "code",
   "execution_count": 242,
   "id": "061a7b70-2d08-4ab3-b121-739877037655",
   "metadata": {},
   "outputs": [
    {
     "data": {
      "text/plain": [
       "0.8886956733784563"
      ]
     },
     "execution_count": 242,
     "metadata": {},
     "output_type": "execute_result"
    }
   ],
   "source": [
    "lr1.R2(X_test, y_test)"
   ]
  },
  {
   "cell_type": "code",
   "execution_count": 243,
   "id": "642bb32c-5953-4aee-bc87-fe14b53d3a4b",
   "metadata": {},
   "outputs": [
    {
     "data": {
      "text/plain": [
       "0.8608695917230704"
      ]
     },
     "execution_count": 243,
     "metadata": {},
     "output_type": "execute_result"
    }
   ],
   "source": [
    "lr1.adjR2(X_test, y_test)"
   ]
  },
  {
   "cell_type": "code",
   "execution_count": null,
   "id": "a4dc4678-7999-4463-94a5-3d1e412524ca",
   "metadata": {},
   "outputs": [],
   "source": [
    "mae = mean_absolute_error(y_test, y_pred)\n",
    "mse = mean_squared_error(y_test, y_pred)\n",
    "rmse = mean_squared_error(y_test, y_pred, squared=False)  # RMSE is sqrt of MSE\n",
    "r2 = r2_score(y_test, y_pred)"
   ]
  }
 ],
 "metadata": {
  "kernelspec": {
   "display_name": "Python 3 (ipykernel)",
   "language": "python",
   "name": "python3"
  },
  "language_info": {
   "codemirror_mode": {
    "name": "ipython",
    "version": 3
   },
   "file_extension": ".py",
   "mimetype": "text/x-python",
   "name": "python",
   "nbconvert_exporter": "python",
   "pygments_lexer": "ipython3",
   "version": "3.12.7"
  }
 },
 "nbformat": 4,
 "nbformat_minor": 5
}
