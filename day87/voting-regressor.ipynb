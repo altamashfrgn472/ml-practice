{
 "cells": [
  {
   "cell_type": "code",
   "execution_count": 1,
   "id": "a18cd600-b6f8-4ca8-8dec-c4f4d4997e57",
   "metadata": {},
   "outputs": [],
   "source": [
    "import numpy as np"
   ]
  },
  {
   "cell_type": "code",
   "execution_count": 2,
   "id": "b0808e5f-03cd-48bb-b493-298d9ef91ac9",
   "metadata": {},
   "outputs": [],
   "source": [
    "# i have taken different datasets bcz load_boston from sklearn is removes\n",
    "from sklearn.datasets import fetch_california_housing\n",
    "import pandas as pd\n",
    "\n",
    "X, y = fetch_california_housing(return_X_y = True)"
   ]
  },
  {
   "cell_type": "code",
   "execution_count": 3,
   "id": "0e5aa29e-7ac7-4e25-a9e7-0a29bf3ad832",
   "metadata": {},
   "outputs": [
    {
     "data": {
      "text/plain": [
       "(20640, 8)"
      ]
     },
     "execution_count": 3,
     "metadata": {},
     "output_type": "execute_result"
    }
   ],
   "source": [
    "X.shape"
   ]
  },
  {
   "cell_type": "code",
   "execution_count": 4,
   "id": "e9f24a36-05fd-45db-97ef-582b9759ba46",
   "metadata": {},
   "outputs": [
    {
     "data": {
      "text/plain": [
       "(20640,)"
      ]
     },
     "execution_count": 4,
     "metadata": {},
     "output_type": "execute_result"
    }
   ],
   "source": [
    "y.shape"
   ]
  },
  {
   "cell_type": "code",
   "execution_count": 5,
   "id": "d997b5fe-c2b8-4bb3-b831-e2e58f7b4589",
   "metadata": {},
   "outputs": [
    {
     "data": {
      "text/plain": [
       "array([[   8.3252    ,   41.        ,    6.98412698, ...,    2.55555556,\n",
       "          37.88      , -122.23      ],\n",
       "       [   8.3014    ,   21.        ,    6.23813708, ...,    2.10984183,\n",
       "          37.86      , -122.22      ],\n",
       "       [   7.2574    ,   52.        ,    8.28813559, ...,    2.80225989,\n",
       "          37.85      , -122.24      ],\n",
       "       ...,\n",
       "       [   1.7       ,   17.        ,    5.20554273, ...,    2.3256351 ,\n",
       "          39.43      , -121.22      ],\n",
       "       [   1.8672    ,   18.        ,    5.32951289, ...,    2.12320917,\n",
       "          39.43      , -121.32      ],\n",
       "       [   2.3886    ,   16.        ,    5.25471698, ...,    2.61698113,\n",
       "          39.37      , -121.24      ]], shape=(20640, 8))"
      ]
     },
     "execution_count": 5,
     "metadata": {},
     "output_type": "execute_result"
    }
   ],
   "source": [
    "X"
   ]
  },
  {
   "cell_type": "code",
   "execution_count": 6,
   "id": "06f6fa6b-b55a-47b3-aa02-55738414cd2d",
   "metadata": {},
   "outputs": [
    {
     "data": {
      "text/plain": [
       "array([4.526, 3.585, 3.521, ..., 0.923, 0.847, 0.894], shape=(20640,))"
      ]
     },
     "execution_count": 6,
     "metadata": {},
     "output_type": "execute_result"
    }
   ],
   "source": [
    "y"
   ]
  },
  {
   "cell_type": "code",
   "execution_count": 7,
   "id": "1a401f91-c814-43dd-97ef-2d1abde78eca",
   "metadata": {},
   "outputs": [],
   "source": [
    "from sklearn.linear_model import LinearRegression\n",
    "from sklearn.tree import DecisionTreeRegressor\n",
    "from sklearn.svm import SVR\n",
    "from sklearn.model_selection import cross_val_score"
   ]
  },
  {
   "cell_type": "code",
   "execution_count": 8,
   "id": "2f1a02a8-2cde-4b28-9263-e2c07389e1b4",
   "metadata": {},
   "outputs": [],
   "source": [
    "lr = LinearRegression()\n",
    "dt = DecisionTreeRegressor()\n",
    "svr = SVR()"
   ]
  },
  {
   "cell_type": "code",
   "execution_count": 9,
   "id": "a6bcb544-39a3-4a7b-837d-0e308593cc6e",
   "metadata": {},
   "outputs": [],
   "source": [
    "estimators = [('lr', lr), ('dt', dt), ('svr', svr)]"
   ]
  },
  {
   "cell_type": "code",
   "execution_count": 10,
   "id": "73ff40f6-fadf-4717-9021-3abb28012bd6",
   "metadata": {},
   "outputs": [
    {
     "name": "stdout",
     "output_type": "stream",
     "text": [
      "lr 0.51\n",
      "dt 0.23\n",
      "svr -0.25\n"
     ]
    }
   ],
   "source": [
    "for estimator in estimators:\n",
    "    scores = cross_val_score(estimator[1], X, y, scoring = 'r2', cv = 10)\n",
    "    print(estimator[0], np.round(np.mean(scores), 2))"
   ]
  },
  {
   "cell_type": "code",
   "execution_count": 11,
   "id": "9f226d9d-c4bd-4310-b1eb-45458c0645a0",
   "metadata": {},
   "outputs": [],
   "source": [
    "from sklearn.ensemble import VotingRegressor"
   ]
  },
  {
   "cell_type": "code",
   "execution_count": 12,
   "id": "49d5f99f-47ea-43da-b418-58bc7e504428",
   "metadata": {},
   "outputs": [
    {
     "name": "stdout",
     "output_type": "stream",
     "text": [
      "Voting Regression 0.48\n"
     ]
    }
   ],
   "source": [
    "vr = VotingRegressor(estimators)\n",
    "scores = cross_val_score(vr, X, y, scoring = 'r2', cv = 10)\n",
    "print(\"Voting Regression\", np.round(np.mean(scores), 2))"
   ]
  },
  {
   "cell_type": "code",
   "execution_count": null,
   "id": "51e70ba2-78e2-40d6-90e2-de7d02753d18",
   "metadata": {},
   "outputs": [
    {
     "name": "stdout",
     "output_type": "stream",
     "text": [
      "For i = 1, j = 1, k = 1 0.47\n"
     ]
    }
   ],
   "source": [
    "for i in range(1, 4):\n",
    "    for j in range(1, 4):\n",
    "        for k in range(1, 4):\n",
    "            vr = VotingRegressor(estimators, weights = [i, j, k])\n",
    "            scores = cross_val_score(vr, X, y, scoring = 'r2', cv = 10)\n",
    "            print(\"For i = {}, j = {}, k = {}\".format(i, j, k), np.round(np.mean(scores), 2))"
   ]
  },
  {
   "cell_type": "code",
   "execution_count": null,
   "id": "d7982b43-1b87-4b06-886f-d7e7fcab2f12",
   "metadata": {},
   "outputs": [],
   "source": [
    "dt1 = DecisionTreeRegressor(max_depth = 1)\n",
    "dt2 = DecisionTreeRegressor(max_depth = 3)\n",
    "dt3 = DecisionTreeRegressor(max_depth = 5)\n",
    "dt4 = DecisionTreeRegressor(max_depth = 7)\n",
    "dt5 = DecisionTreeRegressor(max_depth = None)"
   ]
  },
  {
   "cell_type": "code",
   "execution_count": null,
   "id": "3d01bc85-23fa-46a9-bdeb-52742e5ee4ca",
   "metadata": {},
   "outputs": [],
   "source": [
    "estimators = [('dt1', dt1), ('dt2', dt2), ('dt3', dt3), ('dt4', dt4), ('dt5', dt5)]"
   ]
  },
  {
   "cell_type": "code",
   "execution_count": null,
   "id": "b6453e7d-03c9-444f-89e7-45ddecc85b3f",
   "metadata": {},
   "outputs": [],
   "source": [
    "for estimator in estimators:\n",
    "    scores = cross_val_Score(vr, X, y, scoring = 'r2', cv = 10)\n",
    "    print(estimator[0], np.round(np.mean(scores), 2))"
   ]
  },
  {
   "cell_type": "code",
   "execution_count": null,
   "id": "eb75e815-7a24-4e5c-8b18-7c13b91cea30",
   "metadata": {},
   "outputs": [],
   "source": [
    "vr = VotingRegressor(estimators)\n",
    "scores = cross_val_score(vr, X, y, scoring = 'r2', cv = 10)\n",
    "print(\"Voting Regressor\", np.round(np.mean(scores), 2))"
   ]
  },
  {
   "cell_type": "code",
   "execution_count": null,
   "id": "9ae2e440-b9f9-4707-b2f7-2c5b78de8313",
   "metadata": {},
   "outputs": [],
   "source": []
  }
 ],
 "metadata": {
  "kernelspec": {
   "display_name": "Python [conda env:campusx]",
   "language": "python",
   "name": "conda-env-campusx-py"
  },
  "language_info": {
   "codemirror_mode": {
    "name": "ipython",
    "version": 3
   },
   "file_extension": ".py",
   "mimetype": "text/x-python",
   "name": "python",
   "nbconvert_exporter": "python",
   "pygments_lexer": "ipython3",
   "version": "3.13.5"
  }
 },
 "nbformat": 4,
 "nbformat_minor": 5
}
