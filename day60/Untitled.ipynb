{
 "cells": [
  {
   "cell_type": "code",
   "execution_count": 18,
   "id": "bac13f2b-1dad-45d1-8272-869120836efe",
   "metadata": {},
   "outputs": [],
   "source": [
    "import numpy as np\n",
    "import matplotlib.pyplot as plt\n",
    "\n",
    "from sklearn.model_selection import train_test_split\n",
    "\n",
    "from sklearn.linear_model import LinearRegression,SGDRegressor\n",
    "\n",
    "from sklearn.preprocessing import PolynomialFeatures,StandardScaler\n",
    "\n",
    "from sklearn.metrics import r2_score\n",
    "\n",
    "from sklearn.pipeline import Pipeline"
   ]
  },
  {
   "cell_type": "code",
   "execution_count": 19,
   "id": "c8c1f550-1ef0-4ad5-b5a5-b3e6bb876cff",
   "metadata": {},
   "outputs": [],
   "source": [
    "X = 6 * np.random.rand(200, 1) - 3\n",
    "y = 0.8 * X**2 + 0.9 * X + 2 + np.random.randn(200, 1)\n",
    "\n",
    "# y = 0.8x^2 + 0.9x + 2"
   ]
  },
  {
   "cell_type": "code",
   "execution_count": 20,
   "id": "a7e306ca-3560-48d9-84e7-2ca2eef9e444",
   "metadata": {},
   "outputs": [
    {
     "data": {
      "image/png": "[encoded data removed]",
      "text/plain": [
       "<Figure size 640x480 with 1 Axes>"
      ]
     },
     "metadata": {},
     "output_type": "display_data"
    }
   ],
   "source": [
    "plt.plot(X, y,'b.')\n",
    "plt.xlabel(\"X\")\n",
    "plt.ylabel(\"y\")\n",
    "plt.show()"
   ]
  },
  {
   "cell_type": "code",
   "execution_count": 22,
   "id": "156e56b1-c71d-43a3-956e-5281681a8768",
   "metadata": {},
   "outputs": [],
   "source": [
    "# Train test split\n",
    "X_train,X_test,y_train,y_test = train_test_split(X,y,test_size=0.2,random_state=2)"
   ]
  },
  {
   "cell_type": "code",
   "execution_count": 23,
   "id": "0a862d7d-1b06-435b-aefe-a8bf8983a743",
   "metadata": {},
   "outputs": [],
   "source": [
    "lr = LinearRegression()"
   ]
  },
  {
   "cell_type": "code",
   "execution_count": 24,
   "id": "c405bd01-843e-4b85-b89b-a91822352355",
   "metadata": {},
   "outputs": [
    {
     "data": {
      "text/html": [
       "<style>#sk-container-id-1 {\n",
       "  /* Definition of color scheme common for light and dark mode */\n",
       "  --sklearn-color-text: black;\n",
       "  --sklearn-color-line: gray;\n",
       "  /* Definition of color scheme for unfitted estimators */\n",
       "  --sklearn-color-unfitted-level-0: #fff5e6;\n",
       "  --sklearn-color-unfitted-level-1: #f6e4d2;\n",
       "  --sklearn-color-unfitted-level-2: #ffe0b3;\n",
       "  --sklearn-color-unfitted-level-3: chocolate;\n",
       "  /* Definition of color scheme for fitted estimators */\n",
       "  --sklearn-color-fitted-level-0: #f0f8ff;\n",
       "  --sklearn-color-fitted-level-1: #d4ebff;\n",
       "  --sklearn-color-fitted-level-2: #b3dbfd;\n",
       "  --sklearn-color-fitted-level-3: cornflowerblue;\n",
       "\n",
       "  /* Specific color for light theme */\n",
       "  --sklearn-color-text-on-default-background: var(--sg-text-color, var(--theme-code-foreground, var(--jp-content-font-color1, black)));\n",
       "  --sklearn-color-background: var(--sg-background-color, var(--theme-background, var(--jp-layout-color0, white)));\n",
       "  --sklearn-color-border-box: var(--sg-text-color, var(--theme-code-foreground, var(--jp-content-font-color1, black)));\n",
       "  --sklearn-color-icon: #696969;\n",
       "\n",
       "  @media (prefers-color-scheme: dark) {\n",
       "    /* Redefinition of color scheme for dark theme */\n",
       "    --sklearn-color-text-on-default-background: var(--sg-text-color, var(--theme-code-foreground, var(--jp-content-font-color1, white)));\n",
       "    --sklearn-color-background: var(--sg-background-color, var(--theme-background, var(--jp-layout-color0, #111)));\n",
       "    --sklearn-color-border-box: var(--sg-text-color, var(--theme-code-foreground, var(--jp-content-font-color1, white)));\n",
       "    --sklearn-color-icon: #878787;\n",
       "  }\n",
       "}\n",
       "\n",
       "#sk-container-id-1 {\n",
       "  color: var(--sklearn-color-text);\n",
       "}\n",
       "\n",
       "#sk-container-id-1 pre {\n",
       "  padding: 0;\n",
       "}\n",
       "\n",
       "#sk-container-id-1 input.sk-hidden--visually {\n",
       "  border: 0;\n",
       "  clip: rect(1px 1px 1px 1px);\n",
       "  clip: rect(1px, 1px, 1px, 1px);\n",
       "  height: 1px;\n",
       "  margin: -1px;\n",
       "  overflow: hidden;\n",
       "  padding: 0;\n",
       "  position: absolute;\n",
       "  width: 1px;\n",
       "}\n",
       "\n",
       "#sk-container-id-1 div.sk-dashed-wrapped {\n",
       "  border: 1px dashed var(--sklearn-color-line);\n",
       "  margin: 0 0.4em 0.5em 0.4em;\n",
       "  box-sizing: border-box;\n",
       "  padding-bottom: 0.4em;\n",
       "  background-color: var(--sklearn-color-background);\n",
       "}\n",
       "\n",
       "#sk-container-id-1 div.sk-container {\n",
       "  /* jupyter's `normalize.less` sets `[hidden] { display: none; }`\n",
       "     but bootstrap.min.css set `[hidden] { display: none !important; }`\n",
       "     so we also need the `!important` here to be able to override the\n",
       "     default hidden behavior on the sphinx rendered scikit-learn.org.\n",
       "     See: https://github.com/scikit-learn/scikit-learn/issues/21755 */\n",
       "  display: inline-block !important;\n",
       "  position: relative;\n",
       "}\n",
       "\n",
       "#sk-container-id-1 div.sk-text-repr-fallback {\n",
       "  display: none;\n",
       "}\n",
       "\n",
       "div.sk-parallel-item,\n",
       "div.sk-serial,\n",
       "div.sk-item {\n",
       "  /* draw centered vertical line to link estimators */\n",
       "  background-image: linear-gradient(var(--sklearn-color-text-on-default-background), var(--sklearn-color-text-on-default-background));\n",
       "  background-size: 2px 100%;\n",
       "  background-repeat: no-repeat;\n",
       "  background-position: center center;\n",
       "}\n",
       "\n",
       "/* Parallel-specific style estimator block */\n",
       "\n",
       "#sk-container-id-1 div.sk-parallel-item::after {\n",
       "  content: \"\";\n",
       "  width: 100%;\n",
       "  border-bottom: 2px solid var(--sklearn-color-text-on-default-background);\n",
       "  flex-grow: 1;\n",
       "}\n",
       "\n",
       "#sk-container-id-1 div.sk-parallel {\n",
       "  display: flex;\n",
       "  align-items: stretch;\n",
       "  justify-content: center;\n",
       "  background-color: var(--sklearn-color-background);\n",
       "  position: relative;\n",
       "}\n",
       "\n",
       "#sk-container-id-1 div.sk-parallel-item {\n",
       "  display: flex;\n",
       "  flex-direction: column;\n",
       "}\n",
       "\n",
       "#sk-container-id-1 div.sk-parallel-item:first-child::after {\n",
       "  align-self: flex-end;\n",
       "  width: 50%;\n",
       "}\n",
       "\n",
       "#sk-container-id-1 div.sk-parallel-item:last-child::after {\n",
       "  align-self: flex-start;\n",
       "  width: 50%;\n",
       "}\n",
       "\n",
       "#sk-container-id-1 div.sk-parallel-item:only-child::after {\n",
       "  width: 0;\n",
       "}\n",
       "\n",
       "/* Serial-specific style estimator block */\n",
       "\n",
       "#sk-container-id-1 div.sk-serial {\n",
       "  display: flex;\n",
       "  flex-direction: column;\n",
       "  align-items: center;\n",
       "  background-color: var(--sklearn-color-background);\n",
       "  padding-right: 1em;\n",
       "  padding-left: 1em;\n",
       "}\n",
       "\n",
       "\n",
       "/* Toggleable style: style used for estimator/Pipeline/ColumnTransformer box that is\n",
       "clickable and can be expanded/collapsed.\n",
       "- Pipeline and ColumnTransformer use this feature and define the default style\n",
       "- Estimators will overwrite some part of the style using the `sk-estimator` class\n",
       "*/\n",
       "\n",
       "/* Pipeline and ColumnTransformer style (default) */\n",
       "\n",
       "#sk-container-id-1 div.sk-toggleable {\n",
       "  /* Default theme specific background. It is overwritten whether we have a\n",
       "  specific estimator or a Pipeline/ColumnTransformer */\n",
       "  background-color: var(--sklearn-color-background);\n",
       "}\n",
       "\n",
       "/* Toggleable label */\n",
       "#sk-container-id-1 label.sk-toggleable__label {\n",
       "  cursor: pointer;\n",
       "  display: block;\n",
       "  width: 100%;\n",
       "  margin-bottom: 0;\n",
       "  padding: 0.5em;\n",
       "  box-sizing: border-box;\n",
       "  text-align: center;\n",
       "}\n",
       "\n",
       "#sk-container-id-1 label.sk-toggleable__label-arrow:before {\n",
       "  /* Arrow on the left of the label */\n",
       "  content: \"▸\";\n",
       "  float: left;\n",
       "  margin-right: 0.25em;\n",
       "  color: var(--sklearn-color-icon);\n",
       "}\n",
       "\n",
       "#sk-container-id-1 label.sk-toggleable__label-arrow:hover:before {\n",
       "  color: var(--sklearn-color-text);\n",
       "}\n",
       "\n",
       "/* Toggleable content - dropdown */\n",
       "\n",
       "#sk-container-id-1 div.sk-toggleable__content {\n",
       "  max-height: 0;\n",
       "  max-width: 0;\n",
       "  overflow: hidden;\n",
       "  text-align: left;\n",
       "  /* unfitted */\n",
       "  background-color: var(--sklearn-color-unfitted-level-0);\n",
       "}\n",
       "\n",
       "#sk-container-id-1 div.sk-toggleable__content.fitted {\n",
       "  /* fitted */\n",
       "  background-color: var(--sklearn-color-fitted-level-0);\n",
       "}\n",
       "\n",
       "#sk-container-id-1 div.sk-toggleable__content pre {\n",
       "  margin: 0.2em;\n",
       "  border-radius: 0.25em;\n",
       "  color: var(--sklearn-color-text);\n",
       "  /* unfitted */\n",
       "  background-color: var(--sklearn-color-unfitted-level-0);\n",
       "}\n",
       "\n",
       "#sk-container-id-1 div.sk-toggleable__content.fitted pre {\n",
       "  /* unfitted */\n",
       "  background-color: var(--sklearn-color-fitted-level-0);\n",
       "}\n",
       "\n",
       "#sk-container-id-1 input.sk-toggleable__control:checked~div.sk-toggleable__content {\n",
       "  /* Expand drop-down */\n",
       "  max-height: 200px;\n",
       "  max-width: 100%;\n",
       "  overflow: auto;\n",
       "}\n",
       "\n",
       "#sk-container-id-1 input.sk-toggleable__control:checked~label.sk-toggleable__label-arrow:before {\n",
       "  content: \"▾\";\n",
       "}\n",
       "\n",
       "/* Pipeline/ColumnTransformer-specific style */\n",
       "\n",
       "#sk-container-id-1 div.sk-label input.sk-toggleable__control:checked~label.sk-toggleable__label {\n",
       "  color: var(--sklearn-color-text);\n",
       "  background-color: var(--sklearn-color-unfitted-level-2);\n",
       "}\n",
       "\n",
       "#sk-container-id-1 div.sk-label.fitted input.sk-toggleable__control:checked~label.sk-toggleable__label {\n",
       "  background-color: var(--sklearn-color-fitted-level-2);\n",
       "}\n",
       "\n",
       "/* Estimator-specific style */\n",
       "\n",
       "/* Colorize estimator box */\n",
       "#sk-container-id-1 div.sk-estimator input.sk-toggleable__control:checked~label.sk-toggleable__label {\n",
       "  /* unfitted */\n",
       "  background-color: var(--sklearn-color-unfitted-level-2);\n",
       "}\n",
       "\n",
       "#sk-container-id-1 div.sk-estimator.fitted input.sk-toggleable__control:checked~label.sk-toggleable__label {\n",
       "  /* fitted */\n",
       "  background-color: var(--sklearn-color-fitted-level-2);\n",
       "}\n",
       "\n",
       "#sk-container-id-1 div.sk-label label.sk-toggleable__label,\n",
       "#sk-container-id-1 div.sk-label label {\n",
       "  /* The background is the default theme color */\n",
       "  color: var(--sklearn-color-text-on-default-background);\n",
       "}\n",
       "\n",
       "/* On hover, darken the color of the background */\n",
       "#sk-container-id-1 div.sk-label:hover label.sk-toggleable__label {\n",
       "  color: var(--sklearn-color-text);\n",
       "  background-color: var(--sklearn-color-unfitted-level-2);\n",
       "}\n",
       "\n",
       "/* Label box, darken color on hover, fitted */\n",
       "#sk-container-id-1 div.sk-label.fitted:hover label.sk-toggleable__label.fitted {\n",
       "  color: var(--sklearn-color-text);\n",
       "  background-color: var(--sklearn-color-fitted-level-2);\n",
       "}\n",
       "\n",
       "/* Estimator label */\n",
       "\n",
       "#sk-container-id-1 div.sk-label label {\n",
       "  font-family: monospace;\n",
       "  font-weight: bold;\n",
       "  display: inline-block;\n",
       "  line-height: 1.2em;\n",
       "}\n",
       "\n",
       "#sk-container-id-1 div.sk-label-container {\n",
       "  text-align: center;\n",
       "}\n",
       "\n",
       "/* Estimator-specific */\n",
       "#sk-container-id-1 div.sk-estimator {\n",
       "  font-family: monospace;\n",
       "  border: 1px dotted var(--sklearn-color-border-box);\n",
       "  border-radius: 0.25em;\n",
       "  box-sizing: border-box;\n",
       "  margin-bottom: 0.5em;\n",
       "  /* unfitted */\n",
       "  background-color: var(--sklearn-color-unfitted-level-0);\n",
       "}\n",
       "\n",
       "#sk-container-id-1 div.sk-estimator.fitted {\n",
       "  /* fitted */\n",
       "  background-color: var(--sklearn-color-fitted-level-0);\n",
       "}\n",
       "\n",
       "/* on hover */\n",
       "#sk-container-id-1 div.sk-estimator:hover {\n",
       "  /* unfitted */\n",
       "  background-color: var(--sklearn-color-unfitted-level-2);\n",
       "}\n",
       "\n",
       "#sk-container-id-1 div.sk-estimator.fitted:hover {\n",
       "  /* fitted */\n",
       "  background-color: var(--sklearn-color-fitted-level-2);\n",
       "}\n",
       "\n",
       "/* Specification for estimator info (e.g. \"i\" and \"?\") */\n",
       "\n",
       "/* Common style for \"i\" and \"?\" */\n",
       "\n",
       ".sk-estimator-doc-link,\n",
       "a:link.sk-estimator-doc-link,\n",
       "a:visited.sk-estimator-doc-link {\n",
       "  float: right;\n",
       "  font-size: smaller;\n",
       "  line-height: 1em;\n",
       "  font-family: monospace;\n",
       "  background-color: var(--sklearn-color-background);\n",
       "  border-radius: 1em;\n",
       "  height: 1em;\n",
       "  width: 1em;\n",
       "  text-decoration: none !important;\n",
       "  margin-left: 1ex;\n",
       "  /* unfitted */\n",
       "  border: var(--sklearn-color-unfitted-level-1) 1pt solid;\n",
       "  color: var(--sklearn-color-unfitted-level-1);\n",
       "}\n",
       "\n",
       ".sk-estimator-doc-link.fitted,\n",
       "a:link.sk-estimator-doc-link.fitted,\n",
       "a:visited.sk-estimator-doc-link.fitted {\n",
       "  /* fitted */\n",
       "  border: var(--sklearn-color-fitted-level-1) 1pt solid;\n",
       "  color: var(--sklearn-color-fitted-level-1);\n",
       "}\n",
       "\n",
       "/* On hover */\n",
       "div.sk-estimator:hover .sk-estimator-doc-link:hover,\n",
       ".sk-estimator-doc-link:hover,\n",
       "div.sk-label-container:hover .sk-estimator-doc-link:hover,\n",
       ".sk-estimator-doc-link:hover {\n",
       "  /* unfitted */\n",
       "  background-color: var(--sklearn-color-unfitted-level-3);\n",
       "  color: var(--sklearn-color-background);\n",
       "  text-decoration: none;\n",
       "}\n",
       "\n",
       "div.sk-estimator.fitted:hover .sk-estimator-doc-link.fitted:hover,\n",
       ".sk-estimator-doc-link.fitted:hover,\n",
       "div.sk-label-container:hover .sk-estimator-doc-link.fitted:hover,\n",
       ".sk-estimator-doc-link.fitted:hover {\n",
       "  /* fitted */\n",
       "  background-color: var(--sklearn-color-fitted-level-3);\n",
       "  color: var(--sklearn-color-background);\n",
       "  text-decoration: none;\n",
       "}\n",
       "\n",
       "/* Span, style for the box shown on hovering the info icon */\n",
       ".sk-estimator-doc-link span {\n",
       "  display: none;\n",
       "  z-index: 9999;\n",
       "  position: relative;\n",
       "  font-weight: normal;\n",
       "  right: .2ex;\n",
       "  padding: .5ex;\n",
       "  margin: .5ex;\n",
       "  width: min-content;\n",
       "  min-width: 20ex;\n",
       "  max-width: 50ex;\n",
       "  color: var(--sklearn-color-text);\n",
       "  box-shadow: 2pt 2pt 4pt #999;\n",
       "  /* unfitted */\n",
       "  background: var(--sklearn-color-unfitted-level-0);\n",
       "  border: .5pt solid var(--sklearn-color-unfitted-level-3);\n",
       "}\n",
       "\n",
       ".sk-estimator-doc-link.fitted span {\n",
       "  /* fitted */\n",
       "  background: var(--sklearn-color-fitted-level-0);\n",
       "  border: var(--sklearn-color-fitted-level-3);\n",
       "}\n",
       "\n",
       ".sk-estimator-doc-link:hover span {\n",
       "  display: block;\n",
       "}\n",
       "\n",
       "/* \"?\"-specific style due to the `<a>` HTML tag */\n",
       "\n",
       "#sk-container-id-1 a.estimator_doc_link {\n",
       "  float: right;\n",
       "  font-size: 1rem;\n",
       "  line-height: 1em;\n",
       "  font-family: monospace;\n",
       "  background-color: var(--sklearn-color-background);\n",
       "  border-radius: 1rem;\n",
       "  height: 1rem;\n",
       "  width: 1rem;\n",
       "  text-decoration: none;\n",
       "  /* unfitted */\n",
       "  color: var(--sklearn-color-unfitted-level-1);\n",
       "  border: var(--sklearn-color-unfitted-level-1) 1pt solid;\n",
       "}\n",
       "\n",
       "#sk-container-id-1 a.estimator_doc_link.fitted {\n",
       "  /* fitted */\n",
       "  border: var(--sklearn-color-fitted-level-1) 1pt solid;\n",
       "  color: var(--sklearn-color-fitted-level-1);\n",
       "}\n",
       "\n",
       "/* On hover */\n",
       "#sk-container-id-1 a.estimator_doc_link:hover {\n",
       "  /* unfitted */\n",
       "  background-color: var(--sklearn-color-unfitted-level-3);\n",
       "  color: var(--sklearn-color-background);\n",
       "  text-decoration: none;\n",
       "}\n",
       "\n",
       "#sk-container-id-1 a.estimator_doc_link.fitted:hover {\n",
       "  /* fitted */\n",
       "  background-color: var(--sklearn-color-fitted-level-3);\n",
       "}\n",
       "</style><div id=\"sk-container-id-1\" class=\"sk-top-container\"><div class=\"sk-text-repr-fallback\"><pre>LinearRegression()</pre><b>In a Jupyter environment, please rerun this cell to show the HTML representation or trust the notebook. <br />On GitHub, the HTML representation is unable to render, please try loading this page with nbviewer.org.</b></div><div class=\"sk-container\" hidden><div class=\"sk-item\"><div class=\"sk-estimator fitted sk-toggleable\"><input class=\"sk-toggleable__control sk-hidden--visually\" id=\"sk-estimator-id-1\" type=\"checkbox\" checked><label for=\"sk-estimator-id-1\" class=\"sk-toggleable__label fitted sk-toggleable__label-arrow fitted\">&nbsp;&nbsp;LinearRegression<a class=\"sk-estimator-doc-link fitted\" rel=\"noreferrer\" target=\"_blank\" href=\"https://scikit-learn.org/1.5/modules/generated/sklearn.linear_model.LinearRegression.html\">?<span>Documentation for LinearRegression</span></a><span class=\"sk-estimator-doc-link fitted\">i<span>Fitted</span></span></label><div class=\"sk-toggleable__content fitted\"><pre>LinearRegression()</pre></div> </div></div></div></div>"
      ],
      "text/plain": [
       "LinearRegression()"
      ]
     },
     "execution_count": 24,
     "metadata": {},
     "output_type": "execute_result"
    }
   ],
   "source": [
    "lr.fit(X_train, y_train)"
   ]
  },
  {
   "cell_type": "code",
   "execution_count": 25,
   "id": "d90b852c-e240-4106-9766-dcb18f9139d0",
   "metadata": {},
   "outputs": [],
   "source": [
    "y_pred = lr.predict(X_test)"
   ]
  },
  {
   "cell_type": "code",
   "execution_count": 26,
   "id": "4a3a893e-f607-461a-a34c-8f25ef7d35f7",
   "metadata": {},
   "outputs": [
    {
     "data": {
      "text/plain": [
       "0.4047330788890713"
      ]
     },
     "execution_count": 26,
     "metadata": {},
     "output_type": "execute_result"
    }
   ],
   "source": [
    "r2_score(y_test, y_pred)"
   ]
  },
  {
   "cell_type": "code",
   "execution_count": 27,
   "id": "792ecc2b-3e71-4259-beb2-bcce4ddf0d11",
   "metadata": {},
   "outputs": [
    {
     "data": {
      "image/png": "[encoded data removed]",
      "text/plain": [
       "<Figure size 640x480 with 1 Axes>"
      ]
     },
     "metadata": {},
     "output_type": "display_data"
    }
   ],
   "source": [
    "plt.plot(X_train, lr.predict(X_train), color = 'r')\n",
    "plt.plot(X, y, \"b.\")\n",
    "plt.xlabel(\"X\")\n",
    "plt.ylabel(\"y\")\n",
    "plt.show()"
   ]
  },
  {
   "cell_type": "code",
   "execution_count": 35,
   "id": "33721128-c76b-48fd-a266-eac51a2580df",
   "metadata": {},
   "outputs": [],
   "source": [
    "# applying polynomial features\n",
    "# degree 2\n",
    "poly = PolynomialFeatures(degree = 2, include_bias = True)\n",
    "\n",
    "X_train_trans = poly.fit_transform(X_train)\n",
    "X_test_trans = poly.transform(X_test)"
   ]
  },
  {
   "cell_type": "code",
   "execution_count": 36,
   "id": "bdd79753-e4b6-4bb3-94fa-87a7eff7181a",
   "metadata": {},
   "outputs": [
    {
     "name": "stdout",
     "output_type": "stream",
     "text": [
      "[1.92758048]\n",
      "[1.         1.92758048 3.7155665 ]\n"
     ]
    }
   ],
   "source": [
    "print(X_train[0])\n",
    "print(X_train_trans[0])"
   ]
  },
  {
   "cell_type": "code",
   "execution_count": 40,
   "id": "d9b2d265-a7a5-430d-a1f0-9262dfdc91bb",
   "metadata": {},
   "outputs": [
    {
     "data": {
      "text/html": [
       "<style>#sk-container-id-3 {\n",
       "  /* Definition of color scheme common for light and dark mode */\n",
       "  --sklearn-color-text: black;\n",
       "  --sklearn-color-line: gray;\n",
       "  /* Definition of color scheme for unfitted estimators */\n",
       "  --sklearn-color-unfitted-level-0: #fff5e6;\n",
       "  --sklearn-color-unfitted-level-1: #f6e4d2;\n",
       "  --sklearn-color-unfitted-level-2: #ffe0b3;\n",
       "  --sklearn-color-unfitted-level-3: chocolate;\n",
       "  /* Definition of color scheme for fitted estimators */\n",
       "  --sklearn-color-fitted-level-0: #f0f8ff;\n",
       "  --sklearn-color-fitted-level-1: #d4ebff;\n",
       "  --sklearn-color-fitted-level-2: #b3dbfd;\n",
       "  --sklearn-color-fitted-level-3: cornflowerblue;\n",
       "\n",
       "  /* Specific color for light theme */\n",
       "  --sklearn-color-text-on-default-background: var(--sg-text-color, var(--theme-code-foreground, var(--jp-content-font-color1, black)));\n",
       "  --sklearn-color-background: var(--sg-background-color, var(--theme-background, var(--jp-layout-color0, white)));\n",
       "  --sklearn-color-border-box: var(--sg-text-color, var(--theme-code-foreground, var(--jp-content-font-color1, black)));\n",
       "  --sklearn-color-icon: #696969;\n",
       "\n",
       "  @media (prefers-color-scheme: dark) {\n",
       "    /* Redefinition of color scheme for dark theme */\n",
       "    --sklearn-color-text-on-default-background: var(--sg-text-color, var(--theme-code-foreground, var(--jp-content-font-color1, white)));\n",
       "    --sklearn-color-background: var(--sg-background-color, var(--theme-background, var(--jp-layout-color0, #111)));\n",
       "    --sklearn-color-border-box: var(--sg-text-color, var(--theme-code-foreground, var(--jp-content-font-color1, white)));\n",
       "    --sklearn-color-icon: #878787;\n",
       "  }\n",
       "}\n",
       "\n",
       "#sk-container-id-3 {\n",
       "  color: var(--sklearn-color-text);\n",
       "}\n",
       "\n",
       "#sk-container-id-3 pre {\n",
       "  padding: 0;\n",
       "}\n",
       "\n",
       "#sk-container-id-3 input.sk-hidden--visually {\n",
       "  border: 0;\n",
       "  clip: rect(1px 1px 1px 1px);\n",
       "  clip: rect(1px, 1px, 1px, 1px);\n",
       "  height: 1px;\n",
       "  margin: -1px;\n",
       "  overflow: hidden;\n",
       "  padding: 0;\n",
       "  position: absolute;\n",
       "  width: 1px;\n",
       "}\n",
       "\n",
       "#sk-container-id-3 div.sk-dashed-wrapped {\n",
       "  border: 1px dashed var(--sklearn-color-line);\n",
       "  margin: 0 0.4em 0.5em 0.4em;\n",
       "  box-sizing: border-box;\n",
       "  padding-bottom: 0.4em;\n",
       "  background-color: var(--sklearn-color-background);\n",
       "}\n",
       "\n",
       "#sk-container-id-3 div.sk-container {\n",
       "  /* jupyter's `normalize.less` sets `[hidden] { display: none; }`\n",
       "     but bootstrap.min.css set `[hidden] { display: none !important; }`\n",
       "     so we also need the `!important` here to be able to override the\n",
       "     default hidden behavior on the sphinx rendered scikit-learn.org.\n",
       "     See: https://github.com/scikit-learn/scikit-learn/issues/21755 */\n",
       "  display: inline-block !important;\n",
       "  position: relative;\n",
       "}\n",
       "\n",
       "#sk-container-id-3 div.sk-text-repr-fallback {\n",
       "  display: none;\n",
       "}\n",
       "\n",
       "div.sk-parallel-item,\n",
       "div.sk-serial,\n",
       "div.sk-item {\n",
       "  /* draw centered vertical line to link estimators */\n",
       "  background-image: linear-gradient(var(--sklearn-color-text-on-default-background), var(--sklearn-color-text-on-default-background));\n",
       "  background-size: 2px 100%;\n",
       "  background-repeat: no-repeat;\n",
       "  background-position: center center;\n",
       "}\n",
       "\n",
       "/* Parallel-specific style estimator block */\n",
       "\n",
       "#sk-container-id-3 div.sk-parallel-item::after {\n",
       "  content: \"\";\n",
       "  width: 100%;\n",
       "  border-bottom: 2px solid var(--sklearn-color-text-on-default-background);\n",
       "  flex-grow: 1;\n",
       "}\n",
       "\n",
       "#sk-container-id-3 div.sk-parallel {\n",
       "  display: flex;\n",
       "  align-items: stretch;\n",
       "  justify-content: center;\n",
       "  background-color: var(--sklearn-color-background);\n",
       "  position: relative;\n",
       "}\n",
       "\n",
       "#sk-container-id-3 div.sk-parallel-item {\n",
       "  display: flex;\n",
       "  flex-direction: column;\n",
       "}\n",
       "\n",
       "#sk-container-id-3 div.sk-parallel-item:first-child::after {\n",
       "  align-self: flex-end;\n",
       "  width: 50%;\n",
       "}\n",
       "\n",
       "#sk-container-id-3 div.sk-parallel-item:last-child::after {\n",
       "  align-self: flex-start;\n",
       "  width: 50%;\n",
       "}\n",
       "\n",
       "#sk-container-id-3 div.sk-parallel-item:only-child::after {\n",
       "  width: 0;\n",
       "}\n",
       "\n",
       "/* Serial-specific style estimator block */\n",
       "\n",
       "#sk-container-id-3 div.sk-serial {\n",
       "  display: flex;\n",
       "  flex-direction: column;\n",
       "  align-items: center;\n",
       "  background-color: var(--sklearn-color-background);\n",
       "  padding-right: 1em;\n",
       "  padding-left: 1em;\n",
       "}\n",
       "\n",
       "\n",
       "/* Toggleable style: style used for estimator/Pipeline/ColumnTransformer box that is\n",
       "clickable and can be expanded/collapsed.\n",
       "- Pipeline and ColumnTransformer use this feature and define the default style\n",
       "- Estimators will overwrite some part of the style using the `sk-estimator` class\n",
       "*/\n",
       "\n",
       "/* Pipeline and ColumnTransformer style (default) */\n",
       "\n",
       "#sk-container-id-3 div.sk-toggleable {\n",
       "  /* Default theme specific background. It is overwritten whether we have a\n",
       "  specific estimator or a Pipeline/ColumnTransformer */\n",
       "  background-color: var(--sklearn-color-background);\n",
       "}\n",
       "\n",
       "/* Toggleable label */\n",
       "#sk-container-id-3 label.sk-toggleable__label {\n",
       "  cursor: pointer;\n",
       "  display: block;\n",
       "  width: 100%;\n",
       "  margin-bottom: 0;\n",
       "  padding: 0.5em;\n",
       "  box-sizing: border-box;\n",
       "  text-align: center;\n",
       "}\n",
       "\n",
       "#sk-container-id-3 label.sk-toggleable__label-arrow:before {\n",
       "  /* Arrow on the left of the label */\n",
       "  content: \"▸\";\n",
       "  float: left;\n",
       "  margin-right: 0.25em;\n",
       "  color: var(--sklearn-color-icon);\n",
       "}\n",
       "\n",
       "#sk-container-id-3 label.sk-toggleable__label-arrow:hover:before {\n",
       "  color: var(--sklearn-color-text);\n",
       "}\n",
       "\n",
       "/* Toggleable content - dropdown */\n",
       "\n",
       "#sk-container-id-3 div.sk-toggleable__content {\n",
       "  max-height: 0;\n",
       "  max-width: 0;\n",
       "  overflow: hidden;\n",
       "  text-align: left;\n",
       "  /* unfitted */\n",
       "  background-color: var(--sklearn-color-unfitted-level-0);\n",
       "}\n",
       "\n",
       "#sk-container-id-3 div.sk-toggleable__content.fitted {\n",
       "  /* fitted */\n",
       "  background-color: var(--sklearn-color-fitted-level-0);\n",
       "}\n",
       "\n",
       "#sk-container-id-3 div.sk-toggleable__content pre {\n",
       "  margin: 0.2em;\n",
       "  border-radius: 0.25em;\n",
       "  color: var(--sklearn-color-text);\n",
       "  /* unfitted */\n",
       "  background-color: var(--sklearn-color-unfitted-level-0);\n",
       "}\n",
       "\n",
       "#sk-container-id-3 div.sk-toggleable__content.fitted pre {\n",
       "  /* unfitted */\n",
       "  background-color: var(--sklearn-color-fitted-level-0);\n",
       "}\n",
       "\n",
       "#sk-container-id-3 input.sk-toggleable__control:checked~div.sk-toggleable__content {\n",
       "  /* Expand drop-down */\n",
       "  max-height: 200px;\n",
       "  max-width: 100%;\n",
       "  overflow: auto;\n",
       "}\n",
       "\n",
       "#sk-container-id-3 input.sk-toggleable__control:checked~label.sk-toggleable__label-arrow:before {\n",
       "  content: \"▾\";\n",
       "}\n",
       "\n",
       "/* Pipeline/ColumnTransformer-specific style */\n",
       "\n",
       "#sk-container-id-3 div.sk-label input.sk-toggleable__control:checked~label.sk-toggleable__label {\n",
       "  color: var(--sklearn-color-text);\n",
       "  background-color: var(--sklearn-color-unfitted-level-2);\n",
       "}\n",
       "\n",
       "#sk-container-id-3 div.sk-label.fitted input.sk-toggleable__control:checked~label.sk-toggleable__label {\n",
       "  background-color: var(--sklearn-color-fitted-level-2);\n",
       "}\n",
       "\n",
       "/* Estimator-specific style */\n",
       "\n",
       "/* Colorize estimator box */\n",
       "#sk-container-id-3 div.sk-estimator input.sk-toggleable__control:checked~label.sk-toggleable__label {\n",
       "  /* unfitted */\n",
       "  background-color: var(--sklearn-color-unfitted-level-2);\n",
       "}\n",
       "\n",
       "#sk-container-id-3 div.sk-estimator.fitted input.sk-toggleable__control:checked~label.sk-toggleable__label {\n",
       "  /* fitted */\n",
       "  background-color: var(--sklearn-color-fitted-level-2);\n",
       "}\n",
       "\n",
       "#sk-container-id-3 div.sk-label label.sk-toggleable__label,\n",
       "#sk-container-id-3 div.sk-label label {\n",
       "  /* The background is the default theme color */\n",
       "  color: var(--sklearn-color-text-on-default-background);\n",
       "}\n",
       "\n",
       "/* On hover, darken the color of the background */\n",
       "#sk-container-id-3 div.sk-label:hover label.sk-toggleable__label {\n",
       "  color: var(--sklearn-color-text);\n",
       "  background-color: var(--sklearn-color-unfitted-level-2);\n",
       "}\n",
       "\n",
       "/* Label box, darken color on hover, fitted */\n",
       "#sk-container-id-3 div.sk-label.fitted:hover label.sk-toggleable__label.fitted {\n",
       "  color: var(--sklearn-color-text);\n",
       "  background-color: var(--sklearn-color-fitted-level-2);\n",
       "}\n",
       "\n",
       "/* Estimator label */\n",
       "\n",
       "#sk-container-id-3 div.sk-label label {\n",
       "  font-family: monospace;\n",
       "  font-weight: bold;\n",
       "  display: inline-block;\n",
       "  line-height: 1.2em;\n",
       "}\n",
       "\n",
       "#sk-container-id-3 div.sk-label-container {\n",
       "  text-align: center;\n",
       "}\n",
       "\n",
       "/* Estimator-specific */\n",
       "#sk-container-id-3 div.sk-estimator {\n",
       "  font-family: monospace;\n",
       "  border: 1px dotted var(--sklearn-color-border-box);\n",
       "  border-radius: 0.25em;\n",
       "  box-sizing: border-box;\n",
       "  margin-bottom: 0.5em;\n",
       "  /* unfitted */\n",
       "  background-color: var(--sklearn-color-unfitted-level-0);\n",
       "}\n",
       "\n",
       "#sk-container-id-3 div.sk-estimator.fitted {\n",
       "  /* fitted */\n",
       "  background-color: var(--sklearn-color-fitted-level-0);\n",
       "}\n",
       "\n",
       "/* on hover */\n",
       "#sk-container-id-3 div.sk-estimator:hover {\n",
       "  /* unfitted */\n",
       "  background-color: var(--sklearn-color-unfitted-level-2);\n",
       "}\n",
       "\n",
       "#sk-container-id-3 div.sk-estimator.fitted:hover {\n",
       "  /* fitted */\n",
       "  background-color: var(--sklearn-color-fitted-level-2);\n",
       "}\n",
       "\n",
       "/* Specification for estimator info (e.g. \"i\" and \"?\") */\n",
       "\n",
       "/* Common style for \"i\" and \"?\" */\n",
       "\n",
       ".sk-estimator-doc-link,\n",
       "a:link.sk-estimator-doc-link,\n",
       "a:visited.sk-estimator-doc-link {\n",
       "  float: right;\n",
       "  font-size: smaller;\n",
       "  line-height: 1em;\n",
       "  font-family: monospace;\n",
       "  background-color: var(--sklearn-color-background);\n",
       "  border-radius: 1em;\n",
       "  height: 1em;\n",
       "  width: 1em;\n",
       "  text-decoration: none !important;\n",
       "  margin-left: 1ex;\n",
       "  /* unfitted */\n",
       "  border: var(--sklearn-color-unfitted-level-1) 1pt solid;\n",
       "  color: var(--sklearn-color-unfitted-level-1);\n",
       "}\n",
       "\n",
       ".sk-estimator-doc-link.fitted,\n",
       "a:link.sk-estimator-doc-link.fitted,\n",
       "a:visited.sk-estimator-doc-link.fitted {\n",
       "  /* fitted */\n",
       "  border: var(--sklearn-color-fitted-level-1) 1pt solid;\n",
       "  color: var(--sklearn-color-fitted-level-1);\n",
       "}\n",
       "\n",
       "/* On hover */\n",
       "div.sk-estimator:hover .sk-estimator-doc-link:hover,\n",
       ".sk-estimator-doc-link:hover,\n",
       "div.sk-label-container:hover .sk-estimator-doc-link:hover,\n",
       ".sk-estimator-doc-link:hover {\n",
       "  /* unfitted */\n",
       "  background-color: var(--sklearn-color-unfitted-level-3);\n",
       "  color: var(--sklearn-color-background);\n",
       "  text-decoration: none;\n",
       "}\n",
       "\n",
       "div.sk-estimator.fitted:hover .sk-estimator-doc-link.fitted:hover,\n",
       ".sk-estimator-doc-link.fitted:hover,\n",
       "div.sk-label-container:hover .sk-estimator-doc-link.fitted:hover,\n",
       ".sk-estimator-doc-link.fitted:hover {\n",
       "  /* fitted */\n",
       "  background-color: var(--sklearn-color-fitted-level-3);\n",
       "  color: var(--sklearn-color-background);\n",
       "  text-decoration: none;\n",
       "}\n",
       "\n",
       "/* Span, style for the box shown on hovering the info icon */\n",
       ".sk-estimator-doc-link span {\n",
       "  display: none;\n",
       "  z-index: 9999;\n",
       "  position: relative;\n",
       "  font-weight: normal;\n",
       "  right: .2ex;\n",
       "  padding: .5ex;\n",
       "  margin: .5ex;\n",
       "  width: min-content;\n",
       "  min-width: 20ex;\n",
       "  max-width: 50ex;\n",
       "  color: var(--sklearn-color-text);\n",
       "  box-shadow: 2pt 2pt 4pt #999;\n",
       "  /* unfitted */\n",
       "  background: var(--sklearn-color-unfitted-level-0);\n",
       "  border: .5pt solid var(--sklearn-color-unfitted-level-3);\n",
       "}\n",
       "\n",
       ".sk-estimator-doc-link.fitted span {\n",
       "  /* fitted */\n",
       "  background: var(--sklearn-color-fitted-level-0);\n",
       "  border: var(--sklearn-color-fitted-level-3);\n",
       "}\n",
       "\n",
       ".sk-estimator-doc-link:hover span {\n",
       "  display: block;\n",
       "}\n",
       "\n",
       "/* \"?\"-specific style due to the `<a>` HTML tag */\n",
       "\n",
       "#sk-container-id-3 a.estimator_doc_link {\n",
       "  float: right;\n",
       "  font-size: 1rem;\n",
       "  line-height: 1em;\n",
       "  font-family: monospace;\n",
       "  background-color: var(--sklearn-color-background);\n",
       "  border-radius: 1rem;\n",
       "  height: 1rem;\n",
       "  width: 1rem;\n",
       "  text-decoration: none;\n",
       "  /* unfitted */\n",
       "  color: var(--sklearn-color-unfitted-level-1);\n",
       "  border: var(--sklearn-color-unfitted-level-1) 1pt solid;\n",
       "}\n",
       "\n",
       "#sk-container-id-3 a.estimator_doc_link.fitted {\n",
       "  /* fitted */\n",
       "  border: var(--sklearn-color-fitted-level-1) 1pt solid;\n",
       "  color: var(--sklearn-color-fitted-level-1);\n",
       "}\n",
       "\n",
       "/* On hover */\n",
       "#sk-container-id-3 a.estimator_doc_link:hover {\n",
       "  /* unfitted */\n",
       "  background-color: var(--sklearn-color-unfitted-level-3);\n",
       "  color: var(--sklearn-color-background);\n",
       "  text-decoration: none;\n",
       "}\n",
       "\n",
       "#sk-container-id-3 a.estimator_doc_link.fitted:hover {\n",
       "  /* fitted */\n",
       "  background-color: var(--sklearn-color-fitted-level-3);\n",
       "}\n",
       "</style><div id=\"sk-container-id-3\" class=\"sk-top-container\"><div class=\"sk-text-repr-fallback\"><pre>LinearRegression()</pre><b>In a Jupyter environment, please rerun this cell to show the HTML representation or trust the notebook. <br />On GitHub, the HTML representation is unable to render, please try loading this page with nbviewer.org.</b></div><div class=\"sk-container\" hidden><div class=\"sk-item\"><div class=\"sk-estimator fitted sk-toggleable\"><input class=\"sk-toggleable__control sk-hidden--visually\" id=\"sk-estimator-id-3\" type=\"checkbox\" checked><label for=\"sk-estimator-id-3\" class=\"sk-toggleable__label fitted sk-toggleable__label-arrow fitted\">&nbsp;&nbsp;LinearRegression<a class=\"sk-estimator-doc-link fitted\" rel=\"noreferrer\" target=\"_blank\" href=\"https://scikit-learn.org/1.5/modules/generated/sklearn.linear_model.LinearRegression.html\">?<span>Documentation for LinearRegression</span></a><span class=\"sk-estimator-doc-link fitted\">i<span>Fitted</span></span></label><div class=\"sk-toggleable__content fitted\"><pre>LinearRegression()</pre></div> </div></div></div></div>"
      ],
      "text/plain": [
       "LinearRegression()"
      ]
     },
     "execution_count": 40,
     "metadata": {},
     "output_type": "execute_result"
    }
   ],
   "source": [
    "# including bias param\n",
    "\n",
    "lr1 = LinearRegression()\n",
    "lr1.fit(X_train_trans, y_train)"
   ]
  },
  {
   "cell_type": "code",
   "execution_count": 41,
   "id": "03ecf7fb-69e9-4414-a124-fafb82ab23b5",
   "metadata": {},
   "outputs": [],
   "source": [
    "y_pred1 = lr1.predict(X_test_trans)"
   ]
  },
  {
   "cell_type": "code",
   "execution_count": 42,
   "id": "8ef9e111-82d5-4ae1-956f-5f62252f0ed4",
   "metadata": {},
   "outputs": [
    {
     "data": {
      "text/plain": [
       "0.8916673789357761"
      ]
     },
     "execution_count": 42,
     "metadata": {},
     "output_type": "execute_result"
    }
   ],
   "source": [
    "r2_score(y_test, y_pred1)"
   ]
  },
  {
   "cell_type": "code",
   "execution_count": 44,
   "id": "8f1e688a-5fcc-4edd-aafe-d9a9001951a3",
   "metadata": {},
   "outputs": [
    {
     "name": "stdout",
     "output_type": "stream",
     "text": [
      "[[0.         0.90414667 0.75232769]]\n",
      "[2.28614578]\n"
     ]
    }
   ],
   "source": [
    "print(lr1.coef_)\n",
    "print(lr1.intercept_)"
   ]
  },
  {
   "cell_type": "code",
   "execution_count": 46,
   "id": "7352ba3f-0573-4e31-b1b2-9d8755b56528",
   "metadata": {},
   "outputs": [],
   "source": [
    "X_new = np.linspace(-3, 3, 200).reshape(200, 1)\n",
    "X_new_poly = poly.transform(X_new)\n",
    "y_new = lr.predict(X_new_poly)"
   ]
  },
  {
   "cell_type": "code",
   "execution_count": 47,
   "id": "d85fbee8-fcb8-49c3-9c25-f4b6d910f003",
   "metadata": {},
   "outputs": [
    {
     "data": {
      "image/png": "[encoded data removed]",
      "text/plain": [
       "<Figure size 640x480 with 1 Axes>"
      ]
     },
     "metadata": {},
     "output_type": "display_data"
    }
   ],
   "source": [
    "plt.plot(X_new, y_new, \"r-\", linewidth = 2, label = 'predictions')\n",
    "plt.plot(X_train, y_train, \"b.\", label = 'Training points')\n",
    "plt.plot(X_test, y_test, \"g.\", label = 'Testing points')\n",
    "plt.xlabel(\"X\")\n",
    "plt.ylabel(\"y\")\n",
    "plt.legend()\n",
    "plt.show()"
   ]
  },
  {
   "cell_type": "code",
   "execution_count": 49,
   "id": "6f426d2a-dfcc-4473-8e27-fe4dbd24e8c9",
   "metadata": {},
   "outputs": [],
   "source": [
    "def polynomial_regression(degree):\n",
    "    X_new=np.linspace(-3, 3, 100).reshape(100, 1)\n",
    "    X_new_poly = poly.transform(X_new)\n",
    "\n",
    "    polybig_features = PolynomialFeatures(degree=degree, include_bias=False)\n",
    "    std_scaler = StandardScaler()\n",
    "    lin_reg = LinearRegression()\n",
    "    polynomial_regression = Pipeline([\n",
    "            (\"poly_features\", polybig_features),\n",
    "            (\"std_scaler\", std_scaler),\n",
    "            (\"lin_reg\", lin_reg),\n",
    "        ])\n",
    "    polynomial_regression.fit(X, y)\n",
    "    y_newbig = polynomial_regression.predict(X_new)\n",
    "    plt.plot(X_new, y_newbig,'r', label=\"Degree \" + str(degree), linewidth=2)\n",
    "\n",
    "    plt.plot(X_train, y_train, \"b.\", linewidth=3)\n",
    "    plt.plot(X_test, y_test, \"g.\", linewidth=3)\n",
    "    plt.legend(loc=\"upper left\")\n",
    "    plt.xlabel(\"X\")\n",
    "    plt.ylabel(\"y\")\n",
    "    plt.axis([-3, 3, 0, 10])\n",
    "    plt.show()"
   ]
  },
  {
   "cell_type": "code",
   "execution_count": 53,
   "id": "41b02f22-0a73-4271-ad25-098107c66f09",
   "metadata": {},
   "outputs": [
    {
     "data": {
      "image/png": "[encoded data removed]",
      "text/plain": [
       "<Figure size 640x480 with 1 Axes>"
      ]
     },
     "metadata": {},
     "output_type": "display_data"
    }
   ],
   "source": [
    "polynomial_regression(50)"
   ]
  },
  {
   "cell_type": "code",
   "execution_count": 78,
   "id": "2989d374-fad1-46e0-bf24-f37c48dd2a4a",
   "metadata": {},
   "outputs": [
    {
     "name": "stderr",
     "output_type": "stream",
     "text": [
      "C:\\Users\\Nadim Ansari\\anaconda3\\Lib\\site-packages\\sklearn\\utils\\validation.py:1339: DataConversionWarning:\n",
      "\n",
      "A column-vector y was passed when a 1d array was expected. Please change the shape of y to (n_samples, ), for example using ravel().\n",
      "\n"
     ]
    },
    {
     "data": {
      "image/png": "[encoded data removed]",
      "text/plain": [
       "<Figure size 640x480 with 1 Axes>"
      ]
     },
     "metadata": {},
     "output_type": "display_data"
    }
   ],
   "source": [
    "# Applying Gradient Descent\n",
    "\n",
    "poly = PolynomialFeatures(degree=2)\n",
    "\n",
    "X_train_trans = poly.fit_transform(X_train)\n",
    "X_test_trans = poly.transform(X_test)\n",
    "\n",
    "sgd = SGDRegressor(max_iter=100)\n",
    "sgd.fit(X_train_trans,y_train)\n",
    "\n",
    "X_new=np.linspace(-2.9, 2.8, 200).reshape(200, 1)\n",
    "X_new_poly = poly.transform(X_new)\n",
    "y_new = sgd.predict(X_new_poly)\n",
    "\n",
    "y_pred = sgd.predict(X_test_trans)\n",
    "\n",
    "plt.plot(X_new, y_new, \"r-\", linewidth=2, label=\"Predictions \" + str(round(r2_score(y_test,y_pred),2)))\n",
    "plt.plot(X_train, y_train, \"b.\",label='Training points')\n",
    "plt.plot(X_test, y_test, \"g.\",label='Testing points')\n",
    "plt.xlabel(\"X\")\n",
    "plt.ylabel(\"y\")\n",
    "plt.legend()\n",
    "plt.show()"
   ]
  },
  {
   "cell_type": "code",
   "execution_count": 64,
   "id": "c779436c-dddd-4a90-b9b6-a23fdb18d053",
   "metadata": {},
   "outputs": [
    {
     "data": {
      "text/plain": [
       "array([[ 0,  0],\n",
       "       [ 1,  0],\n",
       "       [ 0,  1],\n",
       "       [ 2,  0],\n",
       "       [ 1,  1],\n",
       "       [ 0,  2],\n",
       "       [ 3,  0],\n",
       "       [ 2,  1],\n",
       "       [ 1,  2],\n",
       "       [ 0,  3],\n",
       "       [ 4,  0],\n",
       "       [ 3,  1],\n",
       "       [ 2,  2],\n",
       "       [ 1,  3],\n",
       "       [ 0,  4],\n",
       "       [ 5,  0],\n",
       "       [ 4,  1],\n",
       "       [ 3,  2],\n",
       "       [ 2,  3],\n",
       "       [ 1,  4],\n",
       "       [ 0,  5],\n",
       "       [ 6,  0],\n",
       "       [ 5,  1],\n",
       "       [ 4,  2],\n",
       "       [ 3,  3],\n",
       "       [ 2,  4],\n",
       "       [ 1,  5],\n",
       "       [ 0,  6],\n",
       "       [ 7,  0],\n",
       "       [ 6,  1],\n",
       "       [ 5,  2],\n",
       "       [ 4,  3],\n",
       "       [ 3,  4],\n",
       "       [ 2,  5],\n",
       "       [ 1,  6],\n",
       "       [ 0,  7],\n",
       "       [ 8,  0],\n",
       "       [ 7,  1],\n",
       "       [ 6,  2],\n",
       "       [ 5,  3],\n",
       "       [ 4,  4],\n",
       "       [ 3,  5],\n",
       "       [ 2,  6],\n",
       "       [ 1,  7],\n",
       "       [ 0,  8],\n",
       "       [ 9,  0],\n",
       "       [ 8,  1],\n",
       "       [ 7,  2],\n",
       "       [ 6,  3],\n",
       "       [ 5,  4],\n",
       "       [ 4,  5],\n",
       "       [ 3,  6],\n",
       "       [ 2,  7],\n",
       "       [ 1,  8],\n",
       "       [ 0,  9],\n",
       "       [10,  0],\n",
       "       [ 9,  1],\n",
       "       [ 8,  2],\n",
       "       [ 7,  3],\n",
       "       [ 6,  4],\n",
       "       [ 5,  5],\n",
       "       [ 4,  6],\n",
       "       [ 3,  7],\n",
       "       [ 2,  8],\n",
       "       [ 1,  9],\n",
       "       [ 0, 10],\n",
       "       [11,  0],\n",
       "       [10,  1],\n",
       "       [ 9,  2],\n",
       "       [ 8,  3],\n",
       "       [ 7,  4],\n",
       "       [ 6,  5],\n",
       "       [ 5,  6],\n",
       "       [ 4,  7],\n",
       "       [ 3,  8],\n",
       "       [ 2,  9],\n",
       "       [ 1, 10],\n",
       "       [ 0, 11],\n",
       "       [12,  0],\n",
       "       [11,  1],\n",
       "       [10,  2],\n",
       "       [ 9,  3],\n",
       "       [ 8,  4],\n",
       "       [ 7,  5],\n",
       "       [ 6,  6],\n",
       "       [ 5,  7],\n",
       "       [ 4,  8],\n",
       "       [ 3,  9],\n",
       "       [ 2, 10],\n",
       "       [ 1, 11],\n",
       "       [ 0, 12],\n",
       "       [13,  0],\n",
       "       [12,  1],\n",
       "       [11,  2],\n",
       "       [10,  3],\n",
       "       [ 9,  4],\n",
       "       [ 8,  5],\n",
       "       [ 7,  6],\n",
       "       [ 6,  7],\n",
       "       [ 5,  8],\n",
       "       [ 4,  9],\n",
       "       [ 3, 10],\n",
       "       [ 2, 11],\n",
       "       [ 1, 12],\n",
       "       [ 0, 13],\n",
       "       [14,  0],\n",
       "       [13,  1],\n",
       "       [12,  2],\n",
       "       [11,  3],\n",
       "       [10,  4],\n",
       "       [ 9,  5],\n",
       "       [ 8,  6],\n",
       "       [ 7,  7],\n",
       "       [ 6,  8],\n",
       "       [ 5,  9],\n",
       "       [ 4, 10],\n",
       "       [ 3, 11],\n",
       "       [ 2, 12],\n",
       "       [ 1, 13],\n",
       "       [ 0, 14],\n",
       "       [15,  0],\n",
       "       [14,  1],\n",
       "       [13,  2],\n",
       "       [12,  3],\n",
       "       [11,  4],\n",
       "       [10,  5],\n",
       "       [ 9,  6],\n",
       "       [ 8,  7],\n",
       "       [ 7,  8],\n",
       "       [ 6,  9],\n",
       "       [ 5, 10],\n",
       "       [ 4, 11],\n",
       "       [ 3, 12],\n",
       "       [ 2, 13],\n",
       "       [ 1, 14],\n",
       "       [ 0, 15],\n",
       "       [16,  0],\n",
       "       [15,  1],\n",
       "       [14,  2],\n",
       "       [13,  3],\n",
       "       [12,  4],\n",
       "       [11,  5],\n",
       "       [10,  6],\n",
       "       [ 9,  7],\n",
       "       [ 8,  8],\n",
       "       [ 7,  9],\n",
       "       [ 6, 10],\n",
       "       [ 5, 11],\n",
       "       [ 4, 12],\n",
       "       [ 3, 13],\n",
       "       [ 2, 14],\n",
       "       [ 1, 15],\n",
       "       [ 0, 16],\n",
       "       [17,  0],\n",
       "       [16,  1],\n",
       "       [15,  2],\n",
       "       [14,  3],\n",
       "       [13,  4],\n",
       "       [12,  5],\n",
       "       [11,  6],\n",
       "       [10,  7],\n",
       "       [ 9,  8],\n",
       "       [ 8,  9],\n",
       "       [ 7, 10],\n",
       "       [ 6, 11],\n",
       "       [ 5, 12],\n",
       "       [ 4, 13],\n",
       "       [ 3, 14],\n",
       "       [ 2, 15],\n",
       "       [ 1, 16],\n",
       "       [ 0, 17],\n",
       "       [18,  0],\n",
       "       [17,  1],\n",
       "       [16,  2],\n",
       "       [15,  3],\n",
       "       [14,  4],\n",
       "       [13,  5],\n",
       "       [12,  6],\n",
       "       [11,  7],\n",
       "       [10,  8],\n",
       "       [ 9,  9],\n",
       "       [ 8, 10],\n",
       "       [ 7, 11],\n",
       "       [ 6, 12],\n",
       "       [ 5, 13],\n",
       "       [ 4, 14],\n",
       "       [ 3, 15],\n",
       "       [ 2, 16],\n",
       "       [ 1, 17],\n",
       "       [ 0, 18],\n",
       "       [19,  0],\n",
       "       [18,  1],\n",
       "       [17,  2],\n",
       "       [16,  3],\n",
       "       [15,  4],\n",
       "       [14,  5],\n",
       "       [13,  6],\n",
       "       [12,  7],\n",
       "       [11,  8],\n",
       "       [10,  9],\n",
       "       [ 9, 10],\n",
       "       [ 8, 11],\n",
       "       [ 7, 12],\n",
       "       [ 6, 13],\n",
       "       [ 5, 14],\n",
       "       [ 4, 15],\n",
       "       [ 3, 16],\n",
       "       [ 2, 17],\n",
       "       [ 1, 18],\n",
       "       [ 0, 19],\n",
       "       [20,  0],\n",
       "       [19,  1],\n",
       "       [18,  2],\n",
       "       [17,  3],\n",
       "       [16,  4],\n",
       "       [15,  5],\n",
       "       [14,  6],\n",
       "       [13,  7],\n",
       "       [12,  8],\n",
       "       [11,  9],\n",
       "       [10, 10],\n",
       "       [ 9, 11],\n",
       "       [ 8, 12],\n",
       "       [ 7, 13],\n",
       "       [ 6, 14],\n",
       "       [ 5, 15],\n",
       "       [ 4, 16],\n",
       "       [ 3, 17],\n",
       "       [ 2, 18],\n",
       "       [ 1, 19],\n",
       "       [ 0, 20],\n",
       "       [21,  0],\n",
       "       [20,  1],\n",
       "       [19,  2],\n",
       "       [18,  3],\n",
       "       [17,  4],\n",
       "       [16,  5],\n",
       "       [15,  6],\n",
       "       [14,  7],\n",
       "       [13,  8],\n",
       "       [12,  9],\n",
       "       [11, 10],\n",
       "       [10, 11],\n",
       "       [ 9, 12],\n",
       "       [ 8, 13],\n",
       "       [ 7, 14],\n",
       "       [ 6, 15],\n",
       "       [ 5, 16],\n",
       "       [ 4, 17],\n",
       "       [ 3, 18],\n",
       "       [ 2, 19],\n",
       "       [ 1, 20],\n",
       "       [ 0, 21],\n",
       "       [22,  0],\n",
       "       [21,  1],\n",
       "       [20,  2],\n",
       "       [19,  3],\n",
       "       [18,  4],\n",
       "       [17,  5],\n",
       "       [16,  6],\n",
       "       [15,  7],\n",
       "       [14,  8],\n",
       "       [13,  9],\n",
       "       [12, 10],\n",
       "       [11, 11],\n",
       "       [10, 12],\n",
       "       [ 9, 13],\n",
       "       [ 8, 14],\n",
       "       [ 7, 15],\n",
       "       [ 6, 16],\n",
       "       [ 5, 17],\n",
       "       [ 4, 18],\n",
       "       [ 3, 19],\n",
       "       [ 2, 20],\n",
       "       [ 1, 21],\n",
       "       [ 0, 22],\n",
       "       [23,  0],\n",
       "       [22,  1],\n",
       "       [21,  2],\n",
       "       [20,  3],\n",
       "       [19,  4],\n",
       "       [18,  5],\n",
       "       [17,  6],\n",
       "       [16,  7],\n",
       "       [15,  8],\n",
       "       [14,  9],\n",
       "       [13, 10],\n",
       "       [12, 11],\n",
       "       [11, 12],\n",
       "       [10, 13],\n",
       "       [ 9, 14],\n",
       "       [ 8, 15],\n",
       "       [ 7, 16],\n",
       "       [ 6, 17],\n",
       "       [ 5, 18],\n",
       "       [ 4, 19],\n",
       "       [ 3, 20],\n",
       "       [ 2, 21],\n",
       "       [ 1, 22],\n",
       "       [ 0, 23],\n",
       "       [24,  0],\n",
       "       [23,  1],\n",
       "       [22,  2],\n",
       "       [21,  3],\n",
       "       [20,  4],\n",
       "       [19,  5],\n",
       "       [18,  6],\n",
       "       [17,  7],\n",
       "       [16,  8],\n",
       "       [15,  9],\n",
       "       [14, 10],\n",
       "       [13, 11],\n",
       "       [12, 12],\n",
       "       [11, 13],\n",
       "       [10, 14],\n",
       "       [ 9, 15],\n",
       "       [ 8, 16],\n",
       "       [ 7, 17],\n",
       "       [ 6, 18],\n",
       "       [ 5, 19],\n",
       "       [ 4, 20],\n",
       "       [ 3, 21],\n",
       "       [ 2, 22],\n",
       "       [ 1, 23],\n",
       "       [ 0, 24],\n",
       "       [25,  0],\n",
       "       [24,  1],\n",
       "       [23,  2],\n",
       "       [22,  3],\n",
       "       [21,  4],\n",
       "       [20,  5],\n",
       "       [19,  6],\n",
       "       [18,  7],\n",
       "       [17,  8],\n",
       "       [16,  9],\n",
       "       [15, 10],\n",
       "       [14, 11],\n",
       "       [13, 12],\n",
       "       [12, 13],\n",
       "       [11, 14],\n",
       "       [10, 15],\n",
       "       [ 9, 16],\n",
       "       [ 8, 17],\n",
       "       [ 7, 18],\n",
       "       [ 6, 19],\n",
       "       [ 5, 20],\n",
       "       [ 4, 21],\n",
       "       [ 3, 22],\n",
       "       [ 2, 23],\n",
       "       [ 1, 24],\n",
       "       [ 0, 25],\n",
       "       [26,  0],\n",
       "       [25,  1],\n",
       "       [24,  2],\n",
       "       [23,  3],\n",
       "       [22,  4],\n",
       "       [21,  5],\n",
       "       [20,  6],\n",
       "       [19,  7],\n",
       "       [18,  8],\n",
       "       [17,  9],\n",
       "       [16, 10],\n",
       "       [15, 11],\n",
       "       [14, 12],\n",
       "       [13, 13],\n",
       "       [12, 14],\n",
       "       [11, 15],\n",
       "       [10, 16],\n",
       "       [ 9, 17],\n",
       "       [ 8, 18],\n",
       "       [ 7, 19],\n",
       "       [ 6, 20],\n",
       "       [ 5, 21],\n",
       "       [ 4, 22],\n",
       "       [ 3, 23],\n",
       "       [ 2, 24],\n",
       "       [ 1, 25],\n",
       "       [ 0, 26],\n",
       "       [27,  0],\n",
       "       [26,  1],\n",
       "       [25,  2],\n",
       "       [24,  3],\n",
       "       [23,  4],\n",
       "       [22,  5],\n",
       "       [21,  6],\n",
       "       [20,  7],\n",
       "       [19,  8],\n",
       "       [18,  9],\n",
       "       [17, 10],\n",
       "       [16, 11],\n",
       "       [15, 12],\n",
       "       [14, 13],\n",
       "       [13, 14],\n",
       "       [12, 15],\n",
       "       [11, 16],\n",
       "       [10, 17],\n",
       "       [ 9, 18],\n",
       "       [ 8, 19],\n",
       "       [ 7, 20],\n",
       "       [ 6, 21],\n",
       "       [ 5, 22],\n",
       "       [ 4, 23],\n",
       "       [ 3, 24],\n",
       "       [ 2, 25],\n",
       "       [ 1, 26],\n",
       "       [ 0, 27],\n",
       "       [28,  0],\n",
       "       [27,  1],\n",
       "       [26,  2],\n",
       "       [25,  3],\n",
       "       [24,  4],\n",
       "       [23,  5],\n",
       "       [22,  6],\n",
       "       [21,  7],\n",
       "       [20,  8],\n",
       "       [19,  9],\n",
       "       [18, 10],\n",
       "       [17, 11],\n",
       "       [16, 12],\n",
       "       [15, 13],\n",
       "       [14, 14],\n",
       "       [13, 15],\n",
       "       [12, 16],\n",
       "       [11, 17],\n",
       "       [10, 18],\n",
       "       [ 9, 19],\n",
       "       [ 8, 20],\n",
       "       [ 7, 21],\n",
       "       [ 6, 22],\n",
       "       [ 5, 23],\n",
       "       [ 4, 24],\n",
       "       [ 3, 25],\n",
       "       [ 2, 26],\n",
       "       [ 1, 27],\n",
       "       [ 0, 28],\n",
       "       [29,  0],\n",
       "       [28,  1],\n",
       "       [27,  2],\n",
       "       [26,  3],\n",
       "       [25,  4],\n",
       "       [24,  5],\n",
       "       [23,  6],\n",
       "       [22,  7],\n",
       "       [21,  8],\n",
       "       [20,  9],\n",
       "       [19, 10],\n",
       "       [18, 11],\n",
       "       [17, 12],\n",
       "       [16, 13],\n",
       "       [15, 14],\n",
       "       [14, 15],\n",
       "       [13, 16],\n",
       "       [12, 17],\n",
       "       [11, 18],\n",
       "       [10, 19],\n",
       "       [ 9, 20],\n",
       "       [ 8, 21],\n",
       "       [ 7, 22],\n",
       "       [ 6, 23],\n",
       "       [ 5, 24],\n",
       "       [ 4, 25],\n",
       "       [ 3, 26],\n",
       "       [ 2, 27],\n",
       "       [ 1, 28],\n",
       "       [ 0, 29],\n",
       "       [30,  0],\n",
       "       [29,  1],\n",
       "       [28,  2],\n",
       "       [27,  3],\n",
       "       [26,  4],\n",
       "       [25,  5],\n",
       "       [24,  6],\n",
       "       [23,  7],\n",
       "       [22,  8],\n",
       "       [21,  9],\n",
       "       [20, 10],\n",
       "       [19, 11],\n",
       "       [18, 12],\n",
       "       [17, 13],\n",
       "       [16, 14],\n",
       "       [15, 15],\n",
       "       [14, 16],\n",
       "       [13, 17],\n",
       "       [12, 18],\n",
       "       [11, 19],\n",
       "       [10, 20],\n",
       "       [ 9, 21],\n",
       "       [ 8, 22],\n",
       "       [ 7, 23],\n",
       "       [ 6, 24],\n",
       "       [ 5, 25],\n",
       "       [ 4, 26],\n",
       "       [ 3, 27],\n",
       "       [ 2, 28],\n",
       "       [ 1, 29],\n",
       "       [ 0, 30]], dtype=int64)"
      ]
     },
     "execution_count": 64,
     "metadata": {},
     "output_type": "execute_result"
    }
   ],
   "source": [
    "poly.powers_"
   ]
  },
  {
   "cell_type": "code",
   "execution_count": 79,
   "id": "70fe6643-9270-4152-a40c-67f7c8105a5d",
   "metadata": {},
   "outputs": [
    {
     "name": "stderr",
     "output_type": "stream",
     "text": [
      "C:\\Users\\Nadim Ansari\\anaconda3\\Lib\\site-packages\\sklearn\\utils\\validation.py:1339: DataConversionWarning:\n",
      "\n",
      "A column-vector y was passed when a 1d array was expected. Please change the shape of y to (n_samples, ), for example using ravel().\n",
      "\n"
     ]
    },
    {
     "data": {
      "image/png": "[encoded data removed]",
      "text/plain": [
       "<Figure size 640x480 with 1 Axes>"
      ]
     },
     "metadata": {},
     "output_type": "display_data"
    }
   ],
   "source": [
    "# Applying Gradient Descent\n",
    "\n",
    "poly = PolynomialFeatures(degree=2)\n",
    "\n",
    "X_train_trans = poly.fit_transform(X_train)\n",
    "X_test_trans = poly.transform(X_test)\n",
    "\n",
    "sgd = SGDRegressor(max_iter=100)\n",
    "sgd.fit(X_train_trans,y_train)\n",
    "\n",
    "X_new=np.linspace(-2.9, 2.8, 200).reshape(200, 1)\n",
    "X_new_poly = poly.transform(X_new)\n",
    "y_new = sgd.predict(X_new_poly)\n",
    "\n",
    "y_pred = sgd.predict(X_test_trans)\n",
    "\n",
    "plt.plot(X_new, y_new, \"r-\", linewidth=2, label=\"Predictions \" + str(round(r2_score(y_test,y_pred),2)))\n",
    "plt.plot(X_train, y_train, \"b.\",label='Training points')\n",
    "plt.plot(X_test, y_test, \"g.\",label='Testing points')\n",
    "plt.xlabel(\"X\")\n",
    "plt.ylabel(\"y\")\n",
    "plt.legend()\n",
    "plt.show()"
   ]
  },
  {
   "cell_type": "code",
   "execution_count": 66,
   "id": "78e988ce-d269-46d8-b7ad-20f49fb2c8b9",
   "metadata": {},
   "outputs": [],
   "source": [
    "# 3D polynomial regression\n",
    "x = 7 * np.random.rand(100, 1) - 2.8\n",
    "y = 7 * np.random.rand(100, 1) - 2.8\n",
    "\n",
    "z = x**2 + y**2 + 0.2*x + 0.2*y + 0.1*x*y +2 + np.random.randn(100, 1)\n",
    "# z = x^2 + y^2 + 0.2x + 0.2y + 0.1xy + 2"
   ]
  },
  {
   "cell_type": "code",
   "execution_count": 67,
   "id": "660c2cd1-8e47-4100-bfc0-8f015bc4dd6a",
   "metadata": {},
   "outputs": [
    {
     "data": {
      "application/vnd.plotly.v1+json": {
       "config": {
        "plotlyServerURL": "https://plot.ly"
       },
       "data": [
        {
         "hovertemplate": "x=%{x}<br>y=%{y}<br>z=%{z}<extra></extra>",
         "legendgroup": "",
         "marker": {
          "color": "#636efa",
          "symbol": "circle"
         },
         "mode": "markers",
         "name": "",
         "scene": "scene",
         "showlegend": false,
         "type": "scatter3d",
         "x": [
          -1.1624236598668778,
          2.7761160602737043,
          2.9958731409237744,
          -2.398266358011152,
          -1.8277334162740888,
          -2.7581667285035145,
          -0.5015780411934738,
          1.5432436542230796,
          1.568959996089478,
          -2.399955053070318,
          0.36209520996850664,
          -2.256812012922593,
          2.8736843426708667,
          1.2477534778187653,
          -0.6721411340075325,
          4.076080159720149,
          3.3998671758188097,
          -1.3449486820693255,
          0.7507218934043385,
          1.4308541725400348,
          2.6546821426444076,
          0.3893920731451779,
          3.8174932701535864,
          2.183247828193438,
          3.7053834556922167,
          2.4684227777590095,
          3.953884100698768,
          -2.624466689507337,
          1.3612674924283823,
          -0.9047845568539405,
          0.5219758961876617,
          0.5937235381207016,
          4.166136855742853,
          1.5430663750557878,
          1.7113288822297443,
          3.6347273308422414,
          0.7717512410283867,
          3.7549069238304984,
          -2.5461388872041604,
          1.3657087774771144,
          0.4551372673720717,
          -2.551407695605377,
          3.659943141188811,
          1.8994839232520473,
          3.5670765989657243,
          0.6404870588056926,
          -0.9979678216700878,
          -2.2194591850988434,
          0.17883208271515194,
          0.43972177832041703,
          2.3654347047026443,
          1.524592635872997,
          -1.1733576782660213,
          0.4225466355229033,
          2.3637569271087964,
          3.398949890243207,
          1.7367913784683529,
          -1.7079277882833197,
          3.5499541899020137,
          0.7407551801524286,
          -0.6466060076544045,
          3.7740767774385926,
          -1.636433180906237,
          3.3805491179146268,
          1.2730388777837183,
          -1.6556994306007062,
          3.9393724738439744,
          2.0143768972511937,
          3.634124623739776,
          1.2492235938109273,
          -1.7997142788520766,
          2.49464212560852,
          -2.018517956408975,
          2.8805369612058955,
          0.5460122404744228,
          0.6795428165373232,
          -0.3583257866565832,
          -1.1618324847882673,
          -1.1672560560660676,
          -2.6417682929929627,
          -1.2090058536673074,
          0.4644725474653937,
          2.9953095862058614,
          1.9560632621856175,
          0.5528122849578185,
          1.4198272938045688,
          -2.1573042037785677,
          -0.6716827863117176,
          2.9041836368253433,
          2.4273434623316357,
          3.7733142617187845,
          -2.022290398599388,
          2.096874062954006,
          3.191109951751968,
          -1.0341141474519673,
          -0.34854770064958407,
          1.9538624219108742,
          -0.1082799773200076,
          3.703924454065593,
          2.6059504757797463
         ],
         "y": [
          -0.4533796179951768,
          3.3431627905824604,
          0.331325360913477,
          -0.16977677453677487,
          0.9184574922091486,
          -0.7295269772456718,
          1.9800266917158034,
          2.724469465931933,
          0.8471835067955675,
          0.4135824272487927,
          3.986420034693598,
          -0.035285515282024615,
          3.8030849381365552,
          -1.9236263315396065,
          3.1674191343514844,
          1.4797544530748583,
          -1.558659974906784,
          3.0940109228861035,
          -1.7175226386802032,
          -2.353543480105893,
          -2.5536376988376768,
          1.8566587509775392,
          2.4503368691981144,
          3.5679587413404326,
          -2.4736655176217455,
          1.2363825501940067,
          0.9859325982157587,
          -0.08001225240582954,
          1.8262333103147084,
          2.0125605714762598,
          -1.8159289196382966,
          3.8063238302795623,
          -1.4190280474344719,
          -1.4808523466282604,
          1.0211880752252092,
          3.5270815868203806,
          -1.5439465851229395,
          2.274043449154208,
          3.70173249892488,
          2.096431493891438,
          2.9300706996726493,
          -1.419053440136104,
          0.9075190296973741,
          3.8062219839797367,
          -0.07870989770080117,
          2.3582487744317486,
          4.011449759442945,
          1.0077739729877768,
          2.400699597591207,
          3.885968454163959,
          1.1191545769963835,
          -0.004656555671594731,
          -2.2294169262918597,
          0.935986842148508,
          -1.1789006874214503,
          -2.320534842339751,
          2.2986014014143743,
          -1.7195180494247078,
          2.127033216025745,
          -0.37552922400831124,
          -0.3260037483504803,
          3.9200844296397355,
          2.4885402081514707,
          1.7002533082721278,
          3.9402711056042277,
          1.1917935672092894,
          3.8443987544634517,
          0.0845933909907508,
          -1.8143576068819538,
          -1.045690025772759,
          2.423374517052939,
          0.6770288482537121,
          -1.2583942758744089,
          1.8551700749239313,
          1.0271723447023016,
          -0.573603779156246,
          -0.18194859740799751,
          2.389623420373111,
          2.549883619682899,
          3.761724406883319,
          2.787278544348073,
          -1.8490529373935711,
          4.019177519978433,
          -0.30192029288869415,
          3.1419426608091827,
          3.3350182230610788,
          3.5984098733817644,
          -1.8362549744932726,
          -1.0915779079227652,
          -0.8101199036365652,
          2.818634782849866,
          3.8347497577393117,
          -1.2143817560552104,
          0.7878329360735976,
          -2.653549791904782,
          -2.074568324866001,
          -1.7028448366516011,
          1.8282459349541726,
          -0.3702850884159137,
          3.6161923599077967
         ],
         "z": [
          5.536496425046,
          23.19163414835856,
          11.592828485089866,
          6.8676934170371435,
          4.282554970968271,
          9.145000607093445,
          8.115372105948037,
          13.36129994554725,
          4.356566751154651,
          6.681334510297754,
          18.86556275188832,
          7.020023337430399,
          28.051274387423494,
          6.294865802505097,
          12.731337524993297,
          21.302135150579744,
          15.667888225308351,
          14.580429798290863,
          6.155141959512048,
          9.169468829137408,
          15.284607999076746,
          5.749339757252612,
          26.316642088798393,
          22.024996740508854,
          21.8991453825796,
          11.407367172525978,
          20.19082861788716,
          10.698704453208467,
          8.338727749182699,
          6.253545359638109,
          7.1252299666710375,
          16.53352432211451,
          19.82229154360016,
          6.54778139479324,
          5.437432495119161,
          30.599284223624725,
          6.7094401036917315,
          23.735747852211222,
          20.8411877769984,
          10.239519315643433,
          11.917134240917608,
          11.114651725856783,
          17.792315892320385,
          22.98079782327251,
          15.659207827894502,
          9.647558821819267,
          18.429921940834415,
          7.5357401947414315,
          9.134551564374853,
          17.811451868817493,
          10.038588593863839,
          5.04720207783327,
          8.46517376813964,
          3.676996403679705,
          8.885145713815646,
          17.29730238495976,
          10.788558932568634,
          7.56733914345884,
          22.375428990436035,
          2.3854688522291716,
          2.872593141999485,
          33.90776099824635,
          12.087537989098426,
          18.538884628261957,
          21.979605918327287,
          4.784939899656097,
          34.34946740488241,
          7.616800016261665,
          19.069491860056665,
          5.4948120754082534,
          9.364536805907356,
          9.649672001425428,
          6.948987401055188,
          14.268296610986429,
          4.8160474291452875,
          3.1167107361929873,
          2.5054025626066703,
          8.609410751429728,
          10.285796390687901,
          22.055300439618,
          12.53009518365723,
          5.368605790591473,
          30.919028135847846,
          6.5294954597549415,
          14.202837858199851,
          17.906961447023928,
          19.419075321509943,
          6.435192788237837,
          10.51283597080995,
          8.276159948232811,
          27.85359362537453,
          19.084545288764698,
          7.441426039572012,
          14.300752609946688,
          8.942804706380077,
          4.726949016038981,
          8.81457576446639,
          4.469262896428919,
          16.59938694939613,
          22.720919766366368
         ]
        }
       ],
       "layout": {
        "autosize": true,
        "legend": {
         "tracegroupgap": 0
        },
        "margin": {
         "t": 60
        },
        "scene": {
         "aspectmode": "auto",
         "aspectratio": {
          "x": 1,
          "y": 1,
          "z": 1
         },
         "domain": {
          "x": [
           0,
           1
          ],
          "y": [
           0,
           1
          ]
         },
         "xaxis": {
          "title": {
           "text": "x"
          },
          "type": "linear"
         },
         "yaxis": {
          "title": {
           "text": "y"
          },
          "type": "linear"
         },
         "zaxis": {
          "title": {
           "text": "z"
          },
          "type": "linear"
         }
        },
        "template": {
         "data": {
          "bar": [
           {
            "error_x": {
             "color": "#2a3f5f"
            },
            "error_y": {
             "color": "#2a3f5f"
            },
            "marker": {
             "line": {
              "color": "#E5ECF6",
              "width": 0.5
             },
             "pattern": {
              "fillmode": "overlay",
              "size": 10,
              "solidity": 0.2
             }
            },
            "type": "bar"
           }
          ],
          "barpolar": [
           {
            "marker": {
             "line": {
              "color": "#E5ECF6",
              "width": 0.5
             },
             "pattern": {
              "fillmode": "overlay",
              "size": 10,
              "solidity": 0.2
             }
            },
            "type": "barpolar"
           }
          ],
          "carpet": [
           {
            "aaxis": {
             "endlinecolor": "#2a3f5f",
             "gridcolor": "white",
             "linecolor": "white",
             "minorgridcolor": "white",
             "startlinecolor": "#2a3f5f"
            },
            "baxis": {
             "endlinecolor": "#2a3f5f",
             "gridcolor": "white",
             "linecolor": "white",
             "minorgridcolor": "white",
             "startlinecolor": "#2a3f5f"
            },
            "type": "carpet"
           }
          ],
          "choropleth": [
           {
            "colorbar": {
             "outlinewidth": 0,
             "ticks": ""
            },
            "type": "choropleth"
           }
          ],
          "contour": [
           {
            "colorbar": {
             "outlinewidth": 0,
             "ticks": ""
            },
            "colorscale": [
             [
              0,
              "#0d0887"
             ],
             [
              0.1111111111111111,
              "#46039f"
             ],
             [
              0.2222222222222222,
              "#7201a8"
             ],
             [
              0.3333333333333333,
              "#9c179e"
             ],
             [
              0.4444444444444444,
              "#bd3786"
             ],
             [
              0.5555555555555556,
              "#d8576b"
             ],
             [
              0.6666666666666666,
              "#ed7953"
             ],
             [
              0.7777777777777778,
              "#fb9f3a"
             ],
             [
              0.8888888888888888,
              "#fdca26"
             ],
             [
              1,
              "#f0f921"
             ]
            ],
            "type": "contour"
           }
          ],
          "contourcarpet": [
           {
            "colorbar": {
             "outlinewidth": 0,
             "ticks": ""
            },
            "type": "contourcarpet"
           }
          ],
          "heatmap": [
           {
            "colorbar": {
             "outlinewidth": 0,
             "ticks": ""
            },
            "colorscale": [
             [
              0,
              "#0d0887"
             ],
             [
              0.1111111111111111,
              "#46039f"
             ],
             [
              0.2222222222222222,
              "#7201a8"
             ],
             [
              0.3333333333333333,
              "#9c179e"
             ],
             [
              0.4444444444444444,
              "#bd3786"
             ],
             [
              0.5555555555555556,
              "#d8576b"
             ],
             [
              0.6666666666666666,
              "#ed7953"
             ],
             [
              0.7777777777777778,
              "#fb9f3a"
             ],
             [
              0.8888888888888888,
              "#fdca26"
             ],
             [
              1,
              "#f0f921"
             ]
            ],
            "type": "heatmap"
           }
          ],
          "heatmapgl": [
           {
            "colorbar": {
             "outlinewidth": 0,
             "ticks": ""
            },
            "colorscale": [
             [
              0,
              "#0d0887"
             ],
             [
              0.1111111111111111,
              "#46039f"
             ],
             [
              0.2222222222222222,
              "#7201a8"
             ],
             [
              0.3333333333333333,
              "#9c179e"
             ],
             [
              0.4444444444444444,
              "#bd3786"
             ],
             [
              0.5555555555555556,
              "#d8576b"
             ],
             [
              0.6666666666666666,
              "#ed7953"
             ],
             [
              0.7777777777777778,
              "#fb9f3a"
             ],
             [
              0.8888888888888888,
              "#fdca26"
             ],
             [
              1,
              "#f0f921"
             ]
            ],
            "type": "heatmapgl"
           }
          ],
          "histogram": [
           {
            "marker": {
             "pattern": {
              "fillmode": "overlay",
              "size": 10,
              "solidity": 0.2
             }
            },
            "type": "histogram"
           }
          ],
          "histogram2d": [
           {
            "colorbar": {
             "outlinewidth": 0,
             "ticks": ""
            },
            "colorscale": [
             [
              0,
              "#0d0887"
             ],
             [
              0.1111111111111111,
              "#46039f"
             ],
             [
              0.2222222222222222,
              "#7201a8"
             ],
             [
              0.3333333333333333,
              "#9c179e"
             ],
             [
              0.4444444444444444,
              "#bd3786"
             ],
             [
              0.5555555555555556,
              "#d8576b"
             ],
             [
              0.6666666666666666,
              "#ed7953"
             ],
             [
              0.7777777777777778,
              "#fb9f3a"
             ],
             [
              0.8888888888888888,
              "#fdca26"
             ],
             [
              1,
              "#f0f921"
             ]
            ],
            "type": "histogram2d"
           }
          ],
          "histogram2dcontour": [
           {
            "colorbar": {
             "outlinewidth": 0,
             "ticks": ""
            },
            "colorscale": [
             [
              0,
              "#0d0887"
             ],
             [
              0.1111111111111111,
              "#46039f"
             ],
             [
              0.2222222222222222,
              "#7201a8"
             ],
             [
              0.3333333333333333,
              "#9c179e"
             ],
             [
              0.4444444444444444,
              "#bd3786"
             ],
             [
              0.5555555555555556,
              "#d8576b"
             ],
             [
              0.6666666666666666,
              "#ed7953"
             ],
             [
              0.7777777777777778,
              "#fb9f3a"
             ],
             [
              0.8888888888888888,
              "#fdca26"
             ],
             [
              1,
              "#f0f921"
             ]
            ],
            "type": "histogram2dcontour"
           }
          ],
          "mesh3d": [
           {
            "colorbar": {
             "outlinewidth": 0,
             "ticks": ""
            },
            "type": "mesh3d"
           }
          ],
          "parcoords": [
           {
            "line": {
             "colorbar": {
              "outlinewidth": 0,
              "ticks": ""
             }
            },
            "type": "parcoords"
           }
          ],
          "pie": [
           {
            "automargin": true,
            "type": "pie"
           }
          ],
          "scatter": [
           {
            "fillpattern": {
             "fillmode": "overlay",
             "size": 10,
             "solidity": 0.2
            },
            "type": "scatter"
           }
          ],
          "scatter3d": [
           {
            "line": {
             "colorbar": {
              "outlinewidth": 0,
              "ticks": ""
             }
            },
            "marker": {
             "colorbar": {
              "outlinewidth": 0,
              "ticks": ""
             }
            },
            "type": "scatter3d"
           }
          ],
          "scattercarpet": [
           {
            "marker": {
             "colorbar": {
              "outlinewidth": 0,
              "ticks": ""
             }
            },
            "type": "scattercarpet"
           }
          ],
          "scattergeo": [
           {
            "marker": {
             "colorbar": {
              "outlinewidth": 0,
              "ticks": ""
             }
            },
            "type": "scattergeo"
           }
          ],
          "scattergl": [
           {
            "marker": {
             "colorbar": {
              "outlinewidth": 0,
              "ticks": ""
             }
            },
            "type": "scattergl"
           }
          ],
          "scattermapbox": [
           {
            "marker": {
             "colorbar": {
              "outlinewidth": 0,
              "ticks": ""
             }
            },
            "type": "scattermapbox"
           }
          ],
          "scatterpolar": [
           {
            "marker": {
             "colorbar": {
              "outlinewidth": 0,
              "ticks": ""
             }
            },
            "type": "scatterpolar"
           }
          ],
          "scatterpolargl": [
           {
            "marker": {
             "colorbar": {
              "outlinewidth": 0,
              "ticks": ""
             }
            },
            "type": "scatterpolargl"
           }
          ],
          "scatterternary": [
           {
            "marker": {
             "colorbar": {
              "outlinewidth": 0,
              "ticks": ""
             }
            },
            "type": "scatterternary"
           }
          ],
          "surface": [
           {
            "colorbar": {
             "outlinewidth": 0,
             "ticks": ""
            },
            "colorscale": [
             [
              0,
              "#0d0887"
             ],
             [
              0.1111111111111111,
              "#46039f"
             ],
             [
              0.2222222222222222,
              "#7201a8"
             ],
             [
              0.3333333333333333,
              "#9c179e"
             ],
             [
              0.4444444444444444,
              "#bd3786"
             ],
             [
              0.5555555555555556,
              "#d8576b"
             ],
             [
              0.6666666666666666,
              "#ed7953"
             ],
             [
              0.7777777777777778,
              "#fb9f3a"
             ],
             [
              0.8888888888888888,
              "#fdca26"
             ],
             [
              1,
              "#f0f921"
             ]
            ],
            "type": "surface"
           }
          ],
          "table": [
           {
            "cells": {
             "fill": {
              "color": "#EBF0F8"
             },
             "line": {
              "color": "white"
             }
            },
            "header": {
             "fill": {
              "color": "#C8D4E3"
             },
             "line": {
              "color": "white"
             }
            },
            "type": "table"
           }
          ]
         },
         "layout": {
          "annotationdefaults": {
           "arrowcolor": "#2a3f5f",
           "arrowhead": 0,
           "arrowwidth": 1
          },
          "autotypenumbers": "strict",
          "coloraxis": {
           "colorbar": {
            "outlinewidth": 0,
            "ticks": ""
           }
          },
          "colorscale": {
           "diverging": [
            [
             0,
             "#8e0152"
            ],
            [
             0.1,
             "#c51b7d"
            ],
            [
             0.2,
             "#de77ae"
            ],
            [
             0.3,
             "#f1b6da"
            ],
            [
             0.4,
             "#fde0ef"
            ],
            [
             0.5,
             "#f7f7f7"
            ],
            [
             0.6,
             "#e6f5d0"
            ],
            [
             0.7,
             "#b8e186"
            ],
            [
             0.8,
             "#7fbc41"
            ],
            [
             0.9,
             "#4d9221"
            ],
            [
             1,
             "#276419"
            ]
           ],
           "sequential": [
            [
             0,
             "#0d0887"
            ],
            [
             0.1111111111111111,
             "#46039f"
            ],
            [
             0.2222222222222222,
             "#7201a8"
            ],
            [
             0.3333333333333333,
             "#9c179e"
            ],
            [
             0.4444444444444444,
             "#bd3786"
            ],
            [
             0.5555555555555556,
             "#d8576b"
            ],
            [
             0.6666666666666666,
             "#ed7953"
            ],
            [
             0.7777777777777778,
             "#fb9f3a"
            ],
            [
             0.8888888888888888,
             "#fdca26"
            ],
            [
             1,
             "#f0f921"
            ]
           ],
           "sequentialminus": [
            [
             0,
             "#0d0887"
            ],
            [
             0.1111111111111111,
             "#46039f"
            ],
            [
             0.2222222222222222,
             "#7201a8"
            ],
            [
             0.3333333333333333,
             "#9c179e"
            ],
            [
             0.4444444444444444,
             "#bd3786"
            ],
            [
             0.5555555555555556,
             "#d8576b"
            ],
            [
             0.6666666666666666,
             "#ed7953"
            ],
            [
             0.7777777777777778,
             "#fb9f3a"
            ],
            [
             0.8888888888888888,
             "#fdca26"
            ],
            [
             1,
             "#f0f921"
            ]
           ]
          },
          "colorway": [
           "#636efa",
           "#EF553B",
           "#00cc96",
           "#ab63fa",
           "#FFA15A",
           "#19d3f3",
           "#FF6692",
           "#B6E880",
           "#FF97FF",
           "#FECB52"
          ],
          "font": {
           "color": "#2a3f5f"
          },
          "geo": {
           "bgcolor": "white",
           "lakecolor": "white",
           "landcolor": "#E5ECF6",
           "showlakes": true,
           "showland": true,
           "subunitcolor": "white"
          },
          "hoverlabel": {
           "align": "left"
          },
          "hovermode": "closest",
          "mapbox": {
           "style": "light"
          },
          "paper_bgcolor": "white",
          "plot_bgcolor": "#E5ECF6",
          "polar": {
           "angularaxis": {
            "gridcolor": "white",
            "linecolor": "white",
            "ticks": ""
           },
           "bgcolor": "#E5ECF6",
           "radialaxis": {
            "gridcolor": "white",
            "linecolor": "white",
            "ticks": ""
           }
          },
          "scene": {
           "xaxis": {
            "backgroundcolor": "#E5ECF6",
            "gridcolor": "white",
            "gridwidth": 2,
            "linecolor": "white",
            "showbackground": true,
            "ticks": "",
            "zerolinecolor": "white"
           },
           "yaxis": {
            "backgroundcolor": "#E5ECF6",
            "gridcolor": "white",
            "gridwidth": 2,
            "linecolor": "white",
            "showbackground": true,
            "ticks": "",
            "zerolinecolor": "white"
           },
           "zaxis": {
            "backgroundcolor": "#E5ECF6",
            "gridcolor": "white",
            "gridwidth": 2,
            "linecolor": "white",
            "showbackground": true,
            "ticks": "",
            "zerolinecolor": "white"
           }
          },
          "shapedefaults": {
           "line": {
            "color": "#2a3f5f"
           }
          },
          "ternary": {
           "aaxis": {
            "gridcolor": "white",
            "linecolor": "white",
            "ticks": ""
           },
           "baxis": {
            "gridcolor": "white",
            "linecolor": "white",
            "ticks": ""
           },
           "bgcolor": "#E5ECF6",
           "caxis": {
            "gridcolor": "white",
            "linecolor": "white",
            "ticks": ""
           }
          },
          "title": {
           "x": 0.05
          },
          "xaxis": {
           "automargin": true,
           "gridcolor": "white",
           "linecolor": "white",
           "ticks": "",
           "title": {
            "standoff": 15
           },
           "zerolinecolor": "white",
           "zerolinewidth": 2
          },
          "yaxis": {
           "automargin": true,
           "gridcolor": "white",
           "linecolor": "white",
           "ticks": "",
           "title": {
            "standoff": 15
           },
           "zerolinecolor": "white",
           "zerolinewidth": 2
          }
         }
        }
       }
      },
      "image/png": "[encoded data removed]",
      "text/html": [
       "<div>                            <div id=\"212610dc-f592-46a4-828c-92340b0628e0\" class=\"plotly-graph-div\" style=\"height:525px; width:100%;\"></div>            <script type=\"text/javascript\">                require([\"plotly\"], function(Plotly) {                    window.PLOTLYENV=window.PLOTLYENV || {};                                    if (document.getElementById(\"212610dc-f592-46a4-828c-92340b0628e0\")) {                    Plotly.newPlot(                        \"212610dc-f592-46a4-828c-92340b0628e0\",                        [{\"hovertemplate\":\"x=%{x}\\u003cbr\\u003ey=%{y}\\u003cbr\\u003ez=%{z}\\u003cextra\\u003e\\u003c\\u002fextra\\u003e\",\"legendgroup\":\"\",\"marker\":{\"color\":\"#636efa\",\"symbol\":\"circle\"},\"mode\":\"markers\",\"name\":\"\",\"scene\":\"scene\",\"showlegend\":false,\"x\":[-1.1624236598668778,2.7761160602737043,2.9958731409237744,-2.398266358011152,-1.8277334162740888,-2.7581667285035145,-0.5015780411934738,1.5432436542230796,1.568959996089478,-2.399955053070318,0.36209520996850664,-2.256812012922593,2.8736843426708667,1.2477534778187653,-0.6721411340075325,4.076080159720149,3.3998671758188097,-1.3449486820693255,0.7507218934043385,1.4308541725400348,2.6546821426444076,0.3893920731451779,3.8174932701535864,2.183247828193438,3.7053834556922167,2.4684227777590095,3.953884100698768,-2.624466689507337,1.3612674924283823,-0.9047845568539405,0.5219758961876617,0.5937235381207016,4.166136855742853,1.5430663750557878,1.7113288822297443,3.6347273308422414,0.7717512410283867,3.7549069238304984,-2.5461388872041604,1.3657087774771144,0.4551372673720717,-2.551407695605377,3.659943141188811,1.8994839232520473,3.5670765989657243,0.6404870588056926,-0.9979678216700878,-2.2194591850988434,0.17883208271515194,0.43972177832041703,2.3654347047026443,1.524592635872997,-1.1733576782660213,0.4225466355229033,2.3637569271087964,3.398949890243207,1.7367913784683529,-1.7079277882833197,3.5499541899020137,0.7407551801524286,-0.6466060076544045,3.7740767774385926,-1.636433180906237,3.3805491179146268,1.2730388777837183,-1.6556994306007062,3.9393724738439744,2.0143768972511937,3.634124623739776,1.2492235938109273,-1.7997142788520766,2.49464212560852,-2.018517956408975,2.8805369612058955,0.5460122404744228,0.6795428165373232,-0.3583257866565832,-1.1618324847882673,-1.1672560560660676,-2.6417682929929627,-1.2090058536673074,0.4644725474653937,2.9953095862058614,1.9560632621856175,0.5528122849578185,1.4198272938045688,-2.1573042037785677,-0.6716827863117176,2.9041836368253433,2.4273434623316357,3.7733142617187845,-2.022290398599388,2.096874062954006,3.191109951751968,-1.0341141474519673,-0.34854770064958407,1.9538624219108742,-0.1082799773200076,3.703924454065593,2.6059504757797463],\"y\":[-0.4533796179951768,3.3431627905824604,0.331325360913477,-0.16977677453677487,0.9184574922091486,-0.7295269772456718,1.9800266917158034,2.724469465931933,0.8471835067955675,0.4135824272487927,3.986420034693598,-0.035285515282024615,3.8030849381365552,-1.9236263315396065,3.1674191343514844,1.4797544530748583,-1.558659974906784,3.0940109228861035,-1.7175226386802032,-2.353543480105893,-2.5536376988376768,1.8566587509775392,2.4503368691981144,3.5679587413404326,-2.4736655176217455,1.2363825501940067,0.9859325982157587,-0.08001225240582954,1.8262333103147084,2.0125605714762598,-1.8159289196382966,3.8063238302795623,-1.4190280474344719,-1.4808523466282604,1.0211880752252092,3.5270815868203806,-1.5439465851229395,2.274043449154208,3.70173249892488,2.096431493891438,2.9300706996726493,-1.419053440136104,0.9075190296973741,3.8062219839797367,-0.07870989770080117,2.3582487744317486,4.011449759442945,1.0077739729877768,2.400699597591207,3.885968454163959,1.1191545769963835,-0.004656555671594731,-2.2294169262918597,0.935986842148508,-1.1789006874214503,-2.320534842339751,2.2986014014143743,-1.7195180494247078,2.127033216025745,-0.37552922400831124,-0.3260037483504803,3.9200844296397355,2.4885402081514707,1.7002533082721278,3.9402711056042277,1.1917935672092894,3.8443987544634517,0.0845933909907508,-1.8143576068819538,-1.045690025772759,2.423374517052939,0.6770288482537121,-1.2583942758744089,1.8551700749239313,1.0271723447023016,-0.573603779156246,-0.18194859740799751,2.389623420373111,2.549883619682899,3.761724406883319,2.787278544348073,-1.8490529373935711,4.019177519978433,-0.30192029288869415,3.1419426608091827,3.3350182230610788,3.5984098733817644,-1.8362549744932726,-1.0915779079227652,-0.8101199036365652,2.818634782849866,3.8347497577393117,-1.2143817560552104,0.7878329360735976,-2.653549791904782,-2.074568324866001,-1.7028448366516011,1.8282459349541726,-0.3702850884159137,3.6161923599077967],\"z\":[5.536496425046,23.19163414835856,11.592828485089866,6.8676934170371435,4.282554970968271,9.145000607093445,8.115372105948037,13.36129994554725,4.356566751154651,6.681334510297754,18.86556275188832,7.020023337430399,28.051274387423494,6.294865802505097,12.731337524993297,21.302135150579744,15.667888225308351,14.580429798290863,6.155141959512048,9.169468829137408,15.284607999076746,5.749339757252612,26.316642088798393,22.024996740508854,21.8991453825796,11.407367172525978,20.19082861788716,10.698704453208467,8.338727749182699,6.253545359638109,7.1252299666710375,16.53352432211451,19.82229154360016,6.54778139479324,5.437432495119161,30.599284223624725,6.7094401036917315,23.735747852211222,20.8411877769984,10.239519315643433,11.917134240917608,11.114651725856783,17.792315892320385,22.98079782327251,15.659207827894502,9.647558821819267,18.429921940834415,7.5357401947414315,9.134551564374853,17.811451868817493,10.038588593863839,5.04720207783327,8.46517376813964,3.676996403679705,8.885145713815646,17.29730238495976,10.788558932568634,7.56733914345884,22.375428990436035,2.3854688522291716,2.872593141999485,33.90776099824635,12.087537989098426,18.538884628261957,21.979605918327287,4.784939899656097,34.34946740488241,7.616800016261665,19.069491860056665,5.4948120754082534,9.364536805907356,9.649672001425428,6.948987401055188,14.268296610986429,4.8160474291452875,3.1167107361929873,2.5054025626066703,8.609410751429728,10.285796390687901,22.055300439618,12.53009518365723,5.368605790591473,30.919028135847846,6.5294954597549415,14.202837858199851,17.906961447023928,19.419075321509943,6.435192788237837,10.51283597080995,8.276159948232811,27.85359362537453,19.084545288764698,7.441426039572012,14.300752609946688,8.942804706380077,4.726949016038981,8.81457576446639,4.469262896428919,16.59938694939613,22.720919766366368],\"type\":\"scatter3d\"}],                        {\"template\":{\"data\":{\"histogram2dcontour\":[{\"type\":\"histogram2dcontour\",\"colorbar\":{\"outlinewidth\":0,\"ticks\":\"\"},\"colorscale\":[[0.0,\"#0d0887\"],[0.1111111111111111,\"#46039f\"],[0.2222222222222222,\"#7201a8\"],[0.3333333333333333,\"#9c179e\"],[0.4444444444444444,\"#bd3786\"],[0.5555555555555556,\"#d8576b\"],[0.6666666666666666,\"#ed7953\"],[0.7777777777777778,\"#fb9f3a\"],[0.8888888888888888,\"#fdca26\"],[1.0,\"#f0f921\"]]}],\"choropleth\":[{\"type\":\"choropleth\",\"colorbar\":{\"outlinewidth\":0,\"ticks\":\"\"}}],\"histogram2d\":[{\"type\":\"histogram2d\",\"colorbar\":{\"outlinewidth\":0,\"ticks\":\"\"},\"colorscale\":[[0.0,\"#0d0887\"],[0.1111111111111111,\"#46039f\"],[0.2222222222222222,\"#7201a8\"],[0.3333333333333333,\"#9c179e\"],[0.4444444444444444,\"#bd3786\"],[0.5555555555555556,\"#d8576b\"],[0.6666666666666666,\"#ed7953\"],[0.7777777777777778,\"#fb9f3a\"],[0.8888888888888888,\"#fdca26\"],[1.0,\"#f0f921\"]]}],\"heatmap\":[{\"type\":\"heatmap\",\"colorbar\":{\"outlinewidth\":0,\"ticks\":\"\"},\"colorscale\":[[0.0,\"#0d0887\"],[0.1111111111111111,\"#46039f\"],[0.2222222222222222,\"#7201a8\"],[0.3333333333333333,\"#9c179e\"],[0.4444444444444444,\"#bd3786\"],[0.5555555555555556,\"#d8576b\"],[0.6666666666666666,\"#ed7953\"],[0.7777777777777778,\"#fb9f3a\"],[0.8888888888888888,\"#fdca26\"],[1.0,\"#f0f921\"]]}],\"heatmapgl\":[{\"type\":\"heatmapgl\",\"colorbar\":{\"outlinewidth\":0,\"ticks\":\"\"},\"colorscale\":[[0.0,\"#0d0887\"],[0.1111111111111111,\"#46039f\"],[0.2222222222222222,\"#7201a8\"],[0.3333333333333333,\"#9c179e\"],[0.4444444444444444,\"#bd3786\"],[0.5555555555555556,\"#d8576b\"],[0.6666666666666666,\"#ed7953\"],[0.7777777777777778,\"#fb9f3a\"],[0.8888888888888888,\"#fdca26\"],[1.0,\"#f0f921\"]]}],\"contourcarpet\":[{\"type\":\"contourcarpet\",\"colorbar\":{\"outlinewidth\":0,\"ticks\":\"\"}}],\"contour\":[{\"type\":\"contour\",\"colorbar\":{\"outlinewidth\":0,\"ticks\":\"\"},\"colorscale\":[[0.0,\"#0d0887\"],[0.1111111111111111,\"#46039f\"],[0.2222222222222222,\"#7201a8\"],[0.3333333333333333,\"#9c179e\"],[0.4444444444444444,\"#bd3786\"],[0.5555555555555556,\"#d8576b\"],[0.6666666666666666,\"#ed7953\"],[0.7777777777777778,\"#fb9f3a\"],[0.8888888888888888,\"#fdca26\"],[1.0,\"#f0f921\"]]}],\"surface\":[{\"type\":\"surface\",\"colorbar\":{\"outlinewidth\":0,\"ticks\":\"\"},\"colorscale\":[[0.0,\"#0d0887\"],[0.1111111111111111,\"#46039f\"],[0.2222222222222222,\"#7201a8\"],[0.3333333333333333,\"#9c179e\"],[0.4444444444444444,\"#bd3786\"],[0.5555555555555556,\"#d8576b\"],[0.6666666666666666,\"#ed7953\"],[0.7777777777777778,\"#fb9f3a\"],[0.8888888888888888,\"#fdca26\"],[1.0,\"#f0f921\"]]}],\"mesh3d\":[{\"type\":\"mesh3d\",\"colorbar\":{\"outlinewidth\":0,\"ticks\":\"\"}}],\"scatter\":[{\"fillpattern\":{\"fillmode\":\"overlay\",\"size\":10,\"solidity\":0.2},\"type\":\"scatter\"}],\"parcoords\":[{\"type\":\"parcoords\",\"line\":{\"colorbar\":{\"outlinewidth\":0,\"ticks\":\"\"}}}],\"scatterpolargl\":[{\"type\":\"scatterpolargl\",\"marker\":{\"colorbar\":{\"outlinewidth\":0,\"ticks\":\"\"}}}],\"bar\":[{\"error_x\":{\"color\":\"#2a3f5f\"},\"error_y\":{\"color\":\"#2a3f5f\"},\"marker\":{\"line\":{\"color\":\"#E5ECF6\",\"width\":0.5},\"pattern\":{\"fillmode\":\"overlay\",\"size\":10,\"solidity\":0.2}},\"type\":\"bar\"}],\"scattergeo\":[{\"type\":\"scattergeo\",\"marker\":{\"colorbar\":{\"outlinewidth\":0,\"ticks\":\"\"}}}],\"scatterpolar\":[{\"type\":\"scatterpolar\",\"marker\":{\"colorbar\":{\"outlinewidth\":0,\"ticks\":\"\"}}}],\"histogram\":[{\"marker\":{\"pattern\":{\"fillmode\":\"overlay\",\"size\":10,\"solidity\":0.2}},\"type\":\"histogram\"}],\"scattergl\":[{\"type\":\"scattergl\",\"marker\":{\"colorbar\":{\"outlinewidth\":0,\"ticks\":\"\"}}}],\"scatter3d\":[{\"type\":\"scatter3d\",\"line\":{\"colorbar\":{\"outlinewidth\":0,\"ticks\":\"\"}},\"marker\":{\"colorbar\":{\"outlinewidth\":0,\"ticks\":\"\"}}}],\"scattermapbox\":[{\"type\":\"scattermapbox\",\"marker\":{\"colorbar\":{\"outlinewidth\":0,\"ticks\":\"\"}}}],\"scatterternary\":[{\"type\":\"scatterternary\",\"marker\":{\"colorbar\":{\"outlinewidth\":0,\"ticks\":\"\"}}}],\"scattercarpet\":[{\"type\":\"scattercarpet\",\"marker\":{\"colorbar\":{\"outlinewidth\":0,\"ticks\":\"\"}}}],\"carpet\":[{\"aaxis\":{\"endlinecolor\":\"#2a3f5f\",\"gridcolor\":\"white\",\"linecolor\":\"white\",\"minorgridcolor\":\"white\",\"startlinecolor\":\"#2a3f5f\"},\"baxis\":{\"endlinecolor\":\"#2a3f5f\",\"gridcolor\":\"white\",\"linecolor\":\"white\",\"minorgridcolor\":\"white\",\"startlinecolor\":\"#2a3f5f\"},\"type\":\"carpet\"}],\"table\":[{\"cells\":{\"fill\":{\"color\":\"#EBF0F8\"},\"line\":{\"color\":\"white\"}},\"header\":{\"fill\":{\"color\":\"#C8D4E3\"},\"line\":{\"color\":\"white\"}},\"type\":\"table\"}],\"barpolar\":[{\"marker\":{\"line\":{\"color\":\"#E5ECF6\",\"width\":0.5},\"pattern\":{\"fillmode\":\"overlay\",\"size\":10,\"solidity\":0.2}},\"type\":\"barpolar\"}],\"pie\":[{\"automargin\":true,\"type\":\"pie\"}]},\"layout\":{\"autotypenumbers\":\"strict\",\"colorway\":[\"#636efa\",\"#EF553B\",\"#00cc96\",\"#ab63fa\",\"#FFA15A\",\"#19d3f3\",\"#FF6692\",\"#B6E880\",\"#FF97FF\",\"#FECB52\"],\"font\":{\"color\":\"#2a3f5f\"},\"hovermode\":\"closest\",\"hoverlabel\":{\"align\":\"left\"},\"paper_bgcolor\":\"white\",\"plot_bgcolor\":\"#E5ECF6\",\"polar\":{\"bgcolor\":\"#E5ECF6\",\"angularaxis\":{\"gridcolor\":\"white\",\"linecolor\":\"white\",\"ticks\":\"\"},\"radialaxis\":{\"gridcolor\":\"white\",\"linecolor\":\"white\",\"ticks\":\"\"}},\"ternary\":{\"bgcolor\":\"#E5ECF6\",\"aaxis\":{\"gridcolor\":\"white\",\"linecolor\":\"white\",\"ticks\":\"\"},\"baxis\":{\"gridcolor\":\"white\",\"linecolor\":\"white\",\"ticks\":\"\"},\"caxis\":{\"gridcolor\":\"white\",\"linecolor\":\"white\",\"ticks\":\"\"}},\"coloraxis\":{\"colorbar\":{\"outlinewidth\":0,\"ticks\":\"\"}},\"colorscale\":{\"sequential\":[[0.0,\"#0d0887\"],[0.1111111111111111,\"#46039f\"],[0.2222222222222222,\"#7201a8\"],[0.3333333333333333,\"#9c179e\"],[0.4444444444444444,\"#bd3786\"],[0.5555555555555556,\"#d8576b\"],[0.6666666666666666,\"#ed7953\"],[0.7777777777777778,\"#fb9f3a\"],[0.8888888888888888,\"#fdca26\"],[1.0,\"#f0f921\"]],\"sequentialminus\":[[0.0,\"#0d0887\"],[0.1111111111111111,\"#46039f\"],[0.2222222222222222,\"#7201a8\"],[0.3333333333333333,\"#9c179e\"],[0.4444444444444444,\"#bd3786\"],[0.5555555555555556,\"#d8576b\"],[0.6666666666666666,\"#ed7953\"],[0.7777777777777778,\"#fb9f3a\"],[0.8888888888888888,\"#fdca26\"],[1.0,\"#f0f921\"]],\"diverging\":[[0,\"#8e0152\"],[0.1,\"#c51b7d\"],[0.2,\"#de77ae\"],[0.3,\"#f1b6da\"],[0.4,\"#fde0ef\"],[0.5,\"#f7f7f7\"],[0.6,\"#e6f5d0\"],[0.7,\"#b8e186\"],[0.8,\"#7fbc41\"],[0.9,\"#4d9221\"],[1,\"#276419\"]]},\"xaxis\":{\"gridcolor\":\"white\",\"linecolor\":\"white\",\"ticks\":\"\",\"title\":{\"standoff\":15},\"zerolinecolor\":\"white\",\"automargin\":true,\"zerolinewidth\":2},\"yaxis\":{\"gridcolor\":\"white\",\"linecolor\":\"white\",\"ticks\":\"\",\"title\":{\"standoff\":15},\"zerolinecolor\":\"white\",\"automargin\":true,\"zerolinewidth\":2},\"scene\":{\"xaxis\":{\"backgroundcolor\":\"#E5ECF6\",\"gridcolor\":\"white\",\"linecolor\":\"white\",\"showbackground\":true,\"ticks\":\"\",\"zerolinecolor\":\"white\",\"gridwidth\":2},\"yaxis\":{\"backgroundcolor\":\"#E5ECF6\",\"gridcolor\":\"white\",\"linecolor\":\"white\",\"showbackground\":true,\"ticks\":\"\",\"zerolinecolor\":\"white\",\"gridwidth\":2},\"zaxis\":{\"backgroundcolor\":\"#E5ECF6\",\"gridcolor\":\"white\",\"linecolor\":\"white\",\"showbackground\":true,\"ticks\":\"\",\"zerolinecolor\":\"white\",\"gridwidth\":2}},\"shapedefaults\":{\"line\":{\"color\":\"#2a3f5f\"}},\"annotationdefaults\":{\"arrowcolor\":\"#2a3f5f\",\"arrowhead\":0,\"arrowwidth\":1},\"geo\":{\"bgcolor\":\"white\",\"landcolor\":\"#E5ECF6\",\"subunitcolor\":\"white\",\"showland\":true,\"showlakes\":true,\"lakecolor\":\"white\"},\"title\":{\"x\":0.05},\"mapbox\":{\"style\":\"light\"}}},\"scene\":{\"domain\":{\"x\":[0.0,1.0],\"y\":[0.0,1.0]},\"xaxis\":{\"title\":{\"text\":\"x\"}},\"yaxis\":{\"title\":{\"text\":\"y\"}},\"zaxis\":{\"title\":{\"text\":\"z\"}}},\"legend\":{\"tracegroupgap\":0},\"margin\":{\"t\":60}},                        {\"responsive\": true}                    ).then(function(){\n",
       "                            \n",
       "var gd = document.getElementById('212610dc-f592-46a4-828c-92340b0628e0');\n",
       "var x = new MutationObserver(function (mutations, observer) {{\n",
       "        var display = window.getComputedStyle(gd).display;\n",
       "        if (!display || display === 'none') {{\n",
       "            console.log([gd, 'removed!']);\n",
       "            Plotly.purge(gd);\n",
       "            observer.disconnect();\n",
       "        }}\n",
       "}});\n",
       "\n",
       "// Listen for the removal of the full notebook cells\n",
       "var notebookContainer = gd.closest('#notebook-container');\n",
       "if (notebookContainer) {{\n",
       "    x.observe(notebookContainer, {childList: true});\n",
       "}}\n",
       "\n",
       "// Listen for the clearing of the current output cell\n",
       "var outputEl = gd.closest('.output');\n",
       "if (outputEl) {{\n",
       "    x.observe(outputEl, {childList: true});\n",
       "}}\n",
       "\n",
       "                        })                };                });            </script>        </div>"
      ]
     },
     "metadata": {},
     "output_type": "display_data"
    }
   ],
   "source": [
    "import plotly.express as px\n",
    "df = px.data.iris()\n",
    "fig = px.scatter_3d(df, x=x.ravel(), y=y.ravel(), z=z.ravel())\n",
    "fig.show()"
   ]
  },
  {
   "cell_type": "code",
   "execution_count": 68,
   "id": "0081092f-ca27-45dc-888b-5bfbb183f0d7",
   "metadata": {},
   "outputs": [],
   "source": [
    "lr = LinearRegression()\n",
    "lr.fit(np.array([x,y]).reshape(100,2),z)\n",
    "\n",
    "x_input = np.linspace(x.min(), x.max(), 10)\n",
    "y_input = np.linspace(y.min(), y.max(), 10)\n",
    "xGrid, yGrid = np.meshgrid(x_input,y_input)\n",
    "\n",
    "final = np.vstack((xGrid.ravel().reshape(1,100),yGrid.ravel().reshape(1,100))).T\n",
    "\n",
    "z_final = lr.predict(final).reshape(10,10)"
   ]
  },
  {
   "cell_type": "code",
   "execution_count": 69,
   "id": "fdcbc138-3818-401b-8f72-be02989ae080",
   "metadata": {},
   "outputs": [
    {
     "data": {
      "application/vnd.plotly.v1+json": {
       "config": {
        "plotlyServerURL": "https://plot.ly"
       },
       "data": [
        {
         "hovertemplate": "x=%{x}<br>y=%{y}<br>z=%{z}<extra></extra>",
         "legendgroup": "",
         "marker": {
          "color": "#636efa",
          "symbol": "circle"
         },
         "mode": "markers",
         "name": "",
         "scene": "scene",
         "showlegend": false,
         "type": "scatter3d",
         "x": [
          -1.1624236598668778,
          2.7761160602737043,
          2.9958731409237744,
          -2.398266358011152,
          -1.8277334162740888,
          -2.7581667285035145,
          -0.5015780411934738,
          1.5432436542230796,
          1.568959996089478,
          -2.399955053070318,
          0.36209520996850664,
          -2.256812012922593,
          2.8736843426708667,
          1.2477534778187653,
          -0.6721411340075325,
          4.076080159720149,
          3.3998671758188097,
          -1.3449486820693255,
          0.7507218934043385,
          1.4308541725400348,
          2.6546821426444076,
          0.3893920731451779,
          3.8174932701535864,
          2.183247828193438,
          3.7053834556922167,
          2.4684227777590095,
          3.953884100698768,
          -2.624466689507337,
          1.3612674924283823,
          -0.9047845568539405,
          0.5219758961876617,
          0.5937235381207016,
          4.166136855742853,
          1.5430663750557878,
          1.7113288822297443,
          3.6347273308422414,
          0.7717512410283867,
          3.7549069238304984,
          -2.5461388872041604,
          1.3657087774771144,
          0.4551372673720717,
          -2.551407695605377,
          3.659943141188811,
          1.8994839232520473,
          3.5670765989657243,
          0.6404870588056926,
          -0.9979678216700878,
          -2.2194591850988434,
          0.17883208271515194,
          0.43972177832041703,
          2.3654347047026443,
          1.524592635872997,
          -1.1733576782660213,
          0.4225466355229033,
          2.3637569271087964,
          3.398949890243207,
          1.7367913784683529,
          -1.7079277882833197,
          3.5499541899020137,
          0.7407551801524286,
          -0.6466060076544045,
          3.7740767774385926,
          -1.636433180906237,
          3.3805491179146268,
          1.2730388777837183,
          -1.6556994306007062,
          3.9393724738439744,
          2.0143768972511937,
          3.634124623739776,
          1.2492235938109273,
          -1.7997142788520766,
          2.49464212560852,
          -2.018517956408975,
          2.8805369612058955,
          0.5460122404744228,
          0.6795428165373232,
          -0.3583257866565832,
          -1.1618324847882673,
          -1.1672560560660676,
          -2.6417682929929627,
          -1.2090058536673074,
          0.4644725474653937,
          2.9953095862058614,
          1.9560632621856175,
          0.5528122849578185,
          1.4198272938045688,
          -2.1573042037785677,
          -0.6716827863117176,
          2.9041836368253433,
          2.4273434623316357,
          3.7733142617187845,
          -2.022290398599388,
          2.096874062954006,
          3.191109951751968,
          -1.0341141474519673,
          -0.34854770064958407,
          1.9538624219108742,
          -0.1082799773200076,
          3.703924454065593,
          2.6059504757797463
         ],
         "y": [
          -0.4533796179951768,
          3.3431627905824604,
          0.331325360913477,
          -0.16977677453677487,
          0.9184574922091486,
          -0.7295269772456718,
          1.9800266917158034,
          2.724469465931933,
          0.8471835067955675,
          0.4135824272487927,
          3.986420034693598,
          -0.035285515282024615,
          3.8030849381365552,
          -1.9236263315396065,
          3.1674191343514844,
          1.4797544530748583,
          -1.558659974906784,
          3.0940109228861035,
          -1.7175226386802032,
          -2.353543480105893,
          -2.5536376988376768,
          1.8566587509775392,
          2.4503368691981144,
          3.5679587413404326,
          -2.4736655176217455,
          1.2363825501940067,
          0.9859325982157587,
          -0.08001225240582954,
          1.8262333103147084,
          2.0125605714762598,
          -1.8159289196382966,
          3.8063238302795623,
          -1.4190280474344719,
          -1.4808523466282604,
          1.0211880752252092,
          3.5270815868203806,
          -1.5439465851229395,
          2.274043449154208,
          3.70173249892488,
          2.096431493891438,
          2.9300706996726493,
          -1.419053440136104,
          0.9075190296973741,
          3.8062219839797367,
          -0.07870989770080117,
          2.3582487744317486,
          4.011449759442945,
          1.0077739729877768,
          2.400699597591207,
          3.885968454163959,
          1.1191545769963835,
          -0.004656555671594731,
          -2.2294169262918597,
          0.935986842148508,
          -1.1789006874214503,
          -2.320534842339751,
          2.2986014014143743,
          -1.7195180494247078,
          2.127033216025745,
          -0.37552922400831124,
          -0.3260037483504803,
          3.9200844296397355,
          2.4885402081514707,
          1.7002533082721278,
          3.9402711056042277,
          1.1917935672092894,
          3.8443987544634517,
          0.0845933909907508,
          -1.8143576068819538,
          -1.045690025772759,
          2.423374517052939,
          0.6770288482537121,
          -1.2583942758744089,
          1.8551700749239313,
          1.0271723447023016,
          -0.573603779156246,
          -0.18194859740799751,
          2.389623420373111,
          2.549883619682899,
          3.761724406883319,
          2.787278544348073,
          -1.8490529373935711,
          4.019177519978433,
          -0.30192029288869415,
          3.1419426608091827,
          3.3350182230610788,
          3.5984098733817644,
          -1.8362549744932726,
          -1.0915779079227652,
          -0.8101199036365652,
          2.818634782849866,
          3.8347497577393117,
          -1.2143817560552104,
          0.7878329360735976,
          -2.653549791904782,
          -2.074568324866001,
          -1.7028448366516011,
          1.8282459349541726,
          -0.3702850884159137,
          3.6161923599077967
         ],
         "z": [
          5.536496425046,
          23.19163414835856,
          11.592828485089866,
          6.8676934170371435,
          4.282554970968271,
          9.145000607093445,
          8.115372105948037,
          13.36129994554725,
          4.356566751154651,
          6.681334510297754,
          18.86556275188832,
          7.020023337430399,
          28.051274387423494,
          6.294865802505097,
          12.731337524993297,
          21.302135150579744,
          15.667888225308351,
          14.580429798290863,
          6.155141959512048,
          9.169468829137408,
          15.284607999076746,
          5.749339757252612,
          26.316642088798393,
          22.024996740508854,
          21.8991453825796,
          11.407367172525978,
          20.19082861788716,
          10.698704453208467,
          8.338727749182699,
          6.253545359638109,
          7.1252299666710375,
          16.53352432211451,
          19.82229154360016,
          6.54778139479324,
          5.437432495119161,
          30.599284223624725,
          6.7094401036917315,
          23.735747852211222,
          20.8411877769984,
          10.239519315643433,
          11.917134240917608,
          11.114651725856783,
          17.792315892320385,
          22.98079782327251,
          15.659207827894502,
          9.647558821819267,
          18.429921940834415,
          7.5357401947414315,
          9.134551564374853,
          17.811451868817493,
          10.038588593863839,
          5.04720207783327,
          8.46517376813964,
          3.676996403679705,
          8.885145713815646,
          17.29730238495976,
          10.788558932568634,
          7.56733914345884,
          22.375428990436035,
          2.3854688522291716,
          2.872593141999485,
          33.90776099824635,
          12.087537989098426,
          18.538884628261957,
          21.979605918327287,
          4.784939899656097,
          34.34946740488241,
          7.616800016261665,
          19.069491860056665,
          5.4948120754082534,
          9.364536805907356,
          9.649672001425428,
          6.948987401055188,
          14.268296610986429,
          4.8160474291452875,
          3.1167107361929873,
          2.5054025626066703,
          8.609410751429728,
          10.285796390687901,
          22.055300439618,
          12.53009518365723,
          5.368605790591473,
          30.919028135847846,
          6.5294954597549415,
          14.202837858199851,
          17.906961447023928,
          19.419075321509943,
          6.435192788237837,
          10.51283597080995,
          8.276159948232811,
          27.85359362537453,
          19.084545288764698,
          7.441426039572012,
          14.300752609946688,
          8.942804706380077,
          4.726949016038981,
          8.81457576446639,
          4.469262896428919,
          16.59938694939613,
          22.720919766366368
         ]
        },
        {
         "type": "surface",
         "x": [
          -2.7581667285035145,
          -1.9887996635872516,
          -1.2194325986709884,
          -0.45006553375472524,
          0.3193015311615377,
          1.0886685960778006,
          1.858035660994064,
          2.6274027259103265,
          3.39676979082659,
          4.166136855742853
         ],
         "y": [
          -2.653549791904782,
          -1.9121356461399805,
          -1.170721500375179,
          -0.4293073546103776,
          0.3121067911544242,
          1.053520936919226,
          1.794935082684027,
          2.5363492284488287,
          3.2777633742136305,
          4.019177519978433
         ],
         "z": [
          [
           13.149086344931785,
           13.185671404900772,
           13.222256464869758,
           13.258841524838745,
           13.295426584807732,
           13.332011644776719,
           13.368596704745707,
           13.405181764714694,
           13.44176682468368,
           13.478351884652668
          ],
          [
           13.05130895332169,
           13.087894013290677,
           13.124479073259664,
           13.16106413322865,
           13.197649193197638,
           13.234234253166626,
           13.270819313135613,
           13.3074043731046,
           13.343989433073586,
           13.380574493042573
          ],
          [
           12.953531561711596,
           12.990116621680583,
           13.02670168164957,
           13.063286741618557,
           13.099871801587545,
           13.136456861556532,
           13.173041921525519,
           13.209626981494505,
           13.246212041463492,
           13.28279710143248
          ],
          [
           12.855754170101502,
           12.892339230070489,
           12.928924290039475,
           12.965509350008464,
           13.00209440997745,
           13.038679469946437,
           13.075264529915424,
           13.111849589884411,
           13.1484346498534,
           13.185019709822386
          ],
          [
           12.757976778491408,
           12.794561838460394,
           12.831146898429383,
           12.86773195839837,
           12.904317018367356,
           12.940902078336343,
           12.97748713830533,
           13.014072198274317,
           13.050657258243305,
           13.087242318212292
          ],
          [
           12.660199386881313,
           12.696784446850302,
           12.733369506819288,
           12.769954566788275,
           12.806539626757262,
           12.843124686726249,
           12.879709746695235,
           12.916294806664224,
           12.95287986663321,
           12.989464926602198
          ],
          [
           12.56242199527122,
           12.599007055240207,
           12.635592115209194,
           12.67217717517818,
           12.708762235147168,
           12.745347295116156,
           12.781932355085143,
           12.81851741505413,
           12.855102475023116,
           12.891687534992103
          ],
          [
           12.464644603661126,
           12.501229663630113,
           12.5378147235991,
           12.574399783568087,
           12.610984843537075,
           12.647569903506062,
           12.684154963475049,
           12.720740023444035,
           12.757325083413022,
           12.793910143382009
          ],
          [
           12.366867212051032,
           12.403452272020019,
           12.440037331989005,
           12.476622391957992,
           12.51320745192698,
           12.549792511895967,
           12.586377571864954,
           12.622962631833941,
           12.659547691802928,
           12.696132751771916
          ],
          [
           12.269089820440938,
           12.305674880409924,
           12.342259940378911,
           12.3788450003479,
           12.415430060316886,
           12.452015120285873,
           12.48860018025486,
           12.525185240223847,
           12.561770300192835,
           12.598355360161822
          ]
         ]
        }
       ],
       "layout": {
        "autosize": true,
        "legend": {
         "tracegroupgap": 0
        },
        "margin": {
         "t": 60
        },
        "scene": {
         "aspectmode": "auto",
         "aspectratio": {
          "x": 1,
          "y": 1,
          "z": 1
         },
         "domain": {
          "x": [
           0,
           1
          ],
          "y": [
           0,
           1
          ]
         },
         "xaxis": {
          "title": {
           "text": "x"
          },
          "type": "linear"
         },
         "yaxis": {
          "title": {
           "text": "y"
          },
          "type": "linear"
         },
         "zaxis": {
          "title": {
           "text": "z"
          },
          "type": "linear"
         }
        },
        "template": {
         "data": {
          "bar": [
           {
            "error_x": {
             "color": "#2a3f5f"
            },
            "error_y": {
             "color": "#2a3f5f"
            },
            "marker": {
             "line": {
              "color": "#E5ECF6",
              "width": 0.5
             },
             "pattern": {
              "fillmode": "overlay",
              "size": 10,
              "solidity": 0.2
             }
            },
            "type": "bar"
           }
          ],
          "barpolar": [
           {
            "marker": {
             "line": {
              "color": "#E5ECF6",
              "width": 0.5
             },
             "pattern": {
              "fillmode": "overlay",
              "size": 10,
              "solidity": 0.2
             }
            },
            "type": "barpolar"
           }
          ],
          "carpet": [
           {
            "aaxis": {
             "endlinecolor": "#2a3f5f",
             "gridcolor": "white",
             "linecolor": "white",
             "minorgridcolor": "white",
             "startlinecolor": "#2a3f5f"
            },
            "baxis": {
             "endlinecolor": "#2a3f5f",
             "gridcolor": "white",
             "linecolor": "white",
             "minorgridcolor": "white",
             "startlinecolor": "#2a3f5f"
            },
            "type": "carpet"
           }
          ],
          "choropleth": [
           {
            "colorbar": {
             "outlinewidth": 0,
             "ticks": ""
            },
            "type": "choropleth"
           }
          ],
          "contour": [
           {
            "colorbar": {
             "outlinewidth": 0,
             "ticks": ""
            },
            "colorscale": [
             [
              0,
              "#0d0887"
             ],
             [
              0.1111111111111111,
              "#46039f"
             ],
             [
              0.2222222222222222,
              "#7201a8"
             ],
             [
              0.3333333333333333,
              "#9c179e"
             ],
             [
              0.4444444444444444,
              "#bd3786"
             ],
             [
              0.5555555555555556,
              "#d8576b"
             ],
             [
              0.6666666666666666,
              "#ed7953"
             ],
             [
              0.7777777777777778,
              "#fb9f3a"
             ],
             [
              0.8888888888888888,
              "#fdca26"
             ],
             [
              1,
              "#f0f921"
             ]
            ],
            "type": "contour"
           }
          ],
          "contourcarpet": [
           {
            "colorbar": {
             "outlinewidth": 0,
             "ticks": ""
            },
            "type": "contourcarpet"
           }
          ],
          "heatmap": [
           {
            "colorbar": {
             "outlinewidth": 0,
             "ticks": ""
            },
            "colorscale": [
             [
              0,
              "#0d0887"
             ],
             [
              0.1111111111111111,
              "#46039f"
             ],
             [
              0.2222222222222222,
              "#7201a8"
             ],
             [
              0.3333333333333333,
              "#9c179e"
             ],
             [
              0.4444444444444444,
              "#bd3786"
             ],
             [
              0.5555555555555556,
              "#d8576b"
             ],
             [
              0.6666666666666666,
              "#ed7953"
             ],
             [
              0.7777777777777778,
              "#fb9f3a"
             ],
             [
              0.8888888888888888,
              "#fdca26"
             ],
             [
              1,
              "#f0f921"
             ]
            ],
            "type": "heatmap"
           }
          ],
          "heatmapgl": [
           {
            "colorbar": {
             "outlinewidth": 0,
             "ticks": ""
            },
            "colorscale": [
             [
              0,
              "#0d0887"
             ],
             [
              0.1111111111111111,
              "#46039f"
             ],
             [
              0.2222222222222222,
              "#7201a8"
             ],
             [
              0.3333333333333333,
              "#9c179e"
             ],
             [
              0.4444444444444444,
              "#bd3786"
             ],
             [
              0.5555555555555556,
              "#d8576b"
             ],
             [
              0.6666666666666666,
              "#ed7953"
             ],
             [
              0.7777777777777778,
              "#fb9f3a"
             ],
             [
              0.8888888888888888,
              "#fdca26"
             ],
             [
              1,
              "#f0f921"
             ]
            ],
            "type": "heatmapgl"
           }
          ],
          "histogram": [
           {
            "marker": {
             "pattern": {
              "fillmode": "overlay",
              "size": 10,
              "solidity": 0.2
             }
            },
            "type": "histogram"
           }
          ],
          "histogram2d": [
           {
            "colorbar": {
             "outlinewidth": 0,
             "ticks": ""
            },
            "colorscale": [
             [
              0,
              "#0d0887"
             ],
             [
              0.1111111111111111,
              "#46039f"
             ],
             [
              0.2222222222222222,
              "#7201a8"
             ],
             [
              0.3333333333333333,
              "#9c179e"
             ],
             [
              0.4444444444444444,
              "#bd3786"
             ],
             [
              0.5555555555555556,
              "#d8576b"
             ],
             [
              0.6666666666666666,
              "#ed7953"
             ],
             [
              0.7777777777777778,
              "#fb9f3a"
             ],
             [
              0.8888888888888888,
              "#fdca26"
             ],
             [
              1,
              "#f0f921"
             ]
            ],
            "type": "histogram2d"
           }
          ],
          "histogram2dcontour": [
           {
            "colorbar": {
             "outlinewidth": 0,
             "ticks": ""
            },
            "colorscale": [
             [
              0,
              "#0d0887"
             ],
             [
              0.1111111111111111,
              "#46039f"
             ],
             [
              0.2222222222222222,
              "#7201a8"
             ],
             [
              0.3333333333333333,
              "#9c179e"
             ],
             [
              0.4444444444444444,
              "#bd3786"
             ],
             [
              0.5555555555555556,
              "#d8576b"
             ],
             [
              0.6666666666666666,
              "#ed7953"
             ],
             [
              0.7777777777777778,
              "#fb9f3a"
             ],
             [
              0.8888888888888888,
              "#fdca26"
             ],
             [
              1,
              "#f0f921"
             ]
            ],
            "type": "histogram2dcontour"
           }
          ],
          "mesh3d": [
           {
            "colorbar": {
             "outlinewidth": 0,
             "ticks": ""
            },
            "type": "mesh3d"
           }
          ],
          "parcoords": [
           {
            "line": {
             "colorbar": {
              "outlinewidth": 0,
              "ticks": ""
             }
            },
            "type": "parcoords"
           }
          ],
          "pie": [
           {
            "automargin": true,
            "type": "pie"
           }
          ],
          "scatter": [
           {
            "fillpattern": {
             "fillmode": "overlay",
             "size": 10,
             "solidity": 0.2
            },
            "type": "scatter"
           }
          ],
          "scatter3d": [
           {
            "line": {
             "colorbar": {
              "outlinewidth": 0,
              "ticks": ""
             }
            },
            "marker": {
             "colorbar": {
              "outlinewidth": 0,
              "ticks": ""
             }
            },
            "type": "scatter3d"
           }
          ],
          "scattercarpet": [
           {
            "marker": {
             "colorbar": {
              "outlinewidth": 0,
              "ticks": ""
             }
            },
            "type": "scattercarpet"
           }
          ],
          "scattergeo": [
           {
            "marker": {
             "colorbar": {
              "outlinewidth": 0,
              "ticks": ""
             }
            },
            "type": "scattergeo"
           }
          ],
          "scattergl": [
           {
            "marker": {
             "colorbar": {
              "outlinewidth": 0,
              "ticks": ""
             }
            },
            "type": "scattergl"
           }
          ],
          "scattermapbox": [
           {
            "marker": {
             "colorbar": {
              "outlinewidth": 0,
              "ticks": ""
             }
            },
            "type": "scattermapbox"
           }
          ],
          "scatterpolar": [
           {
            "marker": {
             "colorbar": {
              "outlinewidth": 0,
              "ticks": ""
             }
            },
            "type": "scatterpolar"
           }
          ],
          "scatterpolargl": [
           {
            "marker": {
             "colorbar": {
              "outlinewidth": 0,
              "ticks": ""
             }
            },
            "type": "scatterpolargl"
           }
          ],
          "scatterternary": [
           {
            "marker": {
             "colorbar": {
              "outlinewidth": 0,
              "ticks": ""
             }
            },
            "type": "scatterternary"
           }
          ],
          "surface": [
           {
            "colorbar": {
             "outlinewidth": 0,
             "ticks": ""
            },
            "colorscale": [
             [
              0,
              "#0d0887"
             ],
             [
              0.1111111111111111,
              "#46039f"
             ],
             [
              0.2222222222222222,
              "#7201a8"
             ],
             [
              0.3333333333333333,
              "#9c179e"
             ],
             [
              0.4444444444444444,
              "#bd3786"
             ],
             [
              0.5555555555555556,
              "#d8576b"
             ],
             [
              0.6666666666666666,
              "#ed7953"
             ],
             [
              0.7777777777777778,
              "#fb9f3a"
             ],
             [
              0.8888888888888888,
              "#fdca26"
             ],
             [
              1,
              "#f0f921"
             ]
            ],
            "type": "surface"
           }
          ],
          "table": [
           {
            "cells": {
             "fill": {
              "color": "#EBF0F8"
             },
             "line": {
              "color": "white"
             }
            },
            "header": {
             "fill": {
              "color": "#C8D4E3"
             },
             "line": {
              "color": "white"
             }
            },
            "type": "table"
           }
          ]
         },
         "layout": {
          "annotationdefaults": {
           "arrowcolor": "#2a3f5f",
           "arrowhead": 0,
           "arrowwidth": 1
          },
          "autotypenumbers": "strict",
          "coloraxis": {
           "colorbar": {
            "outlinewidth": 0,
            "ticks": ""
           }
          },
          "colorscale": {
           "diverging": [
            [
             0,
             "#8e0152"
            ],
            [
             0.1,
             "#c51b7d"
            ],
            [
             0.2,
             "#de77ae"
            ],
            [
             0.3,
             "#f1b6da"
            ],
            [
             0.4,
             "#fde0ef"
            ],
            [
             0.5,
             "#f7f7f7"
            ],
            [
             0.6,
             "#e6f5d0"
            ],
            [
             0.7,
             "#b8e186"
            ],
            [
             0.8,
             "#7fbc41"
            ],
            [
             0.9,
             "#4d9221"
            ],
            [
             1,
             "#276419"
            ]
           ],
           "sequential": [
            [
             0,
             "#0d0887"
            ],
            [
             0.1111111111111111,
             "#46039f"
            ],
            [
             0.2222222222222222,
             "#7201a8"
            ],
            [
             0.3333333333333333,
             "#9c179e"
            ],
            [
             0.4444444444444444,
             "#bd3786"
            ],
            [
             0.5555555555555556,
             "#d8576b"
            ],
            [
             0.6666666666666666,
             "#ed7953"
            ],
            [
             0.7777777777777778,
             "#fb9f3a"
            ],
            [
             0.8888888888888888,
             "#fdca26"
            ],
            [
             1,
             "#f0f921"
            ]
           ],
           "sequentialminus": [
            [
             0,
             "#0d0887"
            ],
            [
             0.1111111111111111,
             "#46039f"
            ],
            [
             0.2222222222222222,
             "#7201a8"
            ],
            [
             0.3333333333333333,
             "#9c179e"
            ],
            [
             0.4444444444444444,
             "#bd3786"
            ],
            [
             0.5555555555555556,
             "#d8576b"
            ],
            [
             0.6666666666666666,
             "#ed7953"
            ],
            [
             0.7777777777777778,
             "#fb9f3a"
            ],
            [
             0.8888888888888888,
             "#fdca26"
            ],
            [
             1,
             "#f0f921"
            ]
           ]
          },
          "colorway": [
           "#636efa",
           "#EF553B",
           "#00cc96",
           "#ab63fa",
           "#FFA15A",
           "#19d3f3",
           "#FF6692",
           "#B6E880",
           "#FF97FF",
           "#FECB52"
          ],
          "font": {
           "color": "#2a3f5f"
          },
          "geo": {
           "bgcolor": "white",
           "lakecolor": "white",
           "landcolor": "#E5ECF6",
           "showlakes": true,
           "showland": true,
           "subunitcolor": "white"
          },
          "hoverlabel": {
           "align": "left"
          },
          "hovermode": "closest",
          "mapbox": {
           "style": "light"
          },
          "paper_bgcolor": "white",
          "plot_bgcolor": "#E5ECF6",
          "polar": {
           "angularaxis": {
            "gridcolor": "white",
            "linecolor": "white",
            "ticks": ""
           },
           "bgcolor": "#E5ECF6",
           "radialaxis": {
            "gridcolor": "white",
            "linecolor": "white",
            "ticks": ""
           }
          },
          "scene": {
           "xaxis": {
            "backgroundcolor": "#E5ECF6",
            "gridcolor": "white",
            "gridwidth": 2,
            "linecolor": "white",
            "showbackground": true,
            "ticks": "",
            "zerolinecolor": "white"
           },
           "yaxis": {
            "backgroundcolor": "#E5ECF6",
            "gridcolor": "white",
            "gridwidth": 2,
            "linecolor": "white",
            "showbackground": true,
            "ticks": "",
            "zerolinecolor": "white"
           },
           "zaxis": {
            "backgroundcolor": "#E5ECF6",
            "gridcolor": "white",
            "gridwidth": 2,
            "linecolor": "white",
            "showbackground": true,
            "ticks": "",
            "zerolinecolor": "white"
           }
          },
          "shapedefaults": {
           "line": {
            "color": "#2a3f5f"
           }
          },
          "ternary": {
           "aaxis": {
            "gridcolor": "white",
            "linecolor": "white",
            "ticks": ""
           },
           "baxis": {
            "gridcolor": "white",
            "linecolor": "white",
            "ticks": ""
           },
           "bgcolor": "#E5ECF6",
           "caxis": {
            "gridcolor": "white",
            "linecolor": "white",
            "ticks": ""
           }
          },
          "title": {
           "x": 0.05
          },
          "xaxis": {
           "automargin": true,
           "gridcolor": "white",
           "linecolor": "white",
           "ticks": "",
           "title": {
            "standoff": 15
           },
           "zerolinecolor": "white",
           "zerolinewidth": 2
          },
          "yaxis": {
           "automargin": true,
           "gridcolor": "white",
           "linecolor": "white",
           "ticks": "",
           "title": {
            "standoff": 15
           },
           "zerolinecolor": "white",
           "zerolinewidth": 2
          }
         }
        }
       }
      },
      "image/png": "[encoded data removed]",
      "text/html": [
       "<div>                            <div id=\"d38538c2-f788-466c-bb8d-863ae6c3306c\" class=\"plotly-graph-div\" style=\"height:525px; width:100%;\"></div>            <script type=\"text/javascript\">                require([\"plotly\"], function(Plotly) {                    window.PLOTLYENV=window.PLOTLYENV || {};                                    if (document.getElementById(\"d38538c2-f788-466c-bb8d-863ae6c3306c\")) {                    Plotly.newPlot(                        \"d38538c2-f788-466c-bb8d-863ae6c3306c\",                        [{\"hovertemplate\":\"x=%{x}\\u003cbr\\u003ey=%{y}\\u003cbr\\u003ez=%{z}\\u003cextra\\u003e\\u003c\\u002fextra\\u003e\",\"legendgroup\":\"\",\"marker\":{\"color\":\"#636efa\",\"symbol\":\"circle\"},\"mode\":\"markers\",\"name\":\"\",\"scene\":\"scene\",\"showlegend\":false,\"x\":[-1.1624236598668778,2.7761160602737043,2.9958731409237744,-2.398266358011152,-1.8277334162740888,-2.7581667285035145,-0.5015780411934738,1.5432436542230796,1.568959996089478,-2.399955053070318,0.36209520996850664,-2.256812012922593,2.8736843426708667,1.2477534778187653,-0.6721411340075325,4.076080159720149,3.3998671758188097,-1.3449486820693255,0.7507218934043385,1.4308541725400348,2.6546821426444076,0.3893920731451779,3.8174932701535864,2.183247828193438,3.7053834556922167,2.4684227777590095,3.953884100698768,-2.624466689507337,1.3612674924283823,-0.9047845568539405,0.5219758961876617,0.5937235381207016,4.166136855742853,1.5430663750557878,1.7113288822297443,3.6347273308422414,0.7717512410283867,3.7549069238304984,-2.5461388872041604,1.3657087774771144,0.4551372673720717,-2.551407695605377,3.659943141188811,1.8994839232520473,3.5670765989657243,0.6404870588056926,-0.9979678216700878,-2.2194591850988434,0.17883208271515194,0.43972177832041703,2.3654347047026443,1.524592635872997,-1.1733576782660213,0.4225466355229033,2.3637569271087964,3.398949890243207,1.7367913784683529,-1.7079277882833197,3.5499541899020137,0.7407551801524286,-0.6466060076544045,3.7740767774385926,-1.636433180906237,3.3805491179146268,1.2730388777837183,-1.6556994306007062,3.9393724738439744,2.0143768972511937,3.634124623739776,1.2492235938109273,-1.7997142788520766,2.49464212560852,-2.018517956408975,2.8805369612058955,0.5460122404744228,0.6795428165373232,-0.3583257866565832,-1.1618324847882673,-1.1672560560660676,-2.6417682929929627,-1.2090058536673074,0.4644725474653937,2.9953095862058614,1.9560632621856175,0.5528122849578185,1.4198272938045688,-2.1573042037785677,-0.6716827863117176,2.9041836368253433,2.4273434623316357,3.7733142617187845,-2.022290398599388,2.096874062954006,3.191109951751968,-1.0341141474519673,-0.34854770064958407,1.9538624219108742,-0.1082799773200076,3.703924454065593,2.6059504757797463],\"y\":[-0.4533796179951768,3.3431627905824604,0.331325360913477,-0.16977677453677487,0.9184574922091486,-0.7295269772456718,1.9800266917158034,2.724469465931933,0.8471835067955675,0.4135824272487927,3.986420034693598,-0.035285515282024615,3.8030849381365552,-1.9236263315396065,3.1674191343514844,1.4797544530748583,-1.558659974906784,3.0940109228861035,-1.7175226386802032,-2.353543480105893,-2.5536376988376768,1.8566587509775392,2.4503368691981144,3.5679587413404326,-2.4736655176217455,1.2363825501940067,0.9859325982157587,-0.08001225240582954,1.8262333103147084,2.0125605714762598,-1.8159289196382966,3.8063238302795623,-1.4190280474344719,-1.4808523466282604,1.0211880752252092,3.5270815868203806,-1.5439465851229395,2.274043449154208,3.70173249892488,2.096431493891438,2.9300706996726493,-1.419053440136104,0.9075190296973741,3.8062219839797367,-0.07870989770080117,2.3582487744317486,4.011449759442945,1.0077739729877768,2.400699597591207,3.885968454163959,1.1191545769963835,-0.004656555671594731,-2.2294169262918597,0.935986842148508,-1.1789006874214503,-2.320534842339751,2.2986014014143743,-1.7195180494247078,2.127033216025745,-0.37552922400831124,-0.3260037483504803,3.9200844296397355,2.4885402081514707,1.7002533082721278,3.9402711056042277,1.1917935672092894,3.8443987544634517,0.0845933909907508,-1.8143576068819538,-1.045690025772759,2.423374517052939,0.6770288482537121,-1.2583942758744089,1.8551700749239313,1.0271723447023016,-0.573603779156246,-0.18194859740799751,2.389623420373111,2.549883619682899,3.761724406883319,2.787278544348073,-1.8490529373935711,4.019177519978433,-0.30192029288869415,3.1419426608091827,3.3350182230610788,3.5984098733817644,-1.8362549744932726,-1.0915779079227652,-0.8101199036365652,2.818634782849866,3.8347497577393117,-1.2143817560552104,0.7878329360735976,-2.653549791904782,-2.074568324866001,-1.7028448366516011,1.8282459349541726,-0.3702850884159137,3.6161923599077967],\"z\":[5.536496425046,23.19163414835856,11.592828485089866,6.8676934170371435,4.282554970968271,9.145000607093445,8.115372105948037,13.36129994554725,4.356566751154651,6.681334510297754,18.86556275188832,7.020023337430399,28.051274387423494,6.294865802505097,12.731337524993297,21.302135150579744,15.667888225308351,14.580429798290863,6.155141959512048,9.169468829137408,15.284607999076746,5.749339757252612,26.316642088798393,22.024996740508854,21.8991453825796,11.407367172525978,20.19082861788716,10.698704453208467,8.338727749182699,6.253545359638109,7.1252299666710375,16.53352432211451,19.82229154360016,6.54778139479324,5.437432495119161,30.599284223624725,6.7094401036917315,23.735747852211222,20.8411877769984,10.239519315643433,11.917134240917608,11.114651725856783,17.792315892320385,22.98079782327251,15.659207827894502,9.647558821819267,18.429921940834415,7.5357401947414315,9.134551564374853,17.811451868817493,10.038588593863839,5.04720207783327,8.46517376813964,3.676996403679705,8.885145713815646,17.29730238495976,10.788558932568634,7.56733914345884,22.375428990436035,2.3854688522291716,2.872593141999485,33.90776099824635,12.087537989098426,18.538884628261957,21.979605918327287,4.784939899656097,34.34946740488241,7.616800016261665,19.069491860056665,5.4948120754082534,9.364536805907356,9.649672001425428,6.948987401055188,14.268296610986429,4.8160474291452875,3.1167107361929873,2.5054025626066703,8.609410751429728,10.285796390687901,22.055300439618,12.53009518365723,5.368605790591473,30.919028135847846,6.5294954597549415,14.202837858199851,17.906961447023928,19.419075321509943,6.435192788237837,10.51283597080995,8.276159948232811,27.85359362537453,19.084545288764698,7.441426039572012,14.300752609946688,8.942804706380077,4.726949016038981,8.81457576446639,4.469262896428919,16.59938694939613,22.720919766366368],\"type\":\"scatter3d\"},{\"x\":[-2.7581667285035145,-1.9887996635872516,-1.2194325986709884,-0.45006553375472524,0.3193015311615377,1.0886685960778006,1.858035660994064,2.6274027259103265,3.39676979082659,4.166136855742853],\"y\":[-2.653549791904782,-1.9121356461399805,-1.170721500375179,-0.4293073546103776,0.3121067911544242,1.053520936919226,1.794935082684027,2.5363492284488287,3.2777633742136305,4.019177519978433],\"z\":[[13.149086344931785,13.185671404900772,13.222256464869758,13.258841524838745,13.295426584807732,13.332011644776719,13.368596704745707,13.405181764714694,13.44176682468368,13.478351884652668],[13.05130895332169,13.087894013290677,13.124479073259664,13.16106413322865,13.197649193197638,13.234234253166626,13.270819313135613,13.3074043731046,13.343989433073586,13.380574493042573],[12.953531561711596,12.990116621680583,13.02670168164957,13.063286741618557,13.099871801587545,13.136456861556532,13.173041921525519,13.209626981494505,13.246212041463492,13.28279710143248],[12.855754170101502,12.892339230070489,12.928924290039475,12.965509350008464,13.00209440997745,13.038679469946437,13.075264529915424,13.111849589884411,13.1484346498534,13.185019709822386],[12.757976778491408,12.794561838460394,12.831146898429383,12.86773195839837,12.904317018367356,12.940902078336343,12.97748713830533,13.014072198274317,13.050657258243305,13.087242318212292],[12.660199386881313,12.696784446850302,12.733369506819288,12.769954566788275,12.806539626757262,12.843124686726249,12.879709746695235,12.916294806664224,12.95287986663321,12.989464926602198],[12.56242199527122,12.599007055240207,12.635592115209194,12.67217717517818,12.708762235147168,12.745347295116156,12.781932355085143,12.81851741505413,12.855102475023116,12.891687534992103],[12.464644603661126,12.501229663630113,12.5378147235991,12.574399783568087,12.610984843537075,12.647569903506062,12.684154963475049,12.720740023444035,12.757325083413022,12.793910143382009],[12.366867212051032,12.403452272020019,12.440037331989005,12.476622391957992,12.51320745192698,12.549792511895967,12.586377571864954,12.622962631833941,12.659547691802928,12.696132751771916],[12.269089820440938,12.305674880409924,12.342259940378911,12.3788450003479,12.415430060316886,12.452015120285873,12.48860018025486,12.525185240223847,12.561770300192835,12.598355360161822]],\"type\":\"surface\"}],                        {\"template\":{\"data\":{\"histogram2dcontour\":[{\"type\":\"histogram2dcontour\",\"colorbar\":{\"outlinewidth\":0,\"ticks\":\"\"},\"colorscale\":[[0.0,\"#0d0887\"],[0.1111111111111111,\"#46039f\"],[0.2222222222222222,\"#7201a8\"],[0.3333333333333333,\"#9c179e\"],[0.4444444444444444,\"#bd3786\"],[0.5555555555555556,\"#d8576b\"],[0.6666666666666666,\"#ed7953\"],[0.7777777777777778,\"#fb9f3a\"],[0.8888888888888888,\"#fdca26\"],[1.0,\"#f0f921\"]]}],\"choropleth\":[{\"type\":\"choropleth\",\"colorbar\":{\"outlinewidth\":0,\"ticks\":\"\"}}],\"histogram2d\":[{\"type\":\"histogram2d\",\"colorbar\":{\"outlinewidth\":0,\"ticks\":\"\"},\"colorscale\":[[0.0,\"#0d0887\"],[0.1111111111111111,\"#46039f\"],[0.2222222222222222,\"#7201a8\"],[0.3333333333333333,\"#9c179e\"],[0.4444444444444444,\"#bd3786\"],[0.5555555555555556,\"#d8576b\"],[0.6666666666666666,\"#ed7953\"],[0.7777777777777778,\"#fb9f3a\"],[0.8888888888888888,\"#fdca26\"],[1.0,\"#f0f921\"]]}],\"heatmap\":[{\"type\":\"heatmap\",\"colorbar\":{\"outlinewidth\":0,\"ticks\":\"\"},\"colorscale\":[[0.0,\"#0d0887\"],[0.1111111111111111,\"#46039f\"],[0.2222222222222222,\"#7201a8\"],[0.3333333333333333,\"#9c179e\"],[0.4444444444444444,\"#bd3786\"],[0.5555555555555556,\"#d8576b\"],[0.6666666666666666,\"#ed7953\"],[0.7777777777777778,\"#fb9f3a\"],[0.8888888888888888,\"#fdca26\"],[1.0,\"#f0f921\"]]}],\"heatmapgl\":[{\"type\":\"heatmapgl\",\"colorbar\":{\"outlinewidth\":0,\"ticks\":\"\"},\"colorscale\":[[0.0,\"#0d0887\"],[0.1111111111111111,\"#46039f\"],[0.2222222222222222,\"#7201a8\"],[0.3333333333333333,\"#9c179e\"],[0.4444444444444444,\"#bd3786\"],[0.5555555555555556,\"#d8576b\"],[0.6666666666666666,\"#ed7953\"],[0.7777777777777778,\"#fb9f3a\"],[0.8888888888888888,\"#fdca26\"],[1.0,\"#f0f921\"]]}],\"contourcarpet\":[{\"type\":\"contourcarpet\",\"colorbar\":{\"outlinewidth\":0,\"ticks\":\"\"}}],\"contour\":[{\"type\":\"contour\",\"colorbar\":{\"outlinewidth\":0,\"ticks\":\"\"},\"colorscale\":[[0.0,\"#0d0887\"],[0.1111111111111111,\"#46039f\"],[0.2222222222222222,\"#7201a8\"],[0.3333333333333333,\"#9c179e\"],[0.4444444444444444,\"#bd3786\"],[0.5555555555555556,\"#d8576b\"],[0.6666666666666666,\"#ed7953\"],[0.7777777777777778,\"#fb9f3a\"],[0.8888888888888888,\"#fdca26\"],[1.0,\"#f0f921\"]]}],\"surface\":[{\"type\":\"surface\",\"colorbar\":{\"outlinewidth\":0,\"ticks\":\"\"},\"colorscale\":[[0.0,\"#0d0887\"],[0.1111111111111111,\"#46039f\"],[0.2222222222222222,\"#7201a8\"],[0.3333333333333333,\"#9c179e\"],[0.4444444444444444,\"#bd3786\"],[0.5555555555555556,\"#d8576b\"],[0.6666666666666666,\"#ed7953\"],[0.7777777777777778,\"#fb9f3a\"],[0.8888888888888888,\"#fdca26\"],[1.0,\"#f0f921\"]]}],\"mesh3d\":[{\"type\":\"mesh3d\",\"colorbar\":{\"outlinewidth\":0,\"ticks\":\"\"}}],\"scatter\":[{\"fillpattern\":{\"fillmode\":\"overlay\",\"size\":10,\"solidity\":0.2},\"type\":\"scatter\"}],\"parcoords\":[{\"type\":\"parcoords\",\"line\":{\"colorbar\":{\"outlinewidth\":0,\"ticks\":\"\"}}}],\"scatterpolargl\":[{\"type\":\"scatterpolargl\",\"marker\":{\"colorbar\":{\"outlinewidth\":0,\"ticks\":\"\"}}}],\"bar\":[{\"error_x\":{\"color\":\"#2a3f5f\"},\"error_y\":{\"color\":\"#2a3f5f\"},\"marker\":{\"line\":{\"color\":\"#E5ECF6\",\"width\":0.5},\"pattern\":{\"fillmode\":\"overlay\",\"size\":10,\"solidity\":0.2}},\"type\":\"bar\"}],\"scattergeo\":[{\"type\":\"scattergeo\",\"marker\":{\"colorbar\":{\"outlinewidth\":0,\"ticks\":\"\"}}}],\"scatterpolar\":[{\"type\":\"scatterpolar\",\"marker\":{\"colorbar\":{\"outlinewidth\":0,\"ticks\":\"\"}}}],\"histogram\":[{\"marker\":{\"pattern\":{\"fillmode\":\"overlay\",\"size\":10,\"solidity\":0.2}},\"type\":\"histogram\"}],\"scattergl\":[{\"type\":\"scattergl\",\"marker\":{\"colorbar\":{\"outlinewidth\":0,\"ticks\":\"\"}}}],\"scatter3d\":[{\"type\":\"scatter3d\",\"line\":{\"colorbar\":{\"outlinewidth\":0,\"ticks\":\"\"}},\"marker\":{\"colorbar\":{\"outlinewidth\":0,\"ticks\":\"\"}}}],\"scattermapbox\":[{\"type\":\"scattermapbox\",\"marker\":{\"colorbar\":{\"outlinewidth\":0,\"ticks\":\"\"}}}],\"scatterternary\":[{\"type\":\"scatterternary\",\"marker\":{\"colorbar\":{\"outlinewidth\":0,\"ticks\":\"\"}}}],\"scattercarpet\":[{\"type\":\"scattercarpet\",\"marker\":{\"colorbar\":{\"outlinewidth\":0,\"ticks\":\"\"}}}],\"carpet\":[{\"aaxis\":{\"endlinecolor\":\"#2a3f5f\",\"gridcolor\":\"white\",\"linecolor\":\"white\",\"minorgridcolor\":\"white\",\"startlinecolor\":\"#2a3f5f\"},\"baxis\":{\"endlinecolor\":\"#2a3f5f\",\"gridcolor\":\"white\",\"linecolor\":\"white\",\"minorgridcolor\":\"white\",\"startlinecolor\":\"#2a3f5f\"},\"type\":\"carpet\"}],\"table\":[{\"cells\":{\"fill\":{\"color\":\"#EBF0F8\"},\"line\":{\"color\":\"white\"}},\"header\":{\"fill\":{\"color\":\"#C8D4E3\"},\"line\":{\"color\":\"white\"}},\"type\":\"table\"}],\"barpolar\":[{\"marker\":{\"line\":{\"color\":\"#E5ECF6\",\"width\":0.5},\"pattern\":{\"fillmode\":\"overlay\",\"size\":10,\"solidity\":0.2}},\"type\":\"barpolar\"}],\"pie\":[{\"automargin\":true,\"type\":\"pie\"}]},\"layout\":{\"autotypenumbers\":\"strict\",\"colorway\":[\"#636efa\",\"#EF553B\",\"#00cc96\",\"#ab63fa\",\"#FFA15A\",\"#19d3f3\",\"#FF6692\",\"#B6E880\",\"#FF97FF\",\"#FECB52\"],\"font\":{\"color\":\"#2a3f5f\"},\"hovermode\":\"closest\",\"hoverlabel\":{\"align\":\"left\"},\"paper_bgcolor\":\"white\",\"plot_bgcolor\":\"#E5ECF6\",\"polar\":{\"bgcolor\":\"#E5ECF6\",\"angularaxis\":{\"gridcolor\":\"white\",\"linecolor\":\"white\",\"ticks\":\"\"},\"radialaxis\":{\"gridcolor\":\"white\",\"linecolor\":\"white\",\"ticks\":\"\"}},\"ternary\":{\"bgcolor\":\"#E5ECF6\",\"aaxis\":{\"gridcolor\":\"white\",\"linecolor\":\"white\",\"ticks\":\"\"},\"baxis\":{\"gridcolor\":\"white\",\"linecolor\":\"white\",\"ticks\":\"\"},\"caxis\":{\"gridcolor\":\"white\",\"linecolor\":\"white\",\"ticks\":\"\"}},\"coloraxis\":{\"colorbar\":{\"outlinewidth\":0,\"ticks\":\"\"}},\"colorscale\":{\"sequential\":[[0.0,\"#0d0887\"],[0.1111111111111111,\"#46039f\"],[0.2222222222222222,\"#7201a8\"],[0.3333333333333333,\"#9c179e\"],[0.4444444444444444,\"#bd3786\"],[0.5555555555555556,\"#d8576b\"],[0.6666666666666666,\"#ed7953\"],[0.7777777777777778,\"#fb9f3a\"],[0.8888888888888888,\"#fdca26\"],[1.0,\"#f0f921\"]],\"sequentialminus\":[[0.0,\"#0d0887\"],[0.1111111111111111,\"#46039f\"],[0.2222222222222222,\"#7201a8\"],[0.3333333333333333,\"#9c179e\"],[0.4444444444444444,\"#bd3786\"],[0.5555555555555556,\"#d8576b\"],[0.6666666666666666,\"#ed7953\"],[0.7777777777777778,\"#fb9f3a\"],[0.8888888888888888,\"#fdca26\"],[1.0,\"#f0f921\"]],\"diverging\":[[0,\"#8e0152\"],[0.1,\"#c51b7d\"],[0.2,\"#de77ae\"],[0.3,\"#f1b6da\"],[0.4,\"#fde0ef\"],[0.5,\"#f7f7f7\"],[0.6,\"#e6f5d0\"],[0.7,\"#b8e186\"],[0.8,\"#7fbc41\"],[0.9,\"#4d9221\"],[1,\"#276419\"]]},\"xaxis\":{\"gridcolor\":\"white\",\"linecolor\":\"white\",\"ticks\":\"\",\"title\":{\"standoff\":15},\"zerolinecolor\":\"white\",\"automargin\":true,\"zerolinewidth\":2},\"yaxis\":{\"gridcolor\":\"white\",\"linecolor\":\"white\",\"ticks\":\"\",\"title\":{\"standoff\":15},\"zerolinecolor\":\"white\",\"automargin\":true,\"zerolinewidth\":2},\"scene\":{\"xaxis\":{\"backgroundcolor\":\"#E5ECF6\",\"gridcolor\":\"white\",\"linecolor\":\"white\",\"showbackground\":true,\"ticks\":\"\",\"zerolinecolor\":\"white\",\"gridwidth\":2},\"yaxis\":{\"backgroundcolor\":\"#E5ECF6\",\"gridcolor\":\"white\",\"linecolor\":\"white\",\"showbackground\":true,\"ticks\":\"\",\"zerolinecolor\":\"white\",\"gridwidth\":2},\"zaxis\":{\"backgroundcolor\":\"#E5ECF6\",\"gridcolor\":\"white\",\"linecolor\":\"white\",\"showbackground\":true,\"ticks\":\"\",\"zerolinecolor\":\"white\",\"gridwidth\":2}},\"shapedefaults\":{\"line\":{\"color\":\"#2a3f5f\"}},\"annotationdefaults\":{\"arrowcolor\":\"#2a3f5f\",\"arrowhead\":0,\"arrowwidth\":1},\"geo\":{\"bgcolor\":\"white\",\"landcolor\":\"#E5ECF6\",\"subunitcolor\":\"white\",\"showland\":true,\"showlakes\":true,\"lakecolor\":\"white\"},\"title\":{\"x\":0.05},\"mapbox\":{\"style\":\"light\"}}},\"scene\":{\"domain\":{\"x\":[0.0,1.0],\"y\":[0.0,1.0]},\"xaxis\":{\"title\":{\"text\":\"x\"}},\"yaxis\":{\"title\":{\"text\":\"y\"}},\"zaxis\":{\"title\":{\"text\":\"z\"}}},\"legend\":{\"tracegroupgap\":0},\"margin\":{\"t\":60}},                        {\"responsive\": true}                    ).then(function(){\n",
       "                            \n",
       "var gd = document.getElementById('d38538c2-f788-466c-bb8d-863ae6c3306c');\n",
       "var x = new MutationObserver(function (mutations, observer) {{\n",
       "        var display = window.getComputedStyle(gd).display;\n",
       "        if (!display || display === 'none') {{\n",
       "            console.log([gd, 'removed!']);\n",
       "            Plotly.purge(gd);\n",
       "            observer.disconnect();\n",
       "        }}\n",
       "}});\n",
       "\n",
       "// Listen for the removal of the full notebook cells\n",
       "var notebookContainer = gd.closest('#notebook-container');\n",
       "if (notebookContainer) {{\n",
       "    x.observe(notebookContainer, {childList: true});\n",
       "}}\n",
       "\n",
       "// Listen for the clearing of the current output cell\n",
       "var outputEl = gd.closest('.output');\n",
       "if (outputEl) {{\n",
       "    x.observe(outputEl, {childList: true});\n",
       "}}\n",
       "\n",
       "                        })                };                });            </script>        </div>"
      ]
     },
     "metadata": {},
     "output_type": "display_data"
    }
   ],
   "source": [
    "import plotly.graph_objects as go\n",
    "\n",
    "fig = px.scatter_3d(df, x=x.ravel(), y=y.ravel(), z=z.ravel())\n",
    "\n",
    "fig.add_trace(go.Surface(x = x_input, y = y_input, z =z_final ))\n",
    "\n",
    "fig.show()"
   ]
  },
  {
   "cell_type": "code",
   "execution_count": 70,
   "id": "b791c5f8-23ed-420d-a38c-c66dde5d69d1",
   "metadata": {},
   "outputs": [
    {
     "data": {
      "text/plain": [
       "(100, 2)"
      ]
     },
     "execution_count": 70,
     "metadata": {},
     "output_type": "execute_result"
    }
   ],
   "source": [
    "X_multi = np.array([x,y]).reshape(100,2)\n",
    "X_multi.shape"
   ]
  },
  {
   "cell_type": "code",
   "execution_count": 71,
   "id": "c434270a-b461-470e-9fa1-55a9bdf51d7a",
   "metadata": {},
   "outputs": [],
   "source": [
    "poly = PolynomialFeatures(degree=30)\n",
    "X_multi_trans = poly.fit_transform(X_multi)"
   ]
  },
  {
   "cell_type": "code",
   "execution_count": 80,
   "id": "772c7903-4ee6-40c0-bdbe-f4d754ee3459",
   "metadata": {},
   "outputs": [
    {
     "ename": "AttributeError",
     "evalue": "'PolynomialFeatures' object has no attribute 'n_input_features_'",
     "output_type": "error",
     "traceback": [
      "\u001b[1;31m---------------------------------------------------------------------------\u001b[0m",
      "\u001b[1;31mAttributeError\u001b[0m                            Traceback (most recent call last)",
      "Cell \u001b[1;32mIn[80], line 1\u001b[0m\n\u001b[1;32m----> 1\u001b[0m \u001b[38;5;28mprint\u001b[39m(\u001b[38;5;124m\"\u001b[39m\u001b[38;5;124mInput\u001b[39m\u001b[38;5;124m\"\u001b[39m,poly\u001b[38;5;241m.\u001b[39mn_input_features_)\n\u001b[0;32m      2\u001b[0m \u001b[38;5;28mprint\u001b[39m(\u001b[38;5;124m\"\u001b[39m\u001b[38;5;124mOuput\u001b[39m\u001b[38;5;124m\"\u001b[39m,poly\u001b[38;5;241m.\u001b[39mn_output_features_)\n\u001b[0;32m      3\u001b[0m \u001b[38;5;28mprint\u001b[39m(\u001b[38;5;124m\"\u001b[39m\u001b[38;5;124mPowers\u001b[39m\u001b[38;5;130;01m\\n\u001b[39;00m\u001b[38;5;124m\"\u001b[39m,poly\u001b[38;5;241m.\u001b[39mpowers_)\n",
      "\u001b[1;31mAttributeError\u001b[0m: 'PolynomialFeatures' object has no attribute 'n_input_features_'"
     ]
    }
   ],
   "source": [
    "print(\"Input\",poly.n_input_features_)\n",
    "print(\"Ouput\",poly.n_output_features_)\n",
    "print(\"Powers\\n\",poly.powers_)"
   ]
  },
  {
   "cell_type": "code",
   "execution_count": 73,
   "id": "0118e659-86a4-47b3-bbcf-be53574da8ba",
   "metadata": {},
   "outputs": [
    {
     "data": {
      "text/plain": [
       "(100, 496)"
      ]
     },
     "execution_count": 73,
     "metadata": {},
     "output_type": "execute_result"
    }
   ],
   "source": [
    "X_multi_trans.shape"
   ]
  },
  {
   "cell_type": "code",
   "execution_count": 74,
   "id": "a061b040-eaca-4de9-8069-3184526990b7",
   "metadata": {},
   "outputs": [
    {
     "data": {
      "text/html": [
       "<style>#sk-container-id-4 {\n",
       "  /* Definition of color scheme common for light and dark mode */\n",
       "  --sklearn-color-text: black;\n",
       "  --sklearn-color-line: gray;\n",
       "  /* Definition of color scheme for unfitted estimators */\n",
       "  --sklearn-color-unfitted-level-0: #fff5e6;\n",
       "  --sklearn-color-unfitted-level-1: #f6e4d2;\n",
       "  --sklearn-color-unfitted-level-2: #ffe0b3;\n",
       "  --sklearn-color-unfitted-level-3: chocolate;\n",
       "  /* Definition of color scheme for fitted estimators */\n",
       "  --sklearn-color-fitted-level-0: #f0f8ff;\n",
       "  --sklearn-color-fitted-level-1: #d4ebff;\n",
       "  --sklearn-color-fitted-level-2: #b3dbfd;\n",
       "  --sklearn-color-fitted-level-3: cornflowerblue;\n",
       "\n",
       "  /* Specific color for light theme */\n",
       "  --sklearn-color-text-on-default-background: var(--sg-text-color, var(--theme-code-foreground, var(--jp-content-font-color1, black)));\n",
       "  --sklearn-color-background: var(--sg-background-color, var(--theme-background, var(--jp-layout-color0, white)));\n",
       "  --sklearn-color-border-box: var(--sg-text-color, var(--theme-code-foreground, var(--jp-content-font-color1, black)));\n",
       "  --sklearn-color-icon: #696969;\n",
       "\n",
       "  @media (prefers-color-scheme: dark) {\n",
       "    /* Redefinition of color scheme for dark theme */\n",
       "    --sklearn-color-text-on-default-background: var(--sg-text-color, var(--theme-code-foreground, var(--jp-content-font-color1, white)));\n",
       "    --sklearn-color-background: var(--sg-background-color, var(--theme-background, var(--jp-layout-color0, #111)));\n",
       "    --sklearn-color-border-box: var(--sg-text-color, var(--theme-code-foreground, var(--jp-content-font-color1, white)));\n",
       "    --sklearn-color-icon: #878787;\n",
       "  }\n",
       "}\n",
       "\n",
       "#sk-container-id-4 {\n",
       "  color: var(--sklearn-color-text);\n",
       "}\n",
       "\n",
       "#sk-container-id-4 pre {\n",
       "  padding: 0;\n",
       "}\n",
       "\n",
       "#sk-container-id-4 input.sk-hidden--visually {\n",
       "  border: 0;\n",
       "  clip: rect(1px 1px 1px 1px);\n",
       "  clip: rect(1px, 1px, 1px, 1px);\n",
       "  height: 1px;\n",
       "  margin: -1px;\n",
       "  overflow: hidden;\n",
       "  padding: 0;\n",
       "  position: absolute;\n",
       "  width: 1px;\n",
       "}\n",
       "\n",
       "#sk-container-id-4 div.sk-dashed-wrapped {\n",
       "  border: 1px dashed var(--sklearn-color-line);\n",
       "  margin: 0 0.4em 0.5em 0.4em;\n",
       "  box-sizing: border-box;\n",
       "  padding-bottom: 0.4em;\n",
       "  background-color: var(--sklearn-color-background);\n",
       "}\n",
       "\n",
       "#sk-container-id-4 div.sk-container {\n",
       "  /* jupyter's `normalize.less` sets `[hidden] { display: none; }`\n",
       "     but bootstrap.min.css set `[hidden] { display: none !important; }`\n",
       "     so we also need the `!important` here to be able to override the\n",
       "     default hidden behavior on the sphinx rendered scikit-learn.org.\n",
       "     See: https://github.com/scikit-learn/scikit-learn/issues/21755 */\n",
       "  display: inline-block !important;\n",
       "  position: relative;\n",
       "}\n",
       "\n",
       "#sk-container-id-4 div.sk-text-repr-fallback {\n",
       "  display: none;\n",
       "}\n",
       "\n",
       "div.sk-parallel-item,\n",
       "div.sk-serial,\n",
       "div.sk-item {\n",
       "  /* draw centered vertical line to link estimators */\n",
       "  background-image: linear-gradient(var(--sklearn-color-text-on-default-background), var(--sklearn-color-text-on-default-background));\n",
       "  background-size: 2px 100%;\n",
       "  background-repeat: no-repeat;\n",
       "  background-position: center center;\n",
       "}\n",
       "\n",
       "/* Parallel-specific style estimator block */\n",
       "\n",
       "#sk-container-id-4 div.sk-parallel-item::after {\n",
       "  content: \"\";\n",
       "  width: 100%;\n",
       "  border-bottom: 2px solid var(--sklearn-color-text-on-default-background);\n",
       "  flex-grow: 1;\n",
       "}\n",
       "\n",
       "#sk-container-id-4 div.sk-parallel {\n",
       "  display: flex;\n",
       "  align-items: stretch;\n",
       "  justify-content: center;\n",
       "  background-color: var(--sklearn-color-background);\n",
       "  position: relative;\n",
       "}\n",
       "\n",
       "#sk-container-id-4 div.sk-parallel-item {\n",
       "  display: flex;\n",
       "  flex-direction: column;\n",
       "}\n",
       "\n",
       "#sk-container-id-4 div.sk-parallel-item:first-child::after {\n",
       "  align-self: flex-end;\n",
       "  width: 50%;\n",
       "}\n",
       "\n",
       "#sk-container-id-4 div.sk-parallel-item:last-child::after {\n",
       "  align-self: flex-start;\n",
       "  width: 50%;\n",
       "}\n",
       "\n",
       "#sk-container-id-4 div.sk-parallel-item:only-child::after {\n",
       "  width: 0;\n",
       "}\n",
       "\n",
       "/* Serial-specific style estimator block */\n",
       "\n",
       "#sk-container-id-4 div.sk-serial {\n",
       "  display: flex;\n",
       "  flex-direction: column;\n",
       "  align-items: center;\n",
       "  background-color: var(--sklearn-color-background);\n",
       "  padding-right: 1em;\n",
       "  padding-left: 1em;\n",
       "}\n",
       "\n",
       "\n",
       "/* Toggleable style: style used for estimator/Pipeline/ColumnTransformer box that is\n",
       "clickable and can be expanded/collapsed.\n",
       "- Pipeline and ColumnTransformer use this feature and define the default style\n",
       "- Estimators will overwrite some part of the style using the `sk-estimator` class\n",
       "*/\n",
       "\n",
       "/* Pipeline and ColumnTransformer style (default) */\n",
       "\n",
       "#sk-container-id-4 div.sk-toggleable {\n",
       "  /* Default theme specific background. It is overwritten whether we have a\n",
       "  specific estimator or a Pipeline/ColumnTransformer */\n",
       "  background-color: var(--sklearn-color-background);\n",
       "}\n",
       "\n",
       "/* Toggleable label */\n",
       "#sk-container-id-4 label.sk-toggleable__label {\n",
       "  cursor: pointer;\n",
       "  display: block;\n",
       "  width: 100%;\n",
       "  margin-bottom: 0;\n",
       "  padding: 0.5em;\n",
       "  box-sizing: border-box;\n",
       "  text-align: center;\n",
       "}\n",
       "\n",
       "#sk-container-id-4 label.sk-toggleable__label-arrow:before {\n",
       "  /* Arrow on the left of the label */\n",
       "  content: \"▸\";\n",
       "  float: left;\n",
       "  margin-right: 0.25em;\n",
       "  color: var(--sklearn-color-icon);\n",
       "}\n",
       "\n",
       "#sk-container-id-4 label.sk-toggleable__label-arrow:hover:before {\n",
       "  color: var(--sklearn-color-text);\n",
       "}\n",
       "\n",
       "/* Toggleable content - dropdown */\n",
       "\n",
       "#sk-container-id-4 div.sk-toggleable__content {\n",
       "  max-height: 0;\n",
       "  max-width: 0;\n",
       "  overflow: hidden;\n",
       "  text-align: left;\n",
       "  /* unfitted */\n",
       "  background-color: var(--sklearn-color-unfitted-level-0);\n",
       "}\n",
       "\n",
       "#sk-container-id-4 div.sk-toggleable__content.fitted {\n",
       "  /* fitted */\n",
       "  background-color: var(--sklearn-color-fitted-level-0);\n",
       "}\n",
       "\n",
       "#sk-container-id-4 div.sk-toggleable__content pre {\n",
       "  margin: 0.2em;\n",
       "  border-radius: 0.25em;\n",
       "  color: var(--sklearn-color-text);\n",
       "  /* unfitted */\n",
       "  background-color: var(--sklearn-color-unfitted-level-0);\n",
       "}\n",
       "\n",
       "#sk-container-id-4 div.sk-toggleable__content.fitted pre {\n",
       "  /* unfitted */\n",
       "  background-color: var(--sklearn-color-fitted-level-0);\n",
       "}\n",
       "\n",
       "#sk-container-id-4 input.sk-toggleable__control:checked~div.sk-toggleable__content {\n",
       "  /* Expand drop-down */\n",
       "  max-height: 200px;\n",
       "  max-width: 100%;\n",
       "  overflow: auto;\n",
       "}\n",
       "\n",
       "#sk-container-id-4 input.sk-toggleable__control:checked~label.sk-toggleable__label-arrow:before {\n",
       "  content: \"▾\";\n",
       "}\n",
       "\n",
       "/* Pipeline/ColumnTransformer-specific style */\n",
       "\n",
       "#sk-container-id-4 div.sk-label input.sk-toggleable__control:checked~label.sk-toggleable__label {\n",
       "  color: var(--sklearn-color-text);\n",
       "  background-color: var(--sklearn-color-unfitted-level-2);\n",
       "}\n",
       "\n",
       "#sk-container-id-4 div.sk-label.fitted input.sk-toggleable__control:checked~label.sk-toggleable__label {\n",
       "  background-color: var(--sklearn-color-fitted-level-2);\n",
       "}\n",
       "\n",
       "/* Estimator-specific style */\n",
       "\n",
       "/* Colorize estimator box */\n",
       "#sk-container-id-4 div.sk-estimator input.sk-toggleable__control:checked~label.sk-toggleable__label {\n",
       "  /* unfitted */\n",
       "  background-color: var(--sklearn-color-unfitted-level-2);\n",
       "}\n",
       "\n",
       "#sk-container-id-4 div.sk-estimator.fitted input.sk-toggleable__control:checked~label.sk-toggleable__label {\n",
       "  /* fitted */\n",
       "  background-color: var(--sklearn-color-fitted-level-2);\n",
       "}\n",
       "\n",
       "#sk-container-id-4 div.sk-label label.sk-toggleable__label,\n",
       "#sk-container-id-4 div.sk-label label {\n",
       "  /* The background is the default theme color */\n",
       "  color: var(--sklearn-color-text-on-default-background);\n",
       "}\n",
       "\n",
       "/* On hover, darken the color of the background */\n",
       "#sk-container-id-4 div.sk-label:hover label.sk-toggleable__label {\n",
       "  color: var(--sklearn-color-text);\n",
       "  background-color: var(--sklearn-color-unfitted-level-2);\n",
       "}\n",
       "\n",
       "/* Label box, darken color on hover, fitted */\n",
       "#sk-container-id-4 div.sk-label.fitted:hover label.sk-toggleable__label.fitted {\n",
       "  color: var(--sklearn-color-text);\n",
       "  background-color: var(--sklearn-color-fitted-level-2);\n",
       "}\n",
       "\n",
       "/* Estimator label */\n",
       "\n",
       "#sk-container-id-4 div.sk-label label {\n",
       "  font-family: monospace;\n",
       "  font-weight: bold;\n",
       "  display: inline-block;\n",
       "  line-height: 1.2em;\n",
       "}\n",
       "\n",
       "#sk-container-id-4 div.sk-label-container {\n",
       "  text-align: center;\n",
       "}\n",
       "\n",
       "/* Estimator-specific */\n",
       "#sk-container-id-4 div.sk-estimator {\n",
       "  font-family: monospace;\n",
       "  border: 1px dotted var(--sklearn-color-border-box);\n",
       "  border-radius: 0.25em;\n",
       "  box-sizing: border-box;\n",
       "  margin-bottom: 0.5em;\n",
       "  /* unfitted */\n",
       "  background-color: var(--sklearn-color-unfitted-level-0);\n",
       "}\n",
       "\n",
       "#sk-container-id-4 div.sk-estimator.fitted {\n",
       "  /* fitted */\n",
       "  background-color: var(--sklearn-color-fitted-level-0);\n",
       "}\n",
       "\n",
       "/* on hover */\n",
       "#sk-container-id-4 div.sk-estimator:hover {\n",
       "  /* unfitted */\n",
       "  background-color: var(--sklearn-color-unfitted-level-2);\n",
       "}\n",
       "\n",
       "#sk-container-id-4 div.sk-estimator.fitted:hover {\n",
       "  /* fitted */\n",
       "  background-color: var(--sklearn-color-fitted-level-2);\n",
       "}\n",
       "\n",
       "/* Specification for estimator info (e.g. \"i\" and \"?\") */\n",
       "\n",
       "/* Common style for \"i\" and \"?\" */\n",
       "\n",
       ".sk-estimator-doc-link,\n",
       "a:link.sk-estimator-doc-link,\n",
       "a:visited.sk-estimator-doc-link {\n",
       "  float: right;\n",
       "  font-size: smaller;\n",
       "  line-height: 1em;\n",
       "  font-family: monospace;\n",
       "  background-color: var(--sklearn-color-background);\n",
       "  border-radius: 1em;\n",
       "  height: 1em;\n",
       "  width: 1em;\n",
       "  text-decoration: none !important;\n",
       "  margin-left: 1ex;\n",
       "  /* unfitted */\n",
       "  border: var(--sklearn-color-unfitted-level-1) 1pt solid;\n",
       "  color: var(--sklearn-color-unfitted-level-1);\n",
       "}\n",
       "\n",
       ".sk-estimator-doc-link.fitted,\n",
       "a:link.sk-estimator-doc-link.fitted,\n",
       "a:visited.sk-estimator-doc-link.fitted {\n",
       "  /* fitted */\n",
       "  border: var(--sklearn-color-fitted-level-1) 1pt solid;\n",
       "  color: var(--sklearn-color-fitted-level-1);\n",
       "}\n",
       "\n",
       "/* On hover */\n",
       "div.sk-estimator:hover .sk-estimator-doc-link:hover,\n",
       ".sk-estimator-doc-link:hover,\n",
       "div.sk-label-container:hover .sk-estimator-doc-link:hover,\n",
       ".sk-estimator-doc-link:hover {\n",
       "  /* unfitted */\n",
       "  background-color: var(--sklearn-color-unfitted-level-3);\n",
       "  color: var(--sklearn-color-background);\n",
       "  text-decoration: none;\n",
       "}\n",
       "\n",
       "div.sk-estimator.fitted:hover .sk-estimator-doc-link.fitted:hover,\n",
       ".sk-estimator-doc-link.fitted:hover,\n",
       "div.sk-label-container:hover .sk-estimator-doc-link.fitted:hover,\n",
       ".sk-estimator-doc-link.fitted:hover {\n",
       "  /* fitted */\n",
       "  background-color: var(--sklearn-color-fitted-level-3);\n",
       "  color: var(--sklearn-color-background);\n",
       "  text-decoration: none;\n",
       "}\n",
       "\n",
       "/* Span, style for the box shown on hovering the info icon */\n",
       ".sk-estimator-doc-link span {\n",
       "  display: none;\n",
       "  z-index: 9999;\n",
       "  position: relative;\n",
       "  font-weight: normal;\n",
       "  right: .2ex;\n",
       "  padding: .5ex;\n",
       "  margin: .5ex;\n",
       "  width: min-content;\n",
       "  min-width: 20ex;\n",
       "  max-width: 50ex;\n",
       "  color: var(--sklearn-color-text);\n",
       "  box-shadow: 2pt 2pt 4pt #999;\n",
       "  /* unfitted */\n",
       "  background: var(--sklearn-color-unfitted-level-0);\n",
       "  border: .5pt solid var(--sklearn-color-unfitted-level-3);\n",
       "}\n",
       "\n",
       ".sk-estimator-doc-link.fitted span {\n",
       "  /* fitted */\n",
       "  background: var(--sklearn-color-fitted-level-0);\n",
       "  border: var(--sklearn-color-fitted-level-3);\n",
       "}\n",
       "\n",
       ".sk-estimator-doc-link:hover span {\n",
       "  display: block;\n",
       "}\n",
       "\n",
       "/* \"?\"-specific style due to the `<a>` HTML tag */\n",
       "\n",
       "#sk-container-id-4 a.estimator_doc_link {\n",
       "  float: right;\n",
       "  font-size: 1rem;\n",
       "  line-height: 1em;\n",
       "  font-family: monospace;\n",
       "  background-color: var(--sklearn-color-background);\n",
       "  border-radius: 1rem;\n",
       "  height: 1rem;\n",
       "  width: 1rem;\n",
       "  text-decoration: none;\n",
       "  /* unfitted */\n",
       "  color: var(--sklearn-color-unfitted-level-1);\n",
       "  border: var(--sklearn-color-unfitted-level-1) 1pt solid;\n",
       "}\n",
       "\n",
       "#sk-container-id-4 a.estimator_doc_link.fitted {\n",
       "  /* fitted */\n",
       "  border: var(--sklearn-color-fitted-level-1) 1pt solid;\n",
       "  color: var(--sklearn-color-fitted-level-1);\n",
       "}\n",
       "\n",
       "/* On hover */\n",
       "#sk-container-id-4 a.estimator_doc_link:hover {\n",
       "  /* unfitted */\n",
       "  background-color: var(--sklearn-color-unfitted-level-3);\n",
       "  color: var(--sklearn-color-background);\n",
       "  text-decoration: none;\n",
       "}\n",
       "\n",
       "#sk-container-id-4 a.estimator_doc_link.fitted:hover {\n",
       "  /* fitted */\n",
       "  background-color: var(--sklearn-color-fitted-level-3);\n",
       "}\n",
       "</style><div id=\"sk-container-id-4\" class=\"sk-top-container\"><div class=\"sk-text-repr-fallback\"><pre>LinearRegression()</pre><b>In a Jupyter environment, please rerun this cell to show the HTML representation or trust the notebook. <br />On GitHub, the HTML representation is unable to render, please try loading this page with nbviewer.org.</b></div><div class=\"sk-container\" hidden><div class=\"sk-item\"><div class=\"sk-estimator fitted sk-toggleable\"><input class=\"sk-toggleable__control sk-hidden--visually\" id=\"sk-estimator-id-4\" type=\"checkbox\" checked><label for=\"sk-estimator-id-4\" class=\"sk-toggleable__label fitted sk-toggleable__label-arrow fitted\">&nbsp;&nbsp;LinearRegression<a class=\"sk-estimator-doc-link fitted\" rel=\"noreferrer\" target=\"_blank\" href=\"https://scikit-learn.org/1.5/modules/generated/sklearn.linear_model.LinearRegression.html\">?<span>Documentation for LinearRegression</span></a><span class=\"sk-estimator-doc-link fitted\">i<span>Fitted</span></span></label><div class=\"sk-toggleable__content fitted\"><pre>LinearRegression()</pre></div> </div></div></div></div>"
      ],
      "text/plain": [
       "LinearRegression()"
      ]
     },
     "execution_count": 74,
     "metadata": {},
     "output_type": "execute_result"
    }
   ],
   "source": [
    "lr = LinearRegression()\n",
    "lr.fit(X_multi_trans,z)"
   ]
  },
  {
   "cell_type": "code",
   "execution_count": 75,
   "id": "9c750827-6503-49e1-9c03-c1ca5b5530d5",
   "metadata": {},
   "outputs": [],
   "source": [
    "X_test_multi = poly.transform(final)"
   ]
  },
  {
   "cell_type": "code",
   "execution_count": 76,
   "id": "d86e4a9b-038d-408e-8a78-951cbea0c88d",
   "metadata": {},
   "outputs": [],
   "source": [
    "z_final = lr.predict(X_multi_trans).reshape(10,10)"
   ]
  },
  {
   "cell_type": "code",
   "execution_count": 77,
   "id": "2209f8cd-4756-44dd-8f4b-c2dba67e8ca0",
   "metadata": {},
   "outputs": [
    {
     "data": {
      "application/vnd.plotly.v1+json": {
       "config": {
        "plotlyServerURL": "https://plot.ly"
       },
       "data": [
        {
         "hovertemplate": "x=%{x}<br>y=%{y}<br>z=%{z}<extra></extra>",
         "legendgroup": "",
         "marker": {
          "color": "#636efa",
          "symbol": "circle"
         },
         "mode": "markers",
         "name": "",
         "scene": "scene",
         "showlegend": false,
         "type": "scatter3d",
         "x": [
          -1.1624236598668778,
          2.7761160602737043,
          2.9958731409237744,
          -2.398266358011152,
          -1.8277334162740888,
          -2.7581667285035145,
          -0.5015780411934738,
          1.5432436542230796,
          1.568959996089478,
          -2.399955053070318,
          0.36209520996850664,
          -2.256812012922593,
          2.8736843426708667,
          1.2477534778187653,
          -0.6721411340075325,
          4.076080159720149,
          3.3998671758188097,
          -1.3449486820693255,
          0.7507218934043385,
          1.4308541725400348,
          2.6546821426444076,
          0.3893920731451779,
          3.8174932701535864,
          2.183247828193438,
          3.7053834556922167,
          2.4684227777590095,
          3.953884100698768,
          -2.624466689507337,
          1.3612674924283823,
          -0.9047845568539405,
          0.5219758961876617,
          0.5937235381207016,
          4.166136855742853,
          1.5430663750557878,
          1.7113288822297443,
          3.6347273308422414,
          0.7717512410283867,
          3.7549069238304984,
          -2.5461388872041604,
          1.3657087774771144,
          0.4551372673720717,
          -2.551407695605377,
          3.659943141188811,
          1.8994839232520473,
          3.5670765989657243,
          0.6404870588056926,
          -0.9979678216700878,
          -2.2194591850988434,
          0.17883208271515194,
          0.43972177832041703,
          2.3654347047026443,
          1.524592635872997,
          -1.1733576782660213,
          0.4225466355229033,
          2.3637569271087964,
          3.398949890243207,
          1.7367913784683529,
          -1.7079277882833197,
          3.5499541899020137,
          0.7407551801524286,
          -0.6466060076544045,
          3.7740767774385926,
          -1.636433180906237,
          3.3805491179146268,
          1.2730388777837183,
          -1.6556994306007062,
          3.9393724738439744,
          2.0143768972511937,
          3.634124623739776,
          1.2492235938109273,
          -1.7997142788520766,
          2.49464212560852,
          -2.018517956408975,
          2.8805369612058955,
          0.5460122404744228,
          0.6795428165373232,
          -0.3583257866565832,
          -1.1618324847882673,
          -1.1672560560660676,
          -2.6417682929929627,
          -1.2090058536673074,
          0.4644725474653937,
          2.9953095862058614,
          1.9560632621856175,
          0.5528122849578185,
          1.4198272938045688,
          -2.1573042037785677,
          -0.6716827863117176,
          2.9041836368253433,
          2.4273434623316357,
          3.7733142617187845,
          -2.022290398599388,
          2.096874062954006,
          3.191109951751968,
          -1.0341141474519673,
          -0.34854770064958407,
          1.9538624219108742,
          -0.1082799773200076,
          3.703924454065593,
          2.6059504757797463
         ],
         "y": [
          -0.4533796179951768,
          3.3431627905824604,
          0.331325360913477,
          -0.16977677453677487,
          0.9184574922091486,
          -0.7295269772456718,
          1.9800266917158034,
          2.724469465931933,
          0.8471835067955675,
          0.4135824272487927,
          3.986420034693598,
          -0.035285515282024615,
          3.8030849381365552,
          -1.9236263315396065,
          3.1674191343514844,
          1.4797544530748583,
          -1.558659974906784,
          3.0940109228861035,
          -1.7175226386802032,
          -2.353543480105893,
          -2.5536376988376768,
          1.8566587509775392,
          2.4503368691981144,
          3.5679587413404326,
          -2.4736655176217455,
          1.2363825501940067,
          0.9859325982157587,
          -0.08001225240582954,
          1.8262333103147084,
          2.0125605714762598,
          -1.8159289196382966,
          3.8063238302795623,
          -1.4190280474344719,
          -1.4808523466282604,
          1.0211880752252092,
          3.5270815868203806,
          -1.5439465851229395,
          2.274043449154208,
          3.70173249892488,
          2.096431493891438,
          2.9300706996726493,
          -1.419053440136104,
          0.9075190296973741,
          3.8062219839797367,
          -0.07870989770080117,
          2.3582487744317486,
          4.011449759442945,
          1.0077739729877768,
          2.400699597591207,
          3.885968454163959,
          1.1191545769963835,
          -0.004656555671594731,
          -2.2294169262918597,
          0.935986842148508,
          -1.1789006874214503,
          -2.320534842339751,
          2.2986014014143743,
          -1.7195180494247078,
          2.127033216025745,
          -0.37552922400831124,
          -0.3260037483504803,
          3.9200844296397355,
          2.4885402081514707,
          1.7002533082721278,
          3.9402711056042277,
          1.1917935672092894,
          3.8443987544634517,
          0.0845933909907508,
          -1.8143576068819538,
          -1.045690025772759,
          2.423374517052939,
          0.6770288482537121,
          -1.2583942758744089,
          1.8551700749239313,
          1.0271723447023016,
          -0.573603779156246,
          -0.18194859740799751,
          2.389623420373111,
          2.549883619682899,
          3.761724406883319,
          2.787278544348073,
          -1.8490529373935711,
          4.019177519978433,
          -0.30192029288869415,
          3.1419426608091827,
          3.3350182230610788,
          3.5984098733817644,
          -1.8362549744932726,
          -1.0915779079227652,
          -0.8101199036365652,
          2.818634782849866,
          3.8347497577393117,
          -1.2143817560552104,
          0.7878329360735976,
          -2.653549791904782,
          -2.074568324866001,
          -1.7028448366516011,
          1.8282459349541726,
          -0.3702850884159137,
          3.6161923599077967
         ],
         "z": [
          5.536496425046,
          23.19163414835856,
          11.592828485089866,
          6.8676934170371435,
          4.282554970968271,
          9.145000607093445,
          8.115372105948037,
          13.36129994554725,
          4.356566751154651,
          6.681334510297754,
          18.86556275188832,
          7.020023337430399,
          28.051274387423494,
          6.294865802505097,
          12.731337524993297,
          21.302135150579744,
          15.667888225308351,
          14.580429798290863,
          6.155141959512048,
          9.169468829137408,
          15.284607999076746,
          5.749339757252612,
          26.316642088798393,
          22.024996740508854,
          21.8991453825796,
          11.407367172525978,
          20.19082861788716,
          10.698704453208467,
          8.338727749182699,
          6.253545359638109,
          7.1252299666710375,
          16.53352432211451,
          19.82229154360016,
          6.54778139479324,
          5.437432495119161,
          30.599284223624725,
          6.7094401036917315,
          23.735747852211222,
          20.8411877769984,
          10.239519315643433,
          11.917134240917608,
          11.114651725856783,
          17.792315892320385,
          22.98079782327251,
          15.659207827894502,
          9.647558821819267,
          18.429921940834415,
          7.5357401947414315,
          9.134551564374853,
          17.811451868817493,
          10.038588593863839,
          5.04720207783327,
          8.46517376813964,
          3.676996403679705,
          8.885145713815646,
          17.29730238495976,
          10.788558932568634,
          7.56733914345884,
          22.375428990436035,
          2.3854688522291716,
          2.872593141999485,
          33.90776099824635,
          12.087537989098426,
          18.538884628261957,
          21.979605918327287,
          4.784939899656097,
          34.34946740488241,
          7.616800016261665,
          19.069491860056665,
          5.4948120754082534,
          9.364536805907356,
          9.649672001425428,
          6.948987401055188,
          14.268296610986429,
          4.8160474291452875,
          3.1167107361929873,
          2.5054025626066703,
          8.609410751429728,
          10.285796390687901,
          22.055300439618,
          12.53009518365723,
          5.368605790591473,
          30.919028135847846,
          6.5294954597549415,
          14.202837858199851,
          17.906961447023928,
          19.419075321509943,
          6.435192788237837,
          10.51283597080995,
          8.276159948232811,
          27.85359362537453,
          19.084545288764698,
          7.441426039572012,
          14.300752609946688,
          8.942804706380077,
          4.726949016038981,
          8.81457576446639,
          4.469262896428919,
          16.59938694939613,
          22.720919766366368
         ]
        },
        {
         "type": "surface",
         "x": [
          -2.7581667285035145,
          -1.9887996635872516,
          -1.2194325986709884,
          -0.45006553375472524,
          0.3193015311615377,
          1.0886685960778006,
          1.858035660994064,
          2.6274027259103265,
          3.39676979082659,
          4.166136855742853
         ],
         "y": [
          -2.653549791904782,
          -1.9121356461399805,
          -1.170721500375179,
          -0.4293073546103776,
          0.3121067911544242,
          1.053520936919226,
          1.794935082684027,
          2.5363492284488287,
          3.2777633742136305,
          4.019177519978433
         ],
         "z": [
          [
           5.5359437337850395,
           23.189380891877896,
           11.594462376344687,
           7.113835852966328,
           4.281788851856923,
           9.147187040793447,
           8.116399266082531,
           13.361539133149869,
           4.358218439180142,
           10.863522613796517
          ],
          [
           18.865919437399803,
           7.0210239964311185,
           28.05141950424362,
           6.2936680393998685,
           12.596354248883392,
           13.181363094517364,
           15.660245187837369,
           14.580899484712369,
           6.155835397798306,
           9.166323481617233
          ],
          [
           15.28499708676312,
           5.7500889378373685,
           26.316975839692837,
           22.024805241040973,
           13.18136587604557,
           11.407271497906855,
           13.183055971283654,
           10.696938760835415,
           8.338648806546495,
           6.253851183015591
          ],
          [
           7.124585397798306,
           16.533300645906216,
           19.823024288040877,
           6.5485508518998685,
           5.436326273042447,
           30.599463753659016,
           6.709068365651852,
           13.181360601210377,
           13.177230747435305,
           10.242042341526336
          ],
          [
           13.18424785517628,
           11.116939910012967,
           11.437877935947958,
           22.98074800725302,
           15.659394391137845,
           9.647641428071744,
           18.43170762832809,
           13.181659614620184,
           9.134768128259758,
           17.81203962143112
          ],
          [
           10.037865884858853,
           13.18136581677055,
           13.18107572307867,
           3.6769618543570104,
           13.181345964510317,
           17.29063154037643,
           10.788846262056119,
           7.570043213922268,
           22.377359159547574,
           2.3853392922558996
          ],
          [
           2.869778420974704,
           33.91000104721237,
           12.086289999332017,
           13.181066746131433,
           21.979705006035452,
           4.783917673188931,
           34.352424783837954,
           7.617320306855923,
           19.069325675047672,
           5.4946262913529935
          ],
          [
           9.364410113800055,
           9.652341135102994,
           6.9489860766282945,
           14.267056711274869,
           4.8268711643998685,
           13.179092937289402,
           2.505226398347382,
           8.609404633544123,
           10.285650770145672,
           22.054996970435546
          ],
          [
           12.529095895845181,
           5.368666501972562,
           30.91898847397018,
           6.528493173677212,
           14.202696948896456,
           17.90673521191851,
           19.417549047167732,
           13.179890836657679,
           10.51253323998602,
           8.279446847993619
          ],
          [
           27.851822756487614,
           19.077145822602994,
           7.4424717503373685,
           14.30085111435104,
           13.184064473489983,
           4.7358067112748685,
           13.17869899620042,
           4.469670627522952,
           16.59921301590324,
           22.720761545259244
          ]
         ]
        }
       ],
       "layout": {
        "autosize": true,
        "legend": {
         "tracegroupgap": 0
        },
        "margin": {
         "t": 60
        },
        "scene": {
         "aspectmode": "auto",
         "aspectratio": {
          "x": 1,
          "y": 1,
          "z": 1
         },
         "camera": {
          "center": {
           "x": 0,
           "y": 0,
           "z": 0
          },
          "eye": {
           "x": 0.9648385121573436,
           "y": 0.9648385121573434,
           "z": 0.9648385121573436
          },
          "projection": {
           "type": "perspective"
          },
          "up": {
           "x": 0.008023155065078108,
           "y": -0.007959292349900202,
           "z": 0.9999361372848221
          }
         },
         "domain": {
          "x": [
           0,
           1
          ],
          "y": [
           0,
           1
          ]
         },
         "xaxis": {
          "title": {
           "text": "x"
          },
          "type": "linear"
         },
         "yaxis": {
          "title": {
           "text": "y"
          },
          "type": "linear"
         },
         "zaxis": {
          "range": [
           0,
           35
          ],
          "title": {
           "text": "z"
          },
          "type": "linear"
         }
        },
        "template": {
         "data": {
          "bar": [
           {
            "error_x": {
             "color": "#2a3f5f"
            },
            "error_y": {
             "color": "#2a3f5f"
            },
            "marker": {
             "line": {
              "color": "#E5ECF6",
              "width": 0.5
             },
             "pattern": {
              "fillmode": "overlay",
              "size": 10,
              "solidity": 0.2
             }
            },
            "type": "bar"
           }
          ],
          "barpolar": [
           {
            "marker": {
             "line": {
              "color": "#E5ECF6",
              "width": 0.5
             },
             "pattern": {
              "fillmode": "overlay",
              "size": 10,
              "solidity": 0.2
             }
            },
            "type": "barpolar"
           }
          ],
          "carpet": [
           {
            "aaxis": {
             "endlinecolor": "#2a3f5f",
             "gridcolor": "white",
             "linecolor": "white",
             "minorgridcolor": "white",
             "startlinecolor": "#2a3f5f"
            },
            "baxis": {
             "endlinecolor": "#2a3f5f",
             "gridcolor": "white",
             "linecolor": "white",
             "minorgridcolor": "white",
             "startlinecolor": "#2a3f5f"
            },
            "type": "carpet"
           }
          ],
          "choropleth": [
           {
            "colorbar": {
             "outlinewidth": 0,
             "ticks": ""
            },
            "type": "choropleth"
           }
          ],
          "contour": [
           {
            "colorbar": {
             "outlinewidth": 0,
             "ticks": ""
            },
            "colorscale": [
             [
              0,
              "#0d0887"
             ],
             [
              0.1111111111111111,
              "#46039f"
             ],
             [
              0.2222222222222222,
              "#7201a8"
             ],
             [
              0.3333333333333333,
              "#9c179e"
             ],
             [
              0.4444444444444444,
              "#bd3786"
             ],
             [
              0.5555555555555556,
              "#d8576b"
             ],
             [
              0.6666666666666666,
              "#ed7953"
             ],
             [
              0.7777777777777778,
              "#fb9f3a"
             ],
             [
              0.8888888888888888,
              "#fdca26"
             ],
             [
              1,
              "#f0f921"
             ]
            ],
            "type": "contour"
           }
          ],
          "contourcarpet": [
           {
            "colorbar": {
             "outlinewidth": 0,
             "ticks": ""
            },
            "type": "contourcarpet"
           }
          ],
          "heatmap": [
           {
            "colorbar": {
             "outlinewidth": 0,
             "ticks": ""
            },
            "colorscale": [
             [
              0,
              "#0d0887"
             ],
             [
              0.1111111111111111,
              "#46039f"
             ],
             [
              0.2222222222222222,
              "#7201a8"
             ],
             [
              0.3333333333333333,
              "#9c179e"
             ],
             [
              0.4444444444444444,
              "#bd3786"
             ],
             [
              0.5555555555555556,
              "#d8576b"
             ],
             [
              0.6666666666666666,
              "#ed7953"
             ],
             [
              0.7777777777777778,
              "#fb9f3a"
             ],
             [
              0.8888888888888888,
              "#fdca26"
             ],
             [
              1,
              "#f0f921"
             ]
            ],
            "type": "heatmap"
           }
          ],
          "heatmapgl": [
           {
            "colorbar": {
             "outlinewidth": 0,
             "ticks": ""
            },
            "colorscale": [
             [
              0,
              "#0d0887"
             ],
             [
              0.1111111111111111,
              "#46039f"
             ],
             [
              0.2222222222222222,
              "#7201a8"
             ],
             [
              0.3333333333333333,
              "#9c179e"
             ],
             [
              0.4444444444444444,
              "#bd3786"
             ],
             [
              0.5555555555555556,
              "#d8576b"
             ],
             [
              0.6666666666666666,
              "#ed7953"
             ],
             [
              0.7777777777777778,
              "#fb9f3a"
             ],
             [
              0.8888888888888888,
              "#fdca26"
             ],
             [
              1,
              "#f0f921"
             ]
            ],
            "type": "heatmapgl"
           }
          ],
          "histogram": [
           {
            "marker": {
             "pattern": {
              "fillmode": "overlay",
              "size": 10,
              "solidity": 0.2
             }
            },
            "type": "histogram"
           }
          ],
          "histogram2d": [
           {
            "colorbar": {
             "outlinewidth": 0,
             "ticks": ""
            },
            "colorscale": [
             [
              0,
              "#0d0887"
             ],
             [
              0.1111111111111111,
              "#46039f"
             ],
             [
              0.2222222222222222,
              "#7201a8"
             ],
             [
              0.3333333333333333,
              "#9c179e"
             ],
             [
              0.4444444444444444,
              "#bd3786"
             ],
             [
              0.5555555555555556,
              "#d8576b"
             ],
             [
              0.6666666666666666,
              "#ed7953"
             ],
             [
              0.7777777777777778,
              "#fb9f3a"
             ],
             [
              0.8888888888888888,
              "#fdca26"
             ],
             [
              1,
              "#f0f921"
             ]
            ],
            "type": "histogram2d"
           }
          ],
          "histogram2dcontour": [
           {
            "colorbar": {
             "outlinewidth": 0,
             "ticks": ""
            },
            "colorscale": [
             [
              0,
              "#0d0887"
             ],
             [
              0.1111111111111111,
              "#46039f"
             ],
             [
              0.2222222222222222,
              "#7201a8"
             ],
             [
              0.3333333333333333,
              "#9c179e"
             ],
             [
              0.4444444444444444,
              "#bd3786"
             ],
             [
              0.5555555555555556,
              "#d8576b"
             ],
             [
              0.6666666666666666,
              "#ed7953"
             ],
             [
              0.7777777777777778,
              "#fb9f3a"
             ],
             [
              0.8888888888888888,
              "#fdca26"
             ],
             [
              1,
              "#f0f921"
             ]
            ],
            "type": "histogram2dcontour"
           }
          ],
          "mesh3d": [
           {
            "colorbar": {
             "outlinewidth": 0,
             "ticks": ""
            },
            "type": "mesh3d"
           }
          ],
          "parcoords": [
           {
            "line": {
             "colorbar": {
              "outlinewidth": 0,
              "ticks": ""
             }
            },
            "type": "parcoords"
           }
          ],
          "pie": [
           {
            "automargin": true,
            "type": "pie"
           }
          ],
          "scatter": [
           {
            "fillpattern": {
             "fillmode": "overlay",
             "size": 10,
             "solidity": 0.2
            },
            "type": "scatter"
           }
          ],
          "scatter3d": [
           {
            "line": {
             "colorbar": {
              "outlinewidth": 0,
              "ticks": ""
             }
            },
            "marker": {
             "colorbar": {
              "outlinewidth": 0,
              "ticks": ""
             }
            },
            "type": "scatter3d"
           }
          ],
          "scattercarpet": [
           {
            "marker": {
             "colorbar": {
              "outlinewidth": 0,
              "ticks": ""
             }
            },
            "type": "scattercarpet"
           }
          ],
          "scattergeo": [
           {
            "marker": {
             "colorbar": {
              "outlinewidth": 0,
              "ticks": ""
             }
            },
            "type": "scattergeo"
           }
          ],
          "scattergl": [
           {
            "marker": {
             "colorbar": {
              "outlinewidth": 0,
              "ticks": ""
             }
            },
            "type": "scattergl"
           }
          ],
          "scattermapbox": [
           {
            "marker": {
             "colorbar": {
              "outlinewidth": 0,
              "ticks": ""
             }
            },
            "type": "scattermapbox"
           }
          ],
          "scatterpolar": [
           {
            "marker": {
             "colorbar": {
              "outlinewidth": 0,
              "ticks": ""
             }
            },
            "type": "scatterpolar"
           }
          ],
          "scatterpolargl": [
           {
            "marker": {
             "colorbar": {
              "outlinewidth": 0,
              "ticks": ""
             }
            },
            "type": "scatterpolargl"
           }
          ],
          "scatterternary": [
           {
            "marker": {
             "colorbar": {
              "outlinewidth": 0,
              "ticks": ""
             }
            },
            "type": "scatterternary"
           }
          ],
          "surface": [
           {
            "colorbar": {
             "outlinewidth": 0,
             "ticks": ""
            },
            "colorscale": [
             [
              0,
              "#0d0887"
             ],
             [
              0.1111111111111111,
              "#46039f"
             ],
             [
              0.2222222222222222,
              "#7201a8"
             ],
             [
              0.3333333333333333,
              "#9c179e"
             ],
             [
              0.4444444444444444,
              "#bd3786"
             ],
             [
              0.5555555555555556,
              "#d8576b"
             ],
             [
              0.6666666666666666,
              "#ed7953"
             ],
             [
              0.7777777777777778,
              "#fb9f3a"
             ],
             [
              0.8888888888888888,
              "#fdca26"
             ],
             [
              1,
              "#f0f921"
             ]
            ],
            "type": "surface"
           }
          ],
          "table": [
           {
            "cells": {
             "fill": {
              "color": "#EBF0F8"
             },
             "line": {
              "color": "white"
             }
            },
            "header": {
             "fill": {
              "color": "#C8D4E3"
             },
             "line": {
              "color": "white"
             }
            },
            "type": "table"
           }
          ]
         },
         "layout": {
          "annotationdefaults": {
           "arrowcolor": "#2a3f5f",
           "arrowhead": 0,
           "arrowwidth": 1
          },
          "autotypenumbers": "strict",
          "coloraxis": {
           "colorbar": {
            "outlinewidth": 0,
            "ticks": ""
           }
          },
          "colorscale": {
           "diverging": [
            [
             0,
             "#8e0152"
            ],
            [
             0.1,
             "#c51b7d"
            ],
            [
             0.2,
             "#de77ae"
            ],
            [
             0.3,
             "#f1b6da"
            ],
            [
             0.4,
             "#fde0ef"
            ],
            [
             0.5,
             "#f7f7f7"
            ],
            [
             0.6,
             "#e6f5d0"
            ],
            [
             0.7,
             "#b8e186"
            ],
            [
             0.8,
             "#7fbc41"
            ],
            [
             0.9,
             "#4d9221"
            ],
            [
             1,
             "#276419"
            ]
           ],
           "sequential": [
            [
             0,
             "#0d0887"
            ],
            [
             0.1111111111111111,
             "#46039f"
            ],
            [
             0.2222222222222222,
             "#7201a8"
            ],
            [
             0.3333333333333333,
             "#9c179e"
            ],
            [
             0.4444444444444444,
             "#bd3786"
            ],
            [
             0.5555555555555556,
             "#d8576b"
            ],
            [
             0.6666666666666666,
             "#ed7953"
            ],
            [
             0.7777777777777778,
             "#fb9f3a"
            ],
            [
             0.8888888888888888,
             "#fdca26"
            ],
            [
             1,
             "#f0f921"
            ]
           ],
           "sequentialminus": [
            [
             0,
             "#0d0887"
            ],
            [
             0.1111111111111111,
             "#46039f"
            ],
            [
             0.2222222222222222,
             "#7201a8"
            ],
            [
             0.3333333333333333,
             "#9c179e"
            ],
            [
             0.4444444444444444,
             "#bd3786"
            ],
            [
             0.5555555555555556,
             "#d8576b"
            ],
            [
             0.6666666666666666,
             "#ed7953"
            ],
            [
             0.7777777777777778,
             "#fb9f3a"
            ],
            [
             0.8888888888888888,
             "#fdca26"
            ],
            [
             1,
             "#f0f921"
            ]
           ]
          },
          "colorway": [
           "#636efa",
           "#EF553B",
           "#00cc96",
           "#ab63fa",
           "#FFA15A",
           "#19d3f3",
           "#FF6692",
           "#B6E880",
           "#FF97FF",
           "#FECB52"
          ],
          "font": {
           "color": "#2a3f5f"
          },
          "geo": {
           "bgcolor": "white",
           "lakecolor": "white",
           "landcolor": "#E5ECF6",
           "showlakes": true,
           "showland": true,
           "subunitcolor": "white"
          },
          "hoverlabel": {
           "align": "left"
          },
          "hovermode": "closest",
          "mapbox": {
           "style": "light"
          },
          "paper_bgcolor": "white",
          "plot_bgcolor": "#E5ECF6",
          "polar": {
           "angularaxis": {
            "gridcolor": "white",
            "linecolor": "white",
            "ticks": ""
           },
           "bgcolor": "#E5ECF6",
           "radialaxis": {
            "gridcolor": "white",
            "linecolor": "white",
            "ticks": ""
           }
          },
          "scene": {
           "xaxis": {
            "backgroundcolor": "#E5ECF6",
            "gridcolor": "white",
            "gridwidth": 2,
            "linecolor": "white",
            "showbackground": true,
            "ticks": "",
            "zerolinecolor": "white"
           },
           "yaxis": {
            "backgroundcolor": "#E5ECF6",
            "gridcolor": "white",
            "gridwidth": 2,
            "linecolor": "white",
            "showbackground": true,
            "ticks": "",
            "zerolinecolor": "white"
           },
           "zaxis": {
            "backgroundcolor": "#E5ECF6",
            "gridcolor": "white",
            "gridwidth": 2,
            "linecolor": "white",
            "showbackground": true,
            "ticks": "",
            "zerolinecolor": "white"
           }
          },
          "shapedefaults": {
           "line": {
            "color": "#2a3f5f"
           }
          },
          "ternary": {
           "aaxis": {
            "gridcolor": "white",
            "linecolor": "white",
            "ticks": ""
           },
           "baxis": {
            "gridcolor": "white",
            "linecolor": "white",
            "ticks": ""
           },
           "bgcolor": "#E5ECF6",
           "caxis": {
            "gridcolor": "white",
            "linecolor": "white",
            "ticks": ""
           }
          },
          "title": {
           "x": 0.05
          },
          "xaxis": {
           "automargin": true,
           "gridcolor": "white",
           "linecolor": "white",
           "ticks": "",
           "title": {
            "standoff": 15
           },
           "zerolinecolor": "white",
           "zerolinewidth": 2
          },
          "yaxis": {
           "automargin": true,
           "gridcolor": "white",
           "linecolor": "white",
           "ticks": "",
           "title": {
            "standoff": 15
           },
           "zerolinecolor": "white",
           "zerolinewidth": 2
          }
         }
        }
       }
      },
      "image/png": "[encoded data removed]",
      "text/html": [
       "<div>                            <div id=\"85829d12-4a90-421b-bff7-fbece140353a\" class=\"plotly-graph-div\" style=\"height:525px; width:100%;\"></div>            <script type=\"text/javascript\">                require([\"plotly\"], function(Plotly) {                    window.PLOTLYENV=window.PLOTLYENV || {};                                    if (document.getElementById(\"85829d12-4a90-421b-bff7-fbece140353a\")) {                    Plotly.newPlot(                        \"85829d12-4a90-421b-bff7-fbece140353a\",                        [{\"hovertemplate\":\"x=%{x}\\u003cbr\\u003ey=%{y}\\u003cbr\\u003ez=%{z}\\u003cextra\\u003e\\u003c\\u002fextra\\u003e\",\"legendgroup\":\"\",\"marker\":{\"color\":\"#636efa\",\"symbol\":\"circle\"},\"mode\":\"markers\",\"name\":\"\",\"scene\":\"scene\",\"showlegend\":false,\"x\":[-1.1624236598668778,2.7761160602737043,2.9958731409237744,-2.398266358011152,-1.8277334162740888,-2.7581667285035145,-0.5015780411934738,1.5432436542230796,1.568959996089478,-2.399955053070318,0.36209520996850664,-2.256812012922593,2.8736843426708667,1.2477534778187653,-0.6721411340075325,4.076080159720149,3.3998671758188097,-1.3449486820693255,0.7507218934043385,1.4308541725400348,2.6546821426444076,0.3893920731451779,3.8174932701535864,2.183247828193438,3.7053834556922167,2.4684227777590095,3.953884100698768,-2.624466689507337,1.3612674924283823,-0.9047845568539405,0.5219758961876617,0.5937235381207016,4.166136855742853,1.5430663750557878,1.7113288822297443,3.6347273308422414,0.7717512410283867,3.7549069238304984,-2.5461388872041604,1.3657087774771144,0.4551372673720717,-2.551407695605377,3.659943141188811,1.8994839232520473,3.5670765989657243,0.6404870588056926,-0.9979678216700878,-2.2194591850988434,0.17883208271515194,0.43972177832041703,2.3654347047026443,1.524592635872997,-1.1733576782660213,0.4225466355229033,2.3637569271087964,3.398949890243207,1.7367913784683529,-1.7079277882833197,3.5499541899020137,0.7407551801524286,-0.6466060076544045,3.7740767774385926,-1.636433180906237,3.3805491179146268,1.2730388777837183,-1.6556994306007062,3.9393724738439744,2.0143768972511937,3.634124623739776,1.2492235938109273,-1.7997142788520766,2.49464212560852,-2.018517956408975,2.8805369612058955,0.5460122404744228,0.6795428165373232,-0.3583257866565832,-1.1618324847882673,-1.1672560560660676,-2.6417682929929627,-1.2090058536673074,0.4644725474653937,2.9953095862058614,1.9560632621856175,0.5528122849578185,1.4198272938045688,-2.1573042037785677,-0.6716827863117176,2.9041836368253433,2.4273434623316357,3.7733142617187845,-2.022290398599388,2.096874062954006,3.191109951751968,-1.0341141474519673,-0.34854770064958407,1.9538624219108742,-0.1082799773200076,3.703924454065593,2.6059504757797463],\"y\":[-0.4533796179951768,3.3431627905824604,0.331325360913477,-0.16977677453677487,0.9184574922091486,-0.7295269772456718,1.9800266917158034,2.724469465931933,0.8471835067955675,0.4135824272487927,3.986420034693598,-0.035285515282024615,3.8030849381365552,-1.9236263315396065,3.1674191343514844,1.4797544530748583,-1.558659974906784,3.0940109228861035,-1.7175226386802032,-2.353543480105893,-2.5536376988376768,1.8566587509775392,2.4503368691981144,3.5679587413404326,-2.4736655176217455,1.2363825501940067,0.9859325982157587,-0.08001225240582954,1.8262333103147084,2.0125605714762598,-1.8159289196382966,3.8063238302795623,-1.4190280474344719,-1.4808523466282604,1.0211880752252092,3.5270815868203806,-1.5439465851229395,2.274043449154208,3.70173249892488,2.096431493891438,2.9300706996726493,-1.419053440136104,0.9075190296973741,3.8062219839797367,-0.07870989770080117,2.3582487744317486,4.011449759442945,1.0077739729877768,2.400699597591207,3.885968454163959,1.1191545769963835,-0.004656555671594731,-2.2294169262918597,0.935986842148508,-1.1789006874214503,-2.320534842339751,2.2986014014143743,-1.7195180494247078,2.127033216025745,-0.37552922400831124,-0.3260037483504803,3.9200844296397355,2.4885402081514707,1.7002533082721278,3.9402711056042277,1.1917935672092894,3.8443987544634517,0.0845933909907508,-1.8143576068819538,-1.045690025772759,2.423374517052939,0.6770288482537121,-1.2583942758744089,1.8551700749239313,1.0271723447023016,-0.573603779156246,-0.18194859740799751,2.389623420373111,2.549883619682899,3.761724406883319,2.787278544348073,-1.8490529373935711,4.019177519978433,-0.30192029288869415,3.1419426608091827,3.3350182230610788,3.5984098733817644,-1.8362549744932726,-1.0915779079227652,-0.8101199036365652,2.818634782849866,3.8347497577393117,-1.2143817560552104,0.7878329360735976,-2.653549791904782,-2.074568324866001,-1.7028448366516011,1.8282459349541726,-0.3702850884159137,3.6161923599077967],\"z\":[5.536496425046,23.19163414835856,11.592828485089866,6.8676934170371435,4.282554970968271,9.145000607093445,8.115372105948037,13.36129994554725,4.356566751154651,6.681334510297754,18.86556275188832,7.020023337430399,28.051274387423494,6.294865802505097,12.731337524993297,21.302135150579744,15.667888225308351,14.580429798290863,6.155141959512048,9.169468829137408,15.284607999076746,5.749339757252612,26.316642088798393,22.024996740508854,21.8991453825796,11.407367172525978,20.19082861788716,10.698704453208467,8.338727749182699,6.253545359638109,7.1252299666710375,16.53352432211451,19.82229154360016,6.54778139479324,5.437432495119161,30.599284223624725,6.7094401036917315,23.735747852211222,20.8411877769984,10.239519315643433,11.917134240917608,11.114651725856783,17.792315892320385,22.98079782327251,15.659207827894502,9.647558821819267,18.429921940834415,7.5357401947414315,9.134551564374853,17.811451868817493,10.038588593863839,5.04720207783327,8.46517376813964,3.676996403679705,8.885145713815646,17.29730238495976,10.788558932568634,7.56733914345884,22.375428990436035,2.3854688522291716,2.872593141999485,33.90776099824635,12.087537989098426,18.538884628261957,21.979605918327287,4.784939899656097,34.34946740488241,7.616800016261665,19.069491860056665,5.4948120754082534,9.364536805907356,9.649672001425428,6.948987401055188,14.268296610986429,4.8160474291452875,3.1167107361929873,2.5054025626066703,8.609410751429728,10.285796390687901,22.055300439618,12.53009518365723,5.368605790591473,30.919028135847846,6.5294954597549415,14.202837858199851,17.906961447023928,19.419075321509943,6.435192788237837,10.51283597080995,8.276159948232811,27.85359362537453,19.084545288764698,7.441426039572012,14.300752609946688,8.942804706380077,4.726949016038981,8.81457576446639,4.469262896428919,16.59938694939613,22.720919766366368],\"type\":\"scatter3d\"},{\"x\":[-2.7581667285035145,-1.9887996635872516,-1.2194325986709884,-0.45006553375472524,0.3193015311615377,1.0886685960778006,1.858035660994064,2.6274027259103265,3.39676979082659,4.166136855742853],\"y\":[-2.653549791904782,-1.9121356461399805,-1.170721500375179,-0.4293073546103776,0.3121067911544242,1.053520936919226,1.794935082684027,2.5363492284488287,3.2777633742136305,4.019177519978433],\"z\":[[5.5359437337850395,23.189380891877896,11.594462376344687,7.113835852966328,4.281788851856923,9.147187040793447,8.116399266082531,13.361539133149869,4.358218439180142,10.863522613796517],[18.865919437399803,7.0210239964311185,28.05141950424362,6.2936680393998685,12.596354248883392,13.181363094517364,15.660245187837369,14.580899484712369,6.155835397798306,9.166323481617233],[15.28499708676312,5.7500889378373685,26.316975839692837,22.024805241040973,13.18136587604557,11.407271497906855,13.183055971283654,10.696938760835415,8.338648806546495,6.253851183015591],[7.124585397798306,16.533300645906216,19.823024288040877,6.5485508518998685,5.436326273042447,30.599463753659016,6.709068365651852,13.181360601210377,13.177230747435305,10.242042341526336],[13.18424785517628,11.116939910012967,11.437877935947958,22.98074800725302,15.659394391137845,9.647641428071744,18.43170762832809,13.181659614620184,9.134768128259758,17.81203962143112],[10.037865884858853,13.18136581677055,13.18107572307867,3.6769618543570104,13.181345964510317,17.29063154037643,10.788846262056119,7.570043213922268,22.377359159547574,2.3853392922558996],[2.869778420974704,33.91000104721237,12.086289999332017,13.181066746131433,21.979705006035452,4.783917673188931,34.352424783837954,7.617320306855923,19.069325675047672,5.4946262913529935],[9.364410113800055,9.652341135102994,6.9489860766282945,14.267056711274869,4.8268711643998685,13.179092937289402,2.505226398347382,8.609404633544123,10.285650770145672,22.054996970435546],[12.529095895845181,5.368666501972562,30.91898847397018,6.528493173677212,14.202696948896456,17.90673521191851,19.417549047167732,13.179890836657679,10.51253323998602,8.279446847993619],[27.851822756487614,19.077145822602994,7.4424717503373685,14.30085111435104,13.184064473489983,4.7358067112748685,13.17869899620042,4.469670627522952,16.59921301590324,22.720761545259244]],\"type\":\"surface\"}],                        {\"template\":{\"data\":{\"histogram2dcontour\":[{\"type\":\"histogram2dcontour\",\"colorbar\":{\"outlinewidth\":0,\"ticks\":\"\"},\"colorscale\":[[0.0,\"#0d0887\"],[0.1111111111111111,\"#46039f\"],[0.2222222222222222,\"#7201a8\"],[0.3333333333333333,\"#9c179e\"],[0.4444444444444444,\"#bd3786\"],[0.5555555555555556,\"#d8576b\"],[0.6666666666666666,\"#ed7953\"],[0.7777777777777778,\"#fb9f3a\"],[0.8888888888888888,\"#fdca26\"],[1.0,\"#f0f921\"]]}],\"choropleth\":[{\"type\":\"choropleth\",\"colorbar\":{\"outlinewidth\":0,\"ticks\":\"\"}}],\"histogram2d\":[{\"type\":\"histogram2d\",\"colorbar\":{\"outlinewidth\":0,\"ticks\":\"\"},\"colorscale\":[[0.0,\"#0d0887\"],[0.1111111111111111,\"#46039f\"],[0.2222222222222222,\"#7201a8\"],[0.3333333333333333,\"#9c179e\"],[0.4444444444444444,\"#bd3786\"],[0.5555555555555556,\"#d8576b\"],[0.6666666666666666,\"#ed7953\"],[0.7777777777777778,\"#fb9f3a\"],[0.8888888888888888,\"#fdca26\"],[1.0,\"#f0f921\"]]}],\"heatmap\":[{\"type\":\"heatmap\",\"colorbar\":{\"outlinewidth\":0,\"ticks\":\"\"},\"colorscale\":[[0.0,\"#0d0887\"],[0.1111111111111111,\"#46039f\"],[0.2222222222222222,\"#7201a8\"],[0.3333333333333333,\"#9c179e\"],[0.4444444444444444,\"#bd3786\"],[0.5555555555555556,\"#d8576b\"],[0.6666666666666666,\"#ed7953\"],[0.7777777777777778,\"#fb9f3a\"],[0.8888888888888888,\"#fdca26\"],[1.0,\"#f0f921\"]]}],\"heatmapgl\":[{\"type\":\"heatmapgl\",\"colorbar\":{\"outlinewidth\":0,\"ticks\":\"\"},\"colorscale\":[[0.0,\"#0d0887\"],[0.1111111111111111,\"#46039f\"],[0.2222222222222222,\"#7201a8\"],[0.3333333333333333,\"#9c179e\"],[0.4444444444444444,\"#bd3786\"],[0.5555555555555556,\"#d8576b\"],[0.6666666666666666,\"#ed7953\"],[0.7777777777777778,\"#fb9f3a\"],[0.8888888888888888,\"#fdca26\"],[1.0,\"#f0f921\"]]}],\"contourcarpet\":[{\"type\":\"contourcarpet\",\"colorbar\":{\"outlinewidth\":0,\"ticks\":\"\"}}],\"contour\":[{\"type\":\"contour\",\"colorbar\":{\"outlinewidth\":0,\"ticks\":\"\"},\"colorscale\":[[0.0,\"#0d0887\"],[0.1111111111111111,\"#46039f\"],[0.2222222222222222,\"#7201a8\"],[0.3333333333333333,\"#9c179e\"],[0.4444444444444444,\"#bd3786\"],[0.5555555555555556,\"#d8576b\"],[0.6666666666666666,\"#ed7953\"],[0.7777777777777778,\"#fb9f3a\"],[0.8888888888888888,\"#fdca26\"],[1.0,\"#f0f921\"]]}],\"surface\":[{\"type\":\"surface\",\"colorbar\":{\"outlinewidth\":0,\"ticks\":\"\"},\"colorscale\":[[0.0,\"#0d0887\"],[0.1111111111111111,\"#46039f\"],[0.2222222222222222,\"#7201a8\"],[0.3333333333333333,\"#9c179e\"],[0.4444444444444444,\"#bd3786\"],[0.5555555555555556,\"#d8576b\"],[0.6666666666666666,\"#ed7953\"],[0.7777777777777778,\"#fb9f3a\"],[0.8888888888888888,\"#fdca26\"],[1.0,\"#f0f921\"]]}],\"mesh3d\":[{\"type\":\"mesh3d\",\"colorbar\":{\"outlinewidth\":0,\"ticks\":\"\"}}],\"scatter\":[{\"fillpattern\":{\"fillmode\":\"overlay\",\"size\":10,\"solidity\":0.2},\"type\":\"scatter\"}],\"parcoords\":[{\"type\":\"parcoords\",\"line\":{\"colorbar\":{\"outlinewidth\":0,\"ticks\":\"\"}}}],\"scatterpolargl\":[{\"type\":\"scatterpolargl\",\"marker\":{\"colorbar\":{\"outlinewidth\":0,\"ticks\":\"\"}}}],\"bar\":[{\"error_x\":{\"color\":\"#2a3f5f\"},\"error_y\":{\"color\":\"#2a3f5f\"},\"marker\":{\"line\":{\"color\":\"#E5ECF6\",\"width\":0.5},\"pattern\":{\"fillmode\":\"overlay\",\"size\":10,\"solidity\":0.2}},\"type\":\"bar\"}],\"scattergeo\":[{\"type\":\"scattergeo\",\"marker\":{\"colorbar\":{\"outlinewidth\":0,\"ticks\":\"\"}}}],\"scatterpolar\":[{\"type\":\"scatterpolar\",\"marker\":{\"colorbar\":{\"outlinewidth\":0,\"ticks\":\"\"}}}],\"histogram\":[{\"marker\":{\"pattern\":{\"fillmode\":\"overlay\",\"size\":10,\"solidity\":0.2}},\"type\":\"histogram\"}],\"scattergl\":[{\"type\":\"scattergl\",\"marker\":{\"colorbar\":{\"outlinewidth\":0,\"ticks\":\"\"}}}],\"scatter3d\":[{\"type\":\"scatter3d\",\"line\":{\"colorbar\":{\"outlinewidth\":0,\"ticks\":\"\"}},\"marker\":{\"colorbar\":{\"outlinewidth\":0,\"ticks\":\"\"}}}],\"scattermapbox\":[{\"type\":\"scattermapbox\",\"marker\":{\"colorbar\":{\"outlinewidth\":0,\"ticks\":\"\"}}}],\"scatterternary\":[{\"type\":\"scatterternary\",\"marker\":{\"colorbar\":{\"outlinewidth\":0,\"ticks\":\"\"}}}],\"scattercarpet\":[{\"type\":\"scattercarpet\",\"marker\":{\"colorbar\":{\"outlinewidth\":0,\"ticks\":\"\"}}}],\"carpet\":[{\"aaxis\":{\"endlinecolor\":\"#2a3f5f\",\"gridcolor\":\"white\",\"linecolor\":\"white\",\"minorgridcolor\":\"white\",\"startlinecolor\":\"#2a3f5f\"},\"baxis\":{\"endlinecolor\":\"#2a3f5f\",\"gridcolor\":\"white\",\"linecolor\":\"white\",\"minorgridcolor\":\"white\",\"startlinecolor\":\"#2a3f5f\"},\"type\":\"carpet\"}],\"table\":[{\"cells\":{\"fill\":{\"color\":\"#EBF0F8\"},\"line\":{\"color\":\"white\"}},\"header\":{\"fill\":{\"color\":\"#C8D4E3\"},\"line\":{\"color\":\"white\"}},\"type\":\"table\"}],\"barpolar\":[{\"marker\":{\"line\":{\"color\":\"#E5ECF6\",\"width\":0.5},\"pattern\":{\"fillmode\":\"overlay\",\"size\":10,\"solidity\":0.2}},\"type\":\"barpolar\"}],\"pie\":[{\"automargin\":true,\"type\":\"pie\"}]},\"layout\":{\"autotypenumbers\":\"strict\",\"colorway\":[\"#636efa\",\"#EF553B\",\"#00cc96\",\"#ab63fa\",\"#FFA15A\",\"#19d3f3\",\"#FF6692\",\"#B6E880\",\"#FF97FF\",\"#FECB52\"],\"font\":{\"color\":\"#2a3f5f\"},\"hovermode\":\"closest\",\"hoverlabel\":{\"align\":\"left\"},\"paper_bgcolor\":\"white\",\"plot_bgcolor\":\"#E5ECF6\",\"polar\":{\"bgcolor\":\"#E5ECF6\",\"angularaxis\":{\"gridcolor\":\"white\",\"linecolor\":\"white\",\"ticks\":\"\"},\"radialaxis\":{\"gridcolor\":\"white\",\"linecolor\":\"white\",\"ticks\":\"\"}},\"ternary\":{\"bgcolor\":\"#E5ECF6\",\"aaxis\":{\"gridcolor\":\"white\",\"linecolor\":\"white\",\"ticks\":\"\"},\"baxis\":{\"gridcolor\":\"white\",\"linecolor\":\"white\",\"ticks\":\"\"},\"caxis\":{\"gridcolor\":\"white\",\"linecolor\":\"white\",\"ticks\":\"\"}},\"coloraxis\":{\"colorbar\":{\"outlinewidth\":0,\"ticks\":\"\"}},\"colorscale\":{\"sequential\":[[0.0,\"#0d0887\"],[0.1111111111111111,\"#46039f\"],[0.2222222222222222,\"#7201a8\"],[0.3333333333333333,\"#9c179e\"],[0.4444444444444444,\"#bd3786\"],[0.5555555555555556,\"#d8576b\"],[0.6666666666666666,\"#ed7953\"],[0.7777777777777778,\"#fb9f3a\"],[0.8888888888888888,\"#fdca26\"],[1.0,\"#f0f921\"]],\"sequentialminus\":[[0.0,\"#0d0887\"],[0.1111111111111111,\"#46039f\"],[0.2222222222222222,\"#7201a8\"],[0.3333333333333333,\"#9c179e\"],[0.4444444444444444,\"#bd3786\"],[0.5555555555555556,\"#d8576b\"],[0.6666666666666666,\"#ed7953\"],[0.7777777777777778,\"#fb9f3a\"],[0.8888888888888888,\"#fdca26\"],[1.0,\"#f0f921\"]],\"diverging\":[[0,\"#8e0152\"],[0.1,\"#c51b7d\"],[0.2,\"#de77ae\"],[0.3,\"#f1b6da\"],[0.4,\"#fde0ef\"],[0.5,\"#f7f7f7\"],[0.6,\"#e6f5d0\"],[0.7,\"#b8e186\"],[0.8,\"#7fbc41\"],[0.9,\"#4d9221\"],[1,\"#276419\"]]},\"xaxis\":{\"gridcolor\":\"white\",\"linecolor\":\"white\",\"ticks\":\"\",\"title\":{\"standoff\":15},\"zerolinecolor\":\"white\",\"automargin\":true,\"zerolinewidth\":2},\"yaxis\":{\"gridcolor\":\"white\",\"linecolor\":\"white\",\"ticks\":\"\",\"title\":{\"standoff\":15},\"zerolinecolor\":\"white\",\"automargin\":true,\"zerolinewidth\":2},\"scene\":{\"xaxis\":{\"backgroundcolor\":\"#E5ECF6\",\"gridcolor\":\"white\",\"linecolor\":\"white\",\"showbackground\":true,\"ticks\":\"\",\"zerolinecolor\":\"white\",\"gridwidth\":2},\"yaxis\":{\"backgroundcolor\":\"#E5ECF6\",\"gridcolor\":\"white\",\"linecolor\":\"white\",\"showbackground\":true,\"ticks\":\"\",\"zerolinecolor\":\"white\",\"gridwidth\":2},\"zaxis\":{\"backgroundcolor\":\"#E5ECF6\",\"gridcolor\":\"white\",\"linecolor\":\"white\",\"showbackground\":true,\"ticks\":\"\",\"zerolinecolor\":\"white\",\"gridwidth\":2}},\"shapedefaults\":{\"line\":{\"color\":\"#2a3f5f\"}},\"annotationdefaults\":{\"arrowcolor\":\"#2a3f5f\",\"arrowhead\":0,\"arrowwidth\":1},\"geo\":{\"bgcolor\":\"white\",\"landcolor\":\"#E5ECF6\",\"subunitcolor\":\"white\",\"showland\":true,\"showlakes\":true,\"lakecolor\":\"white\"},\"title\":{\"x\":0.05},\"mapbox\":{\"style\":\"light\"}}},\"scene\":{\"domain\":{\"x\":[0.0,1.0],\"y\":[0.0,1.0]},\"xaxis\":{\"title\":{\"text\":\"x\"}},\"yaxis\":{\"title\":{\"text\":\"y\"}},\"zaxis\":{\"title\":{\"text\":\"z\"},\"range\":[0,35]}},\"legend\":{\"tracegroupgap\":0},\"margin\":{\"t\":60}},                        {\"responsive\": true}                    ).then(function(){\n",
       "                            \n",
       "var gd = document.getElementById('85829d12-4a90-421b-bff7-fbece140353a');\n",
       "var x = new MutationObserver(function (mutations, observer) {{\n",
       "        var display = window.getComputedStyle(gd).display;\n",
       "        if (!display || display === 'none') {{\n",
       "            console.log([gd, 'removed!']);\n",
       "            Plotly.purge(gd);\n",
       "            observer.disconnect();\n",
       "        }}\n",
       "}});\n",
       "\n",
       "// Listen for the removal of the full notebook cells\n",
       "var notebookContainer = gd.closest('#notebook-container');\n",
       "if (notebookContainer) {{\n",
       "    x.observe(notebookContainer, {childList: true});\n",
       "}}\n",
       "\n",
       "// Listen for the clearing of the current output cell\n",
       "var outputEl = gd.closest('.output');\n",
       "if (outputEl) {{\n",
       "    x.observe(outputEl, {childList: true});\n",
       "}}\n",
       "\n",
       "                        })                };                });            </script>        </div>"
      ]
     },
     "metadata": {},
     "output_type": "display_data"
    }
   ],
   "source": [
    "fig = px.scatter_3d(x=x.ravel(), y=y.ravel(), z=z.ravel())\n",
    "\n",
    "fig.add_trace(go.Surface(x = x_input, y = y_input, z =z_final))\n",
    "\n",
    "fig.update_layout(scene = dict(zaxis = dict(range=[0,35])))\n",
    "\n",
    "fig.show()\n"
   ]
  },
  {
   "cell_type": "code",
   "execution_count": null,
   "id": "eb29025e-a0ad-430f-8208-c4b1905a4b67",
   "metadata": {},
   "outputs": [],
   "source": []
  }
 ],
 "metadata": {
  "kernelspec": {
   "display_name": "Python 3 (ipykernel)",
   "language": "python",
   "name": "python3"
  },
  "language_info": {
   "codemirror_mode": {
    "name": "ipython",
    "version": 3
   },
   "file_extension": ".py",
   "mimetype": "text/x-python",
   "name": "python",
   "nbconvert_exporter": "python",
   "pygments_lexer": "ipython3",
   "version": "3.12.7"
  }
 },
 "nbformat": 4,
 "nbformat_minor": 5
}
