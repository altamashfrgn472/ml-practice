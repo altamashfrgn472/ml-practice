{
 "cells": [
  {
   "cell_type": "code",
   "execution_count": 42,
   "id": "34fe6979-4eb7-4481-994c-61b3667f631c",
   "metadata": {},
   "outputs": [],
   "source": [
    "import pickle\n",
    "import numpy as np"
   ]
  },
  {
   "cell_type": "code",
   "execution_count": 46,
   "id": "e28dfdd4-1e09-4a1f-80ea-11e894afefdf",
   "metadata": {},
   "outputs": [],
   "source": [
    "ohe_sex = pickle.load(open('models/ohe_sex.pkl', 'rb'))\n",
    "ohe_embarked = pickle.load(open('models/ohe_embarked.pkl', 'rb'))\n",
    "clf = pickle.load(open('models/clf.pkl', 'rb'))"
   ]
  },
  {
   "cell_type": "code",
   "execution_count": 47,
   "id": "47c33e6f-dde1-4f1d-a279-d4712140b9da",
   "metadata": {},
   "outputs": [],
   "source": [
    "# assume user input\n",
    "# Pclass/gender/age/SibSp/Parch/Fare/Embarked\n",
    "test_input = np.array([2, 'male', 31.0, 0, 0, 10.5, 'S'], dtype = object).reshape(1, 7)"
   ]
  },
  {
   "cell_type": "code",
   "execution_count": 49,
   "id": "e594a698-9f57-4bcb-99ff-820d91f53844",
   "metadata": {},
   "outputs": [
    {
     "data": {
      "text/plain": [
       "array([[2, 'male', 31.0, 0, 0, 10.5, 'S']], dtype=object)"
      ]
     },
     "execution_count": 49,
     "metadata": {},
     "output_type": "execute_result"
    }
   ],
   "source": [
    "test_input"
   ]
  },
  {
   "cell_type": "code",
   "execution_count": 53,
   "id": "ff019656-4dc4-4a7d-b3ab-926d136da152",
   "metadata": {},
   "outputs": [
    {
     "name": "stderr",
     "output_type": "stream",
     "text": [
      "C:\\Users\\Nadim Ansari\\anaconda3\\Lib\\site-packages\\sklearn\\base.py:493: UserWarning: X does not have valid feature names, but OneHotEncoder was fitted with feature names\n",
      "  warnings.warn(\n"
     ]
    }
   ],
   "source": [
    "test_input_sex = ohe_sex.transform(test_input[:,1].reshape(1, 1))"
   ]
  },
  {
   "cell_type": "code",
   "execution_count": 54,
   "id": "57723626-6ce0-4660-8f29-2d0687e35b8c",
   "metadata": {},
   "outputs": [
    {
     "data": {
      "text/plain": [
       "array([[0., 1.]])"
      ]
     },
     "execution_count": 54,
     "metadata": {},
     "output_type": "execute_result"
    }
   ],
   "source": [
    "test_input_sex"
   ]
  },
  {
   "cell_type": "code",
   "execution_count": 55,
   "id": "bede58c9-f12a-445b-a1eb-666522b54fdf",
   "metadata": {},
   "outputs": [],
   "source": [
    "test_input_embarked = ohe_embarked.transform(test_input[:, -1].reshape(1, 1))"
   ]
  },
  {
   "cell_type": "code",
   "execution_count": 59,
   "id": "c95ab4ad-e569-4dba-8d29-112143283455",
   "metadata": {},
   "outputs": [
    {
     "data": {
      "text/plain": [
       "array([[0., 0., 1.]])"
      ]
     },
     "execution_count": 59,
     "metadata": {},
     "output_type": "execute_result"
    }
   ],
   "source": [
    "test_input_embarked"
   ]
  },
  {
   "cell_type": "code",
   "execution_count": 57,
   "id": "d611460a-76df-4b60-b8d2-f53e7b031e78",
   "metadata": {},
   "outputs": [],
   "source": [
    "test_input_age = test_input[:, 2].reshape(1, 1)"
   ]
  },
  {
   "cell_type": "code",
   "execution_count": 58,
   "id": "f5fb5370-f508-4202-8476-9463cf15ff73",
   "metadata": {},
   "outputs": [
    {
     "data": {
      "text/plain": [
       "array([[31.0]], dtype=object)"
      ]
     },
     "execution_count": 58,
     "metadata": {},
     "output_type": "execute_result"
    }
   ],
   "source": [
    "test_input_age"
   ]
  },
  {
   "cell_type": "code",
   "execution_count": 60,
   "id": "5178e219-0a55-4a46-a5b1-0aa60bdc7cb8",
   "metadata": {},
   "outputs": [],
   "source": [
    "test_input_transformed = np.concatenate((test_input[:,[0, 3, 4, 5]], test_input_age, test_input_sex, test_input_embarked), axis = 1)\n"
   ]
  },
  {
   "cell_type": "code",
   "execution_count": 61,
   "id": "893f39ad-5721-4a2a-af76-4d38cf717cd5",
   "metadata": {},
   "outputs": [
    {
     "data": {
      "text/plain": [
       "(1, 10)"
      ]
     },
     "execution_count": 61,
     "metadata": {},
     "output_type": "execute_result"
    }
   ],
   "source": [
    "test_input_transformed.shape"
   ]
  },
  {
   "cell_type": "code",
   "execution_count": 62,
   "id": "b31b11da-c6c2-469e-a3d8-059d95b5a0c7",
   "metadata": {},
   "outputs": [
    {
     "data": {
      "text/plain": [
       "array([0], dtype=int64)"
      ]
     },
     "execution_count": 62,
     "metadata": {},
     "output_type": "execute_result"
    }
   ],
   "source": [
    "clf.predict(test_input_transformed)"
   ]
  },
  {
   "cell_type": "code",
   "execution_count": null,
   "id": "bf6c8edf-4cdc-48b8-b0b9-b02f7827bb8f",
   "metadata": {},
   "outputs": [],
   "source": []
  }
 ],
 "metadata": {
  "kernelspec": {
   "display_name": "Python 3 (ipykernel)",
   "language": "python",
   "name": "python3"
  },
  "language_info": {
   "codemirror_mode": {
    "name": "ipython",
    "version": 3
   },
   "file_extension": ".py",
   "mimetype": "text/x-python",
   "name": "python",
   "nbconvert_exporter": "python",
   "pygments_lexer": "ipython3",
   "version": "3.12.7"
  }
 },
 "nbformat": 4,
 "nbformat_minor": 5
}
